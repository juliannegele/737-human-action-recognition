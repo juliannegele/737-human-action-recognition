{
 "cells": [
  {
   "cell_type": "markdown",
   "id": "adafda7e",
   "metadata": {},
   "source": [
    "# Imports"
   ]
  },
  {
   "cell_type": "code",
   "execution_count": 1,
   "id": "a5378148",
   "metadata": {},
   "outputs": [],
   "source": [
    "import pandas as pd\n",
    "import numpy as np\n",
    "\n",
    "import matplotlib.pyplot as plt\n",
    "\n",
    "import os\n",
    "\n",
    "from moviepy.editor import *\n",
    "\n",
    "import pytube\n",
    "from pytube import YouTube\n",
    "from pytube.exceptions import VideoUnavailable\n",
    "from pytube.exceptions import VideoPrivate, AgeRestrictedError, \\\n",
    "LiveStreamError, RecordingUnavailable, MembersOnly, VideoRegionBlocked\n",
    "\n",
    "from google.cloud import storage\n",
    "from googleapiclient.discovery import build\n",
    "\n",
    "import time\n",
    "import timeout_decorator\n",
    "from timeout_decorator import TimeoutError"
   ]
  },
  {
   "cell_type": "markdown",
   "id": "fdb8f336",
   "metadata": {},
   "source": [
    "# Global Variables"
   ]
  },
  {
   "cell_type": "code",
   "execution_count": 2,
   "id": "c6678994",
   "metadata": {},
   "outputs": [],
   "source": [
    "URL = \"https://www.youtube.com/watch?v=\"\n",
    "\n",
    "PATH = \"/home/lockke/code/Koprivnica/737-human-action-recognition/737-human-action-recognition/data/\""
   ]
  },
  {
   "cell_type": "markdown",
   "id": "a337833f",
   "metadata": {},
   "source": [
    "# Functions"
   ]
  },
  {
   "cell_type": "code",
   "execution_count": 3,
   "id": "f1f667ba",
   "metadata": {},
   "outputs": [],
   "source": [
    "# In order to properly work, functions need following imports:\n",
    "# import time\n",
    "# import timeout_decorator\n",
    "# from timeout_decorator import TimeoutError\n",
    "\n",
    "# @timeout_decorator around downloadVideo() function is interupting the download if download lasts more than 5 seconds,\n",
    "# by throwing an TimeoutError which is then cached with try: except loop in main function\n",
    "\n",
    "# tests:\n",
    "#    - 1. attempt - 100 datapoints, 55/100 successfully downloaded and clipped, 5min:20s\n",
    "#    - 2. attempt - 100 datapoints, 61/100 successfully downloaded and clipped, 3min:52s\n",
    "#    - 3. attempt - 100 datapoints, 58/100 successfully downloaded and clipped, 3min:40s\n",
    "#    - 4. attempt - 1000 datapoints, 657/100 successfully downloaded and clipped, 59min:18s\n",
    "\n",
    "\n",
    "# results would be better with hard connection instead of wifi (i will test it tomorrow)"
   ]
  },
  {
   "cell_type": "code",
   "execution_count": 4,
   "id": "988fd377",
   "metadata": {},
   "outputs": [],
   "source": [
    "@timeout_decorator.timeout(5, use_signals=False)\n",
    "def downloadVideo(data):\n",
    "    video = YouTube(URL + data.youtube_id)\n",
    "    video.streams.get_by_itag(18).download(PATH + \"download/\", filename = f\"{data.label}_{data.youtube_id}.mp4\")"
   ]
  },
  {
   "cell_type": "code",
   "execution_count": 5,
   "id": "5acc418b",
   "metadata": {},
   "outputs": [],
   "source": [
    "def clipVideo(data, fps = 1):\n",
    "    if os.path.isfile(PATH + \"download/\" + f\"{data.label}_{data.youtube_id}.mp4\"):\n",
    "        video_clip = VideoFileClip(PATH + \"download/\" + f\"{data.label}_{data.youtube_id}.mp4\", verbose = False)\n",
    "        if int(video_clip.duration) == 10:\n",
    "            video_clip = video_clip.subclip(0, 10)\n",
    "            video_clip.write_videofile(PATH + \"upload/\" + f\"{data.label}_{data.youtube_id}.mp4\", fps = fps, logger = None)\n",
    "            os.remove(PATH + \"download/\" + f\"{data.label}_{data.youtube_id}.mp4\")\n",
    "        elif video_clip.duration < data.time_end:\n",
    "            if video_clip.duration > 10:\n",
    "                video_clip = video_clip.subclip(video_clip.duration - 10, video_clip.duration)\n",
    "                video_clip.write_videofile(PATH + \"upload/\" + f\"{data.label}_{data.youtube_id}.mp4\", fps = fps, logger = None)\n",
    "                os.remove(PATH + \"download/\" + f\"{data.label}_{data.youtube_id}.mp4\")\n",
    "            else:\n",
    "                os.remove(PATH + \"download/\" + f\"{data.label}_{data.youtube_id}.mp4\")\n",
    "                return False\n",
    "        else:\n",
    "            video_clip = video_clip.subclip(data.time_start, data.time_end)\n",
    "            video_clip.write_videofile(PATH + \"upload/\" + f\"{data.label}_{data.youtube_id}.mp4\", fps = fps, logger = None)\n",
    "            os.remove(PATH + \"download/\" + f\"{data.label}_{data.youtube_id}.mp4\")\n",
    "    return True"
   ]
  },
  {
   "cell_type": "code",
   "execution_count": 6,
   "id": "e01d99bb",
   "metadata": {},
   "outputs": [],
   "source": [
    "# initializing client and bucket\n",
    "\n",
    "client = storage.Client.from_service_account_json(\"/home/lockke/code/Koprivnica/gcp/peppy-webbing-332911-743c3173bc03.json\")\n",
    "bucket = client.get_bucket('737-human-action-recognition-bucket')"
   ]
  },
  {
   "cell_type": "code",
   "execution_count": 7,
   "id": "0cb9d88c",
   "metadata": {},
   "outputs": [],
   "source": [
    "# code validation required\n",
    "\n",
    "def uploadCloud(data):\n",
    "    if os.path.isfile(PATH + \"upload/\" + f\"{data.label}_{data.youtube_id}.mp4\"):\n",
    "        blob = bucket.blob(f\"train_data/{data.label}/{data.label}_{data.youtube_id}.mp4\")\n",
    "        blob.upload_from_filename(PATH + \"upload/\" + f\"{data.label}_{data.youtube_id}.mp4\")\n",
    "        return True\n",
    "        #os.remove(PATH + \"upload/\" + f\"{data.label}_{data.youtube_id}.mp4\")"
   ]
  },
  {
   "cell_type": "markdown",
   "id": "da4b487c",
   "metadata": {},
   "source": [
    "# Real Work"
   ]
  },
  {
   "cell_type": "markdown",
   "id": "bd2493ee",
   "metadata": {},
   "source": [
    "## Preparing my part of dataset"
   ]
  },
  {
   "cell_type": "code",
   "execution_count": 8,
   "id": "be94b7de",
   "metadata": {},
   "outputs": [],
   "source": [
    "df = pd.read_csv(\"/home/lockke/code/Koprivnica/737-human-action-recognition/raw_data/train_reduced.csv\")"
   ]
  },
  {
   "cell_type": "code",
   "execution_count": 9,
   "id": "69d0d089",
   "metadata": {},
   "outputs": [
    {
     "data": {
      "text/plain": [
       "(77000, 5)"
      ]
     },
     "execution_count": 9,
     "metadata": {},
     "output_type": "execute_result"
    }
   ],
   "source": [
    "df.shape"
   ]
  },
  {
   "cell_type": "code",
   "execution_count": 10,
   "id": "74350190",
   "metadata": {},
   "outputs": [
    {
     "data": {
      "text/html": [
       "<div>\n",
       "<style scoped>\n",
       "    .dataframe tbody tr th:only-of-type {\n",
       "        vertical-align: middle;\n",
       "    }\n",
       "\n",
       "    .dataframe tbody tr th {\n",
       "        vertical-align: top;\n",
       "    }\n",
       "\n",
       "    .dataframe thead th {\n",
       "        text-align: right;\n",
       "    }\n",
       "</style>\n",
       "<table border=\"1\" class=\"dataframe\">\n",
       "  <thead>\n",
       "    <tr style=\"text-align: right;\">\n",
       "      <th></th>\n",
       "      <th>label</th>\n",
       "      <th>youtube_id</th>\n",
       "      <th>time_start</th>\n",
       "      <th>time_end</th>\n",
       "      <th>split</th>\n",
       "    </tr>\n",
       "  </thead>\n",
       "  <tbody>\n",
       "    <tr>\n",
       "      <th>0</th>\n",
       "      <td>clay pottery making</td>\n",
       "      <td>LHtsiogBKvM</td>\n",
       "      <td>34</td>\n",
       "      <td>44</td>\n",
       "      <td>train</td>\n",
       "    </tr>\n",
       "    <tr>\n",
       "      <th>1</th>\n",
       "      <td>clay pottery making</td>\n",
       "      <td>K4O9S_gpgbY</td>\n",
       "      <td>64</td>\n",
       "      <td>74</td>\n",
       "      <td>train</td>\n",
       "    </tr>\n",
       "    <tr>\n",
       "      <th>2</th>\n",
       "      <td>clay pottery making</td>\n",
       "      <td>kVAScTNRnwA</td>\n",
       "      <td>72</td>\n",
       "      <td>82</td>\n",
       "      <td>train</td>\n",
       "    </tr>\n",
       "    <tr>\n",
       "      <th>3</th>\n",
       "      <td>clay pottery making</td>\n",
       "      <td>RE9bEWMzVtg</td>\n",
       "      <td>0</td>\n",
       "      <td>10</td>\n",
       "      <td>train</td>\n",
       "    </tr>\n",
       "    <tr>\n",
       "      <th>4</th>\n",
       "      <td>clay pottery making</td>\n",
       "      <td>4mbdJHOnPuA</td>\n",
       "      <td>1</td>\n",
       "      <td>11</td>\n",
       "      <td>train</td>\n",
       "    </tr>\n",
       "  </tbody>\n",
       "</table>\n",
       "</div>"
      ],
      "text/plain": [
       "                 label   youtube_id  time_start  time_end  split\n",
       "0  clay pottery making  LHtsiogBKvM          34        44  train\n",
       "1  clay pottery making  K4O9S_gpgbY          64        74  train\n",
       "2  clay pottery making  kVAScTNRnwA          72        82  train\n",
       "3  clay pottery making  RE9bEWMzVtg           0        10  train\n",
       "4  clay pottery making  4mbdJHOnPuA           1        11  train"
      ]
     },
     "execution_count": 10,
     "metadata": {},
     "output_type": "execute_result"
    }
   ],
   "source": [
    "df.head()"
   ]
  },
  {
   "cell_type": "code",
   "execution_count": 11,
   "id": "6b30c347",
   "metadata": {},
   "outputs": [
    {
     "data": {
      "text/html": [
       "<div>\n",
       "<style scoped>\n",
       "    .dataframe tbody tr th:only-of-type {\n",
       "        vertical-align: middle;\n",
       "    }\n",
       "\n",
       "    .dataframe tbody tr th {\n",
       "        vertical-align: top;\n",
       "    }\n",
       "\n",
       "    .dataframe thead th {\n",
       "        text-align: right;\n",
       "    }\n",
       "</style>\n",
       "<table border=\"1\" class=\"dataframe\">\n",
       "  <thead>\n",
       "    <tr style=\"text-align: right;\">\n",
       "      <th></th>\n",
       "      <th>label</th>\n",
       "      <th>youtube_id</th>\n",
       "      <th>time_start</th>\n",
       "      <th>time_end</th>\n",
       "      <th>split</th>\n",
       "    </tr>\n",
       "  </thead>\n",
       "  <tbody>\n",
       "    <tr>\n",
       "      <th>76995</th>\n",
       "      <td>breaking glass</td>\n",
       "      <td>bwEJAObcdxc</td>\n",
       "      <td>24</td>\n",
       "      <td>34</td>\n",
       "      <td>train</td>\n",
       "    </tr>\n",
       "    <tr>\n",
       "      <th>76996</th>\n",
       "      <td>breaking glass</td>\n",
       "      <td>iUZnFrbDX9U</td>\n",
       "      <td>13</td>\n",
       "      <td>23</td>\n",
       "      <td>train</td>\n",
       "    </tr>\n",
       "    <tr>\n",
       "      <th>76997</th>\n",
       "      <td>breaking glass</td>\n",
       "      <td>QesfpvuqDOk</td>\n",
       "      <td>7</td>\n",
       "      <td>17</td>\n",
       "      <td>train</td>\n",
       "    </tr>\n",
       "    <tr>\n",
       "      <th>76998</th>\n",
       "      <td>breaking glass</td>\n",
       "      <td>wJOzuYXBaO8</td>\n",
       "      <td>0</td>\n",
       "      <td>10</td>\n",
       "      <td>train</td>\n",
       "    </tr>\n",
       "    <tr>\n",
       "      <th>76999</th>\n",
       "      <td>breaking glass</td>\n",
       "      <td>GjOO4z2Phd4</td>\n",
       "      <td>0</td>\n",
       "      <td>10</td>\n",
       "      <td>train</td>\n",
       "    </tr>\n",
       "  </tbody>\n",
       "</table>\n",
       "</div>"
      ],
      "text/plain": [
       "                label   youtube_id  time_start  time_end  split\n",
       "76995  breaking glass  bwEJAObcdxc          24        34  train\n",
       "76996  breaking glass  iUZnFrbDX9U          13        23  train\n",
       "76997  breaking glass  QesfpvuqDOk           7        17  train\n",
       "76998  breaking glass  wJOzuYXBaO8           0        10  train\n",
       "76999  breaking glass  GjOO4z2Phd4           0        10  train"
      ]
     },
     "execution_count": 11,
     "metadata": {},
     "output_type": "execute_result"
    }
   ],
   "source": [
    "df.tail()"
   ]
  },
  {
   "cell_type": "code",
   "execution_count": 12,
   "id": "ef84aeaa",
   "metadata": {},
   "outputs": [
    {
     "data": {
      "text/plain": [
       "label         mopping floor\n",
       "youtube_id      kFVPkQKat94\n",
       "time_start               66\n",
       "time_end                 76\n",
       "split                 train\n",
       "Name: 52502, dtype: object"
      ]
     },
     "execution_count": 12,
     "metadata": {},
     "output_type": "execute_result"
    }
   ],
   "source": [
    "df.loc[52502]"
   ]
  },
  {
   "cell_type": "code",
   "execution_count": 13,
   "id": "30f4cfa6",
   "metadata": {},
   "outputs": [
    {
     "data": {
      "text/plain": [
       "clay pottery making             110\n",
       "laughing                        110\n",
       "wading through mud              110\n",
       "changing wheel (not on bike)    110\n",
       "getting a piercing              110\n",
       "                               ... \n",
       "golf driving                    110\n",
       "casting fishing line            110\n",
       "punching bag                    110\n",
       "sleeping                        110\n",
       "breaking glass                  110\n",
       "Name: label, Length: 700, dtype: int64"
      ]
     },
     "execution_count": 13,
     "metadata": {},
     "output_type": "execute_result"
    }
   ],
   "source": [
    "df[\"label\"].value_counts()"
   ]
  },
  {
   "cell_type": "code",
   "execution_count": 14,
   "id": "e782d892",
   "metadata": {},
   "outputs": [],
   "source": [
    "labels = df[\"label\"].unique()[525:]\n",
    "df = df[df[\"label\"].isin(labels)].reset_index()"
   ]
  },
  {
   "cell_type": "code",
   "execution_count": 15,
   "id": "6f69ef84",
   "metadata": {},
   "outputs": [
    {
     "data": {
      "text/html": [
       "<div>\n",
       "<style scoped>\n",
       "    .dataframe tbody tr th:only-of-type {\n",
       "        vertical-align: middle;\n",
       "    }\n",
       "\n",
       "    .dataframe tbody tr th {\n",
       "        vertical-align: top;\n",
       "    }\n",
       "\n",
       "    .dataframe thead th {\n",
       "        text-align: right;\n",
       "    }\n",
       "</style>\n",
       "<table border=\"1\" class=\"dataframe\">\n",
       "  <thead>\n",
       "    <tr style=\"text-align: right;\">\n",
       "      <th></th>\n",
       "      <th>index</th>\n",
       "      <th>label</th>\n",
       "      <th>youtube_id</th>\n",
       "      <th>time_start</th>\n",
       "      <th>time_end</th>\n",
       "      <th>split</th>\n",
       "    </tr>\n",
       "  </thead>\n",
       "  <tbody>\n",
       "    <tr>\n",
       "      <th>0</th>\n",
       "      <td>57750</td>\n",
       "      <td>chiseling wood</td>\n",
       "      <td>vglFM8FPf68</td>\n",
       "      <td>45</td>\n",
       "      <td>55</td>\n",
       "      <td>train</td>\n",
       "    </tr>\n",
       "    <tr>\n",
       "      <th>1</th>\n",
       "      <td>57751</td>\n",
       "      <td>chiseling wood</td>\n",
       "      <td>VNORa36t2FU</td>\n",
       "      <td>24</td>\n",
       "      <td>34</td>\n",
       "      <td>train</td>\n",
       "    </tr>\n",
       "    <tr>\n",
       "      <th>2</th>\n",
       "      <td>57752</td>\n",
       "      <td>chiseling wood</td>\n",
       "      <td>fy7o8xDBsms</td>\n",
       "      <td>12</td>\n",
       "      <td>22</td>\n",
       "      <td>train</td>\n",
       "    </tr>\n",
       "    <tr>\n",
       "      <th>3</th>\n",
       "      <td>57753</td>\n",
       "      <td>chiseling wood</td>\n",
       "      <td>7-QF8ltNa04</td>\n",
       "      <td>27</td>\n",
       "      <td>37</td>\n",
       "      <td>train</td>\n",
       "    </tr>\n",
       "    <tr>\n",
       "      <th>4</th>\n",
       "      <td>57754</td>\n",
       "      <td>chiseling wood</td>\n",
       "      <td>YhZe_Vq2ZpM</td>\n",
       "      <td>4</td>\n",
       "      <td>14</td>\n",
       "      <td>train</td>\n",
       "    </tr>\n",
       "    <tr>\n",
       "      <th>...</th>\n",
       "      <td>...</td>\n",
       "      <td>...</td>\n",
       "      <td>...</td>\n",
       "      <td>...</td>\n",
       "      <td>...</td>\n",
       "      <td>...</td>\n",
       "    </tr>\n",
       "    <tr>\n",
       "      <th>19245</th>\n",
       "      <td>76995</td>\n",
       "      <td>breaking glass</td>\n",
       "      <td>bwEJAObcdxc</td>\n",
       "      <td>24</td>\n",
       "      <td>34</td>\n",
       "      <td>train</td>\n",
       "    </tr>\n",
       "    <tr>\n",
       "      <th>19246</th>\n",
       "      <td>76996</td>\n",
       "      <td>breaking glass</td>\n",
       "      <td>iUZnFrbDX9U</td>\n",
       "      <td>13</td>\n",
       "      <td>23</td>\n",
       "      <td>train</td>\n",
       "    </tr>\n",
       "    <tr>\n",
       "      <th>19247</th>\n",
       "      <td>76997</td>\n",
       "      <td>breaking glass</td>\n",
       "      <td>QesfpvuqDOk</td>\n",
       "      <td>7</td>\n",
       "      <td>17</td>\n",
       "      <td>train</td>\n",
       "    </tr>\n",
       "    <tr>\n",
       "      <th>19248</th>\n",
       "      <td>76998</td>\n",
       "      <td>breaking glass</td>\n",
       "      <td>wJOzuYXBaO8</td>\n",
       "      <td>0</td>\n",
       "      <td>10</td>\n",
       "      <td>train</td>\n",
       "    </tr>\n",
       "    <tr>\n",
       "      <th>19249</th>\n",
       "      <td>76999</td>\n",
       "      <td>breaking glass</td>\n",
       "      <td>GjOO4z2Phd4</td>\n",
       "      <td>0</td>\n",
       "      <td>10</td>\n",
       "      <td>train</td>\n",
       "    </tr>\n",
       "  </tbody>\n",
       "</table>\n",
       "<p>19250 rows × 6 columns</p>\n",
       "</div>"
      ],
      "text/plain": [
       "       index           label   youtube_id  time_start  time_end  split\n",
       "0      57750  chiseling wood  vglFM8FPf68          45        55  train\n",
       "1      57751  chiseling wood  VNORa36t2FU          24        34  train\n",
       "2      57752  chiseling wood  fy7o8xDBsms          12        22  train\n",
       "3      57753  chiseling wood  7-QF8ltNa04          27        37  train\n",
       "4      57754  chiseling wood  YhZe_Vq2ZpM           4        14  train\n",
       "...      ...             ...          ...         ...       ...    ...\n",
       "19245  76995  breaking glass  bwEJAObcdxc          24        34  train\n",
       "19246  76996  breaking glass  iUZnFrbDX9U          13        23  train\n",
       "19247  76997  breaking glass  QesfpvuqDOk           7        17  train\n",
       "19248  76998  breaking glass  wJOzuYXBaO8           0        10  train\n",
       "19249  76999  breaking glass  GjOO4z2Phd4           0        10  train\n",
       "\n",
       "[19250 rows x 6 columns]"
      ]
     },
     "execution_count": 15,
     "metadata": {},
     "output_type": "execute_result"
    }
   ],
   "source": [
    "df"
   ]
  },
  {
   "cell_type": "code",
   "execution_count": 16,
   "id": "a149586f",
   "metadata": {},
   "outputs": [
    {
     "data": {
      "text/plain": [
       "(19250, 6)"
      ]
     },
     "execution_count": 16,
     "metadata": {},
     "output_type": "execute_result"
    }
   ],
   "source": [
    "df.shape"
   ]
  },
  {
   "cell_type": "code",
   "execution_count": 17,
   "id": "56b8825f",
   "metadata": {},
   "outputs": [
    {
     "data": {
      "text/plain": [
       "19250"
      ]
     },
     "execution_count": 17,
     "metadata": {},
     "output_type": "execute_result"
    }
   ],
   "source": [
    "len(df)"
   ]
  },
  {
   "cell_type": "code",
   "execution_count": 18,
   "id": "522261a5",
   "metadata": {},
   "outputs": [
    {
     "data": {
      "text/plain": [
       "chiseling wood           110\n",
       "air drumming             110\n",
       "picking blueberries      110\n",
       "being in zero gravity    110\n",
       "dumpster diving          110\n",
       "                        ... \n",
       "playing basketball       110\n",
       "needle felting           110\n",
       "carving marble           110\n",
       "laying tiles             110\n",
       "breaking glass           110\n",
       "Name: label, Length: 175, dtype: int64"
      ]
     },
     "execution_count": 18,
     "metadata": {},
     "output_type": "execute_result"
    }
   ],
   "source": [
    "df[\"label\"].value_counts()"
   ]
  },
  {
   "cell_type": "code",
   "execution_count": 19,
   "id": "d721bff6",
   "metadata": {},
   "outputs": [
    {
     "data": {
      "text/plain": [
       "index                 60279\n",
       "label         yarn spinning\n",
       "youtube_id      47y24Dh1Xjw\n",
       "time_start               54\n",
       "time_end                 64\n",
       "split                 train\n",
       "Name: 2529, dtype: object"
      ]
     },
     "execution_count": 19,
     "metadata": {},
     "output_type": "execute_result"
    }
   ],
   "source": [
    "df.loc[2529]"
   ]
  },
  {
   "cell_type": "markdown",
   "id": "2cb5af78",
   "metadata": {},
   "source": [
    "## Downloading, clipping and uploading"
   ]
  },
  {
   "cell_type": "code",
   "execution_count": 20,
   "id": "0a1d5f7b",
   "metadata": {
    "scrolled": false
   },
   "outputs": [
    {
     "name": "stdout",
     "output_type": "stream",
     "text": [
      "------------------------------\n",
      "0 (chiseling wood_vglFM8FPf68)\n",
      "----- downloaded! -----\n",
      "----- clipped! -----\n",
      "----- uploaded! -----\n",
      "------------------------------\n",
      "Number of successfully downloaded and clipped videos: 1 / 1\n",
      "CPU times: user 301 ms, sys: 200 ms, total: 501 ms\n",
      "Wall time: 6 s\n"
     ]
    }
   ],
   "source": [
    "%%time\n",
    "\n",
    "n_start = 0\n",
    "n_stop = 1\n",
    "\n",
    "counter = 0\n",
    "\n",
    "for i in range(n_start, n_stop):\n",
    "    print(\"------------------------------\")\n",
    "    print(f\"{i} ({df.label[i]}_{df.youtube_id[i]})\")\n",
    "    try:\n",
    "        downloadVideo(df.loc[i])\n",
    "        print(\"----- downloaded! -----\")\n",
    "        \n",
    "        if clipVideo(df.loc[i], fps = 10):\n",
    "            print(\"----- clipped! -----\")\n",
    "            counter += 1\n",
    "        else:\n",
    "            print(\"----- NOT CLIPPED! -----\")\n",
    "        \n",
    "        if uploadCloud(df.loc[i]):\n",
    "            print(\"----- uploaded! -----\")\n",
    "\n",
    "    except (TimeoutError, KeyError, VideoUnavailable, VideoPrivate, OSError, IndexError, AttributeError,\\\n",
    "            AgeRestrictedError, LiveStreamError, RecordingUnavailable, MembersOnly, VideoRegionBlocked):\n",
    "        print(\"--- NOT DOWNLOADED! ---\")\n",
    "        if os.path.isfile(PATH + \"download/\" + f\"{df.loc[i].label}_{df.loc[i].youtube_id}.mp4\"):\n",
    "            os.remove(PATH + \"download/\" + f\"{df.loc[i].label}_{df.loc[i].youtube_id}.mp4\")\n",
    "        pass\n",
    "    \n",
    "    print(\"------------------------------\")\n",
    "\n",
    "print(f\"Number of successfully downloaded and clipped videos: {counter} / {n_stop - n_start}\")"
   ]
  },
  {
   "cell_type": "markdown",
   "id": "58d976fe",
   "metadata": {},
   "source": [
    "# Testing and stuff"
   ]
  },
  {
   "cell_type": "code",
   "execution_count": 21,
   "id": "790c6fd1",
   "metadata": {},
   "outputs": [
    {
     "data": {
      "text/plain": [
       "1"
      ]
     },
     "execution_count": 21,
     "metadata": {},
     "output_type": "execute_result"
    }
   ],
   "source": [
    "# getting the list of file names\n",
    "\n",
    "file_names = os.listdir(PATH + \"upload/\")\n",
    "\n",
    "len(file_names)"
   ]
  },
  {
   "cell_type": "code",
   "execution_count": 22,
   "id": "8e4170a7",
   "metadata": {},
   "outputs": [
    {
     "data": {
      "text/plain": [
       "1"
      ]
     },
     "execution_count": 22,
     "metadata": {},
     "output_type": "execute_result"
    }
   ],
   "source": [
    "len(file_names)   "
   ]
  },
  {
   "cell_type": "code",
   "execution_count": 23,
   "id": "55185db9",
   "metadata": {},
   "outputs": [
    {
     "name": "stdout",
     "output_type": "stream",
     "text": [
      "chiseling wood_vglFM8FPf68.mp4 - uploaded!\n"
     ]
    }
   ],
   "source": [
    "# uploading to GCP\n",
    "counter = 0\n",
    "\n",
    "for elem in file_names:\n",
    "    try:\n",
    "        gcp_folder = elem.split(\"_\")[0]\n",
    "    \n",
    "        blob = bucket.blob(f\"train_data/{gcp_folder}/{elem}\")\n",
    "        blob.upload_from_filename(PATH + \"upload/\" + f\"{elem}\")\n",
    "        print(f\"{elem} - uploaded!\")\n",
    "    \n",
    "    except FileNotFoundError:\n",
    "        print(f\"{elem} - NOT FOUND!\")\n",
    "        counter += 1\n",
    "        pass"
   ]
  },
  {
   "cell_type": "code",
   "execution_count": 129,
   "id": "6e24eed8",
   "metadata": {},
   "outputs": [
    {
     "data": {
      "text/plain": [
       "'train_data/yoga/yoga_2WnSJQvhV0E.mp4'"
      ]
     },
     "execution_count": 129,
     "metadata": {},
     "output_type": "execute_result"
    }
   ],
   "source": [
    "f\"train_data/{gcp_folder}/{elem}\""
   ]
  },
  {
   "cell_type": "code",
   "execution_count": 130,
   "id": "b3616e68",
   "metadata": {},
   "outputs": [
    {
     "data": {
      "text/plain": [
       "'/home/lockke/code/Koprivnica/737-human-action-recognition/737-human-action-recognition/data/upload/yoga_2WnSJQvhV0E.mp4'"
      ]
     },
     "execution_count": 130,
     "metadata": {},
     "output_type": "execute_result"
    }
   ],
   "source": [
    "PATH + \"upload/\" + f\"{elem}\""
   ]
  },
  {
   "cell_type": "code",
   "execution_count": null,
   "id": "40404d3b",
   "metadata": {},
   "outputs": [],
   "source": []
  },
  {
   "cell_type": "code",
   "execution_count": 176,
   "id": "7bb2af57",
   "metadata": {},
   "outputs": [
    {
     "name": "stdout",
     "output_type": "stream",
     "text": [
      "---------------\n",
      "8765 (yicaWdZhcfw) - downloaded!\n",
      "---------------\n",
      "8765 (yicaWdZhcfw) - FAILED!\n",
      "---------------\n",
      "Number of successfully downloaded and clipped videos: 0 / 1\n",
      "CPU times: user 21 ms, sys: 70.6 ms, total: 91.7 ms\n",
      "Wall time: 1.57 s\n"
     ]
    }
   ],
   "source": [
    "%%time\n",
    "\n",
    "n_start = 8765\n",
    "n_stop = 8766\n",
    "\n",
    "counter = 0\n",
    "\n",
    "for i in range(n_start, n_stop):\n",
    "    try:\n",
    "        downloadVideo(df.loc[i])\n",
    "        print(\"---------------\")\n",
    "        print(f\"{i} ({df.youtube_id[i]}) - downloaded!\")\n",
    "        \n",
    "        if clipVideo(df.loc[i], fps = 10):\n",
    "            print(f\"{i} ({df.youtube_id[i]}) - clipped!\")\n",
    "            print(\"---------------\")\n",
    "            counter += 1\n",
    "        else:\n",
    "            print(f\"{i} ({df.youtube_id[i]}) - NOT CLIPPED!\")\n",
    "            print(\"---------------\")\n",
    "        \n",
    "        if uploadCloud(df.loc[i]):\n",
    "            print(\"---------------\")\n",
    "            print(f\"{i} ({df.youtube_id[i]}) - uploaded!\")\n",
    "\n",
    "    except (TimeoutError, KeyError, VideoUnavailable, VideoPrivate, OSError,\\\n",
    "            AgeRestrictedError, LiveStreamError, RecordingUnavailable, MembersOnly, VideoRegionBlocked):\n",
    "        print(\"---------------\")\n",
    "        print(f\"{i} ({df.youtube_id[i]}) - FAILED!\")\n",
    "        print(\"---------------\")\n",
    "        if os.path.isfile(PATH + \"download/\" + f\"{df.loc[i].label}_{df.loc[i].youtube_id}.mp4\"):\n",
    "            os.remove(PATH + \"download/\" + f\"{df.loc[i].label}_{df.loc[i].youtube_id}.mp4\")\n",
    "        pass\n",
    "\n",
    "print(f\"Number of successfully downloaded and clipped videos: {counter} / {n_stop - n_start}\")"
   ]
  },
  {
   "cell_type": "code",
   "execution_count": 174,
   "id": "5d6a4141",
   "metadata": {},
   "outputs": [
    {
     "data": {
      "text/plain": [
       "index                  66515\n",
       "label         herding cattle\n",
       "youtube_id       yicaWdZhcfw\n",
       "time_start                31\n",
       "time_end                  41\n",
       "split                  train\n",
       "Name: 8765, dtype: object"
      ]
     },
     "execution_count": 174,
     "metadata": {},
     "output_type": "execute_result"
    }
   ],
   "source": [
    "df.loc[8765]"
   ]
  },
  {
   "cell_type": "code",
   "execution_count": null,
   "id": "1e5bce15",
   "metadata": {},
   "outputs": [],
   "source": []
  }
 ],
 "metadata": {
  "kernelspec": {
   "display_name": "Python 3 (ipykernel)",
   "language": "python",
   "name": "python3"
  },
  "language_info": {
   "codemirror_mode": {
    "name": "ipython",
    "version": 3
   },
   "file_extension": ".py",
   "mimetype": "text/x-python",
   "name": "python",
   "nbconvert_exporter": "python",
   "pygments_lexer": "ipython3",
   "version": "3.8.12"
  },
  "toc": {
   "base_numbering": 1,
   "nav_menu": {},
   "number_sections": true,
   "sideBar": true,
   "skip_h1_title": false,
   "title_cell": "Table of Contents",
   "title_sidebar": "Contents",
   "toc_cell": false,
   "toc_position": {},
   "toc_section_display": true,
   "toc_window_display": false
  }
 },
 "nbformat": 4,
 "nbformat_minor": 5
}
