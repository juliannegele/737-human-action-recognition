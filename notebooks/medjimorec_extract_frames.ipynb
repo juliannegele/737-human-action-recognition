{
 "cells": [
  {
   "cell_type": "code",
   "execution_count": 1,
   "id": "77000438",
   "metadata": {},
   "outputs": [],
   "source": [
    "import os\n",
    "import cv2"
   ]
  },
  {
   "cell_type": "code",
   "execution_count": 2,
   "id": "b4a8acb1",
   "metadata": {},
   "outputs": [],
   "source": [
    "SEQUENCE_LENGTH = 10\n",
    "IMAGE_HEIGHT = 64\n",
    "IMAGE_WIDTH = 64\n",
    "\n",
    "LOAD_PATH = \"/home/lockke/code/Koprivnica/737-human-action-recognition/737-human-action-recognition/data/kaggle_ds/\"\n",
    "\n",
    "# label folders in \"kaggle_frames\" should be created before this process, as \"cv2.imwrite\" cannot create folders\n",
    "SAVE_PATH = \"/home/lockke/code/Koprivnica/737-human-action-recognition/737-human-action-recognition/data/kaggle_frames/\""
   ]
  },
  {
   "cell_type": "code",
   "execution_count": null,
   "id": "e2948f91",
   "metadata": {},
   "outputs": [],
   "source": []
  },
  {
   "cell_type": "code",
   "execution_count": 87,
   "id": "242d6572",
   "metadata": {},
   "outputs": [],
   "source": [
    "# the function takes the video-file name, finds the file using \"LOAD_PATH\",\n",
    "# creates 10 (SEQUENCE_LENGTH) frames and saves them using \"SAVE_PATH\"\n",
    "\n",
    "def extractFrames(file):\n",
    "    label = file.split(\"_\")[1]\n",
    "    video_capture = cv2.VideoCapture(LOAD_PATH + label + \"/\" + file)\n",
    "    total_frames = int(video_capture.get(cv2.CAP_PROP_FRAME_COUNT))\n",
    "    skip_frames_window = int(total_frames / SEQUENCE_LENGTH)\n",
    "    \n",
    "    for frame_counter in range(SEQUENCE_LENGTH):\n",
    "        video_capture.set(cv2.CAP_PROP_POS_FRAMES, frame_counter * skip_frames_window)\n",
    "        success, frame = video_capture.read()\n",
    "        \n",
    "        if not success:\n",
    "            break\n",
    "            \n",
    "        resized_frame = cv2.resize(frame, (IMAGE_HEIGHT, IMAGE_WIDTH))\n",
    "        cv2.imwrite(SAVE_PATH + label + \"/\"+ f\"{file[0: -4]}_{frame_counter}.jpeg\", frame)"
   ]
  },
  {
   "cell_type": "code",
   "execution_count": 88,
   "id": "f8f5e238",
   "metadata": {},
   "outputs": [],
   "source": [
    "def main():\n",
    "    counter = 0\n",
    "    \n",
    "    # get lists of folders(labels) and files in those folders\n",
    "    file_names = []\n",
    "    for root, dirs, files in os.walk(LOAD_PATH):\n",
    "        for file in files:\n",
    "            file_names.append(file)\n",
    "    \n",
    "    # extracting the frames from each file in the list\n",
    "    for file in file_names:\n",
    "        extractFrames(file)\n",
    "        counter += 1\n",
    "    \n",
    "    print(counter)"
   ]
  },
  {
   "cell_type": "code",
   "execution_count": 89,
   "id": "521b26c1",
   "metadata": {},
   "outputs": [
    {
     "name": "stdout",
     "output_type": "stream",
     "text": [
      "13320\n"
     ]
    }
   ],
   "source": [
    "main()"
   ]
  },
  {
   "cell_type": "code",
   "execution_count": null,
   "id": "91e4a8f3",
   "metadata": {},
   "outputs": [],
   "source": []
  }
 ],
 "metadata": {
  "kernelspec": {
   "display_name": "Python 3 (ipykernel)",
   "language": "python",
   "name": "python3"
  },
  "language_info": {
   "codemirror_mode": {
    "name": "ipython",
    "version": 3
   },
   "file_extension": ".py",
   "mimetype": "text/x-python",
   "name": "python",
   "nbconvert_exporter": "python",
   "pygments_lexer": "ipython3",
   "version": "3.8.12"
  },
  "toc": {
   "base_numbering": 1,
   "nav_menu": {},
   "number_sections": true,
   "sideBar": true,
   "skip_h1_title": false,
   "title_cell": "Table of Contents",
   "title_sidebar": "Contents",
   "toc_cell": false,
   "toc_position": {},
   "toc_section_display": true,
   "toc_window_display": false
  }
 },
 "nbformat": 4,
 "nbformat_minor": 5
}
