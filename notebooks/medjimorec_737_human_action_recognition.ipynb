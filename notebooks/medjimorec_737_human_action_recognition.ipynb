{
 "cells": [
  {
   "cell_type": "markdown",
   "id": "274e882b",
   "metadata": {},
   "source": [
    "# Imports"
   ]
  },
  {
   "cell_type": "code",
   "execution_count": 163,
   "id": "34553838",
   "metadata": {},
   "outputs": [],
   "source": [
    "import pandas as pd\n",
    "import numpy as np\n",
    "\n",
    "import matplotlib.pyplot as plt\n",
    "\n",
    "import os\n",
    "\n",
    "from moviepy.editor import *\n",
    "\n",
    "import pytube\n",
    "from pytube import YouTube\n",
    "from pytube.exceptions import VideoUnavailable\n",
    "from pytube.exceptions import VideoPrivate, AgeRestrictedError, \\\n",
    "LiveStreamError, RecordingUnavailable, MembersOnly, VideoRegionBlocked\n",
    "\n",
    "from google.cloud import storage\n",
    "from googleapiclient.discovery import build\n",
    "\n",
    "import time\n",
    "import timeout_decorator\n",
    "from timeout_decorator import TimeoutError"
   ]
  },
  {
   "cell_type": "markdown",
   "id": "fe498168",
   "metadata": {},
   "source": [
    "# Global Variables"
   ]
  },
  {
   "cell_type": "code",
   "execution_count": 164,
   "id": "1de2fdff",
   "metadata": {},
   "outputs": [],
   "source": [
    "URL = \"https://www.youtube.com/watch?v=\"\n",
    "\n",
    "PATH = \"/home/lockke/code/Koprivnica/737-human-action-recognition/737-human-action-recognition/data/\""
   ]
  },
  {
   "cell_type": "markdown",
   "id": "37adb922",
   "metadata": {},
   "source": [
    "# Functions"
   ]
  },
  {
   "cell_type": "code",
   "execution_count": 3,
   "id": "7c5b8aed",
   "metadata": {},
   "outputs": [],
   "source": [
    "# getting the csv file and dropping videos, which end_time is more than 300\n",
    "\n",
    "def get_data(x):\n",
    "    #reading the csv\n",
    "    df = pd.read_csv(PATH + \"train.csv\")\n",
    "    df = df.copy().head(x)\n",
    "    #dropping the videos, which end_time is higher than 300\n",
    "    df = df.drop(df.loc[df['time_end']>300].index).reset_index(drop=True)\n",
    "    return df"
   ]
  },
  {
   "cell_type": "code",
   "execution_count": 4,
   "id": "16c0bb50",
   "metadata": {},
   "outputs": [],
   "source": [
    "# droping videos longer than 300 seconds and adding column \"length\"\n",
    "\n",
    "def remove_long_videos(df):\n",
    "    test = df.copy()\n",
    "    #count is just for testing\n",
    "    count = 0\n",
    "    #list of all the lengths in order to build the new column\n",
    "    lengths = []\n",
    "    #iterating over through all the videos\n",
    "    for video in range(0,len(test)):\n",
    "        url = \"https://www.youtube.com/watch?v=\"+test.youtube_id[video]\n",
    "        yt = YouTube(url)\n",
    "        #handling error messages\n",
    "        try:\n",
    "            stream = yt.streams\n",
    "        except (KeyError,VideoPrivate,VideoUnavailable,AgeRestrictedError,LiveStreamError, RecordingUnavailable, MembersOnly, VideoRegionBlocked):\n",
    "            test.drop(video,inplace=True)\n",
    "            continue\n",
    "        #drop video if longer than 5min\n",
    "        if yt.length > 300:\n",
    "            test.drop(video,inplace=True)\n",
    "        #if video is already clipped, but end_time is higher than lenght of the video, we set new start and end points\n",
    "        elif yt.length == 10:\n",
    "            test.time_start[video] = 0\n",
    "            test.time_end[video] = yt.length\n",
    "            length = yt.length\n",
    "            lengths.append(length)\n",
    "        #if time_end greater than the length and it's not clipped we drop it\n",
    "        elif yt.length < test.time_end[video]:\n",
    "            test.drop(video,inplace=True)\n",
    "        #appending the lengths to the list     \n",
    "        else:\n",
    "            length = yt.length\n",
    "            lengths.append(length)\n",
    "        count = count +1\n",
    "        print(count)\n",
    "    #creating the new column    \n",
    "    test[\"lenghts\"] = lengths\n",
    "    #returning the new dataframe\n",
    "    return test.reset_index(drop=True)        "
   ]
  },
  {
   "cell_type": "code",
   "execution_count": 5,
   "id": "6067dfad",
   "metadata": {},
   "outputs": [],
   "source": [
    "# getting clean data\n",
    "\n",
    "def get_clean_data(x):\n",
    "    df = get_data(x)\n",
    "    df = remove_long_videos(df)\n",
    "    return df"
   ]
  },
  {
   "cell_type": "code",
   "execution_count": null,
   "id": "4d729a80",
   "metadata": {},
   "outputs": [],
   "source": []
  },
  {
   "cell_type": "markdown",
   "id": "451c9849",
   "metadata": {},
   "source": [
    "## Functions for Local Testing - IGNORE!"
   ]
  },
  {
   "cell_type": "code",
   "execution_count": 6,
   "id": "2c7a1b85",
   "metadata": {},
   "outputs": [],
   "source": [
    "fps = 1"
   ]
  },
  {
   "cell_type": "code",
   "execution_count": 36,
   "id": "048e8c99",
   "metadata": {},
   "outputs": [],
   "source": [
    "# downloading video\n",
    "\n",
    "def videoDownload(filename):\n",
    "    video = YouTube(URL + filename)\n",
    "    video.streams.get_by_itag(18).download(PATH + \"download/\", filename = f\"{df.label[i]}_{df.youtube_id[i]}.mp4\")"
   ]
  },
  {
   "cell_type": "code",
   "execution_count": 8,
   "id": "ff7437e8",
   "metadata": {},
   "outputs": [],
   "source": [
    "# clipping the video and removing the uncliped version\n",
    "\n",
    "def videoClip(filename, time_start, time_stop):\n",
    "    video_clip = VideoFileClip(PATH + \"download/\" + f\"{filename.label}_{filename.youtube_id}.mp4\")\n",
    "    video_clip = video_clip.subclip(time_start, time_stop)\n",
    "    video_clip.write_videofile(PATH + \"upload/\" + f\"{filename.label}_{filename.youtube_id}.mp4\", fps)\n",
    "    os.remove(PATH + \"download/\" + f\"{filename.label}_{filename.youtube_id}.mp4\")"
   ]
  },
  {
   "cell_type": "code",
   "execution_count": 9,
   "id": "3f7ab739",
   "metadata": {},
   "outputs": [],
   "source": [
    "# processing video\n",
    "\n",
    "def clip_upload(df):\n",
    "    for i in range(len(df)):\n",
    "        print(f\"---------- Video {i} ({df.loc[i].label}) processing ---------- \")\n",
    "        videoDownload(df.loc[i].youtube_id)\n",
    "        videoClip(df.loc[i].youtube_id, df.loc[i].time_start, df.loc[i].time_end)"
   ]
  },
  {
   "cell_type": "code",
   "execution_count": null,
   "id": "ff1d627d",
   "metadata": {},
   "outputs": [],
   "source": []
  },
  {
   "cell_type": "code",
   "execution_count": 10,
   "id": "8494c3d8",
   "metadata": {},
   "outputs": [],
   "source": [
    "# return YouTube API json\n",
    "\n",
    "def videoDuration(video_id):\n",
    "    searchUrl = \"https://www.googleapis.com/youtube/v3/videos?id=\" + video_id + \"&key=\" + API_KEY + \"&part=contentDetails\"\n",
    "    response = urllib.request.urlopen(searchUrl).read()\n",
    "    data = json.loads(response)\n",
    "    \n",
    "    return data"
   ]
  },
  {
   "cell_type": "markdown",
   "id": "61bee820",
   "metadata": {},
   "source": [
    "# Testing"
   ]
  },
  {
   "cell_type": "code",
   "execution_count": 23,
   "id": "4c8c2a65",
   "metadata": {},
   "outputs": [],
   "source": [
    "df = get_data(500000)"
   ]
  },
  {
   "cell_type": "code",
   "execution_count": 24,
   "id": "d80612a0",
   "metadata": {},
   "outputs": [
    {
     "data": {
      "text/plain": [
       "(467068, 5)"
      ]
     },
     "execution_count": 24,
     "metadata": {},
     "output_type": "execute_result"
    }
   ],
   "source": [
    "df.shape"
   ]
  },
  {
   "cell_type": "code",
   "execution_count": 153,
   "id": "89a976f9",
   "metadata": {},
   "outputs": [
    {
     "data": {
      "text/html": [
       "<div>\n",
       "<style scoped>\n",
       "    .dataframe tbody tr th:only-of-type {\n",
       "        vertical-align: middle;\n",
       "    }\n",
       "\n",
       "    .dataframe tbody tr th {\n",
       "        vertical-align: top;\n",
       "    }\n",
       "\n",
       "    .dataframe thead th {\n",
       "        text-align: right;\n",
       "    }\n",
       "</style>\n",
       "<table border=\"1\" class=\"dataframe\">\n",
       "  <thead>\n",
       "    <tr style=\"text-align: right;\">\n",
       "      <th></th>\n",
       "      <th>label</th>\n",
       "      <th>youtube_id</th>\n",
       "      <th>time_start</th>\n",
       "      <th>time_end</th>\n",
       "      <th>split</th>\n",
       "    </tr>\n",
       "  </thead>\n",
       "  <tbody>\n",
       "    <tr>\n",
       "      <th>0</th>\n",
       "      <td>clay pottery making</td>\n",
       "      <td>---0dWlqevI</td>\n",
       "      <td>19</td>\n",
       "      <td>29</td>\n",
       "      <td>train</td>\n",
       "    </tr>\n",
       "    <tr>\n",
       "      <th>1</th>\n",
       "      <td>news anchoring</td>\n",
       "      <td>---aQ-tA5_A</td>\n",
       "      <td>9</td>\n",
       "      <td>19</td>\n",
       "      <td>train</td>\n",
       "    </tr>\n",
       "    <tr>\n",
       "      <th>2</th>\n",
       "      <td>using bagging machine</td>\n",
       "      <td>---j12rm3WI</td>\n",
       "      <td>14</td>\n",
       "      <td>24</td>\n",
       "      <td>train</td>\n",
       "    </tr>\n",
       "    <tr>\n",
       "      <th>3</th>\n",
       "      <td>javelin throw</td>\n",
       "      <td>--07WQ2iBlw</td>\n",
       "      <td>1</td>\n",
       "      <td>11</td>\n",
       "      <td>train</td>\n",
       "    </tr>\n",
       "    <tr>\n",
       "      <th>4</th>\n",
       "      <td>climbing a rope</td>\n",
       "      <td>--0NTAs-fA0</td>\n",
       "      <td>29</td>\n",
       "      <td>39</td>\n",
       "      <td>train</td>\n",
       "    </tr>\n",
       "    <tr>\n",
       "      <th>5</th>\n",
       "      <td>sipping cup</td>\n",
       "      <td>--0l35AkU34</td>\n",
       "      <td>68</td>\n",
       "      <td>78</td>\n",
       "      <td>train</td>\n",
       "    </tr>\n",
       "    <tr>\n",
       "      <th>6</th>\n",
       "      <td>flipping pancake</td>\n",
       "      <td>--33Lscn6sk</td>\n",
       "      <td>4</td>\n",
       "      <td>14</td>\n",
       "      <td>train</td>\n",
       "    </tr>\n",
       "    <tr>\n",
       "      <th>7</th>\n",
       "      <td>tickling</td>\n",
       "      <td>--3OAstUWtU</td>\n",
       "      <td>45</td>\n",
       "      <td>55</td>\n",
       "      <td>train</td>\n",
       "    </tr>\n",
       "    <tr>\n",
       "      <th>8</th>\n",
       "      <td>watering plants</td>\n",
       "      <td>--3lTx87ebQ</td>\n",
       "      <td>23</td>\n",
       "      <td>33</td>\n",
       "      <td>train</td>\n",
       "    </tr>\n",
       "    <tr>\n",
       "      <th>9</th>\n",
       "      <td>eating spaghetti</td>\n",
       "      <td>--3ouPhoy2A</td>\n",
       "      <td>20</td>\n",
       "      <td>30</td>\n",
       "      <td>train</td>\n",
       "    </tr>\n",
       "  </tbody>\n",
       "</table>\n",
       "</div>"
      ],
      "text/plain": [
       "                   label   youtube_id  time_start  time_end  split\n",
       "0    clay pottery making  ---0dWlqevI          19        29  train\n",
       "1         news anchoring  ---aQ-tA5_A           9        19  train\n",
       "2  using bagging machine  ---j12rm3WI          14        24  train\n",
       "3          javelin throw  --07WQ2iBlw           1        11  train\n",
       "4        climbing a rope  --0NTAs-fA0          29        39  train\n",
       "5            sipping cup  --0l35AkU34          68        78  train\n",
       "6       flipping pancake  --33Lscn6sk           4        14  train\n",
       "7               tickling  --3OAstUWtU          45        55  train\n",
       "8        watering plants  --3lTx87ebQ          23        33  train\n",
       "9       eating spaghetti  --3ouPhoy2A          20        30  train"
      ]
     },
     "execution_count": 153,
     "metadata": {},
     "output_type": "execute_result"
    }
   ],
   "source": [
    "df.head(10)"
   ]
  },
  {
   "cell_type": "code",
   "execution_count": 26,
   "id": "e1a66b00",
   "metadata": {},
   "outputs": [
    {
     "data": {
      "text/plain": [
       "somersaulting                954\n",
       "front raises                 947\n",
       "eating ice cream             945\n",
       "slapping                     943\n",
       "crossing river               942\n",
       "                            ... \n",
       "decoupage                    398\n",
       "doing sudoku                 388\n",
       "carving wood with a knife    356\n",
       "flint knapping               335\n",
       "crocheting                   331\n",
       "Name: label, Length: 700, dtype: int64"
      ]
     },
     "execution_count": 26,
     "metadata": {},
     "output_type": "execute_result"
    }
   ],
   "source": [
    "df[\"label\"].value_counts()"
   ]
  },
  {
   "cell_type": "code",
   "execution_count": 27,
   "id": "6079d53e",
   "metadata": {},
   "outputs": [],
   "source": [
    "df_test = df.sample(frac = 1).groupby(\"label\", sort = False).head(50)"
   ]
  },
  {
   "cell_type": "code",
   "execution_count": 28,
   "id": "fe7e4936",
   "metadata": {},
   "outputs": [
    {
     "data": {
      "text/plain": [
       "karaoke               50\n",
       "brushing hair         50\n",
       "bodysurfing           50\n",
       "tying bow tie         50\n",
       "shopping              50\n",
       "                      ..\n",
       "tap dancing           50\n",
       "parasailing           50\n",
       "bench pressing        50\n",
       "pouring milk          50\n",
       "shining flashlight    50\n",
       "Name: label, Length: 700, dtype: int64"
      ]
     },
     "execution_count": 28,
     "metadata": {},
     "output_type": "execute_result"
    }
   ],
   "source": [
    "df_test[\"label\"].value_counts()"
   ]
  },
  {
   "cell_type": "code",
   "execution_count": 149,
   "id": "77d2b574",
   "metadata": {},
   "outputs": [
    {
     "data": {
      "text/plain": [
       "label         doing jigsaw puzzle\n",
       "youtube_id            --GEr5-PyTI\n",
       "time_start                      0\n",
       "time_end                       10\n",
       "split                       train\n",
       "Name: 30, dtype: object"
      ]
     },
     "execution_count": 149,
     "metadata": {},
     "output_type": "execute_result"
    }
   ],
   "source": [
    "df.loc[30]"
   ]
  },
  {
   "cell_type": "code",
   "execution_count": 154,
   "id": "8cf3c97b",
   "metadata": {},
   "outputs": [
    {
     "data": {
      "text/plain": [
       "label         playing with trains\n",
       "youtube_id            --GaSxELz-8\n",
       "time_start                     39\n",
       "time_end                       49\n",
       "split                       train\n",
       "Name: 31, dtype: object"
      ]
     },
     "execution_count": 154,
     "metadata": {},
     "output_type": "execute_result"
    }
   ],
   "source": [
    "df.loc[31]"
   ]
  },
  {
   "cell_type": "code",
   "execution_count": 157,
   "id": "4f526764",
   "metadata": {},
   "outputs": [
    {
     "data": {
      "text/html": [
       "<div>\n",
       "<style scoped>\n",
       "    .dataframe tbody tr th:only-of-type {\n",
       "        vertical-align: middle;\n",
       "    }\n",
       "\n",
       "    .dataframe tbody tr th {\n",
       "        vertical-align: top;\n",
       "    }\n",
       "\n",
       "    .dataframe thead th {\n",
       "        text-align: right;\n",
       "    }\n",
       "</style>\n",
       "<table border=\"1\" class=\"dataframe\">\n",
       "  <thead>\n",
       "    <tr style=\"text-align: right;\">\n",
       "      <th></th>\n",
       "      <th>label</th>\n",
       "      <th>youtube_id</th>\n",
       "      <th>time_start</th>\n",
       "      <th>time_end</th>\n",
       "      <th>split</th>\n",
       "    </tr>\n",
       "  </thead>\n",
       "  <tbody>\n",
       "    <tr>\n",
       "      <th>11</th>\n",
       "      <td>calligraphy</td>\n",
       "      <td>--4NLFGNfAs</td>\n",
       "      <td>11</td>\n",
       "      <td>21</td>\n",
       "      <td>train</td>\n",
       "    </tr>\n",
       "  </tbody>\n",
       "</table>\n",
       "</div>"
      ],
      "text/plain": [
       "          label   youtube_id  time_start  time_end  split\n",
       "11  calligraphy  --4NLFGNfAs          11        21  train"
      ]
     },
     "execution_count": 157,
     "metadata": {},
     "output_type": "execute_result"
    }
   ],
   "source": [
    "df.loc[df[\"youtube_id\"] == \"--4NLFGNfAs\"]"
   ]
  },
  {
   "cell_type": "markdown",
   "id": "e25d3407",
   "metadata": {},
   "source": [
    "## New upload possibility"
   ]
  },
  {
   "cell_type": "code",
   "execution_count": 161,
   "id": "22d047d4",
   "metadata": {},
   "outputs": [],
   "source": [
    "# In order to properly work, functions need following imports:\n",
    "# import time\n",
    "# import timeout_decorator\n",
    "# from timeout_decorator import TimeoutError\n",
    "\n",
    "# @timeout_decorator around downloadVideo() function is interupting the download if download lasts more than 5 seconds,\n",
    "# by throwing an TimeoutError which is then cached with try: except loop in main function\n",
    "\n",
    "# tests:\n",
    "#    - 1. attempt - 100 datapoints, 55/100 successfully downloaded and clipped, 5min:20s\n",
    "#    - 2. attempt - 100 datapoints, 61/100 successfully downloaded and clipped, 3min:52s\n",
    "#    - 3. attempt - 100 datapoints, 58/100 successfully downloaded and clipped, 3min:40s\n",
    "#    - 3. attempt - 1000 datapoints, 571/100 successfully downloaded and clipped, 56min:49s\n",
    "\n",
    "# results would be better with hard connection instead of wifi (i will test it tomorrow)"
   ]
  },
  {
   "cell_type": "code",
   "execution_count": 135,
   "id": "fdf8f7b7",
   "metadata": {},
   "outputs": [],
   "source": [
    "@timeout_decorator.timeout(5, use_signals=False)\n",
    "def downloadVideo(data):\n",
    "    video = YouTube(URL + data.youtube_id)\n",
    "    video.streams.get_by_itag(18).download(PATH + \"download/\", filename = f\"{data.label}_{data.youtube_id}.mp4\")"
   ]
  },
  {
   "cell_type": "code",
   "execution_count": 171,
   "id": "32d657ff",
   "metadata": {},
   "outputs": [],
   "source": [
    "def clipVideo(data, fps = 1):\n",
    "    if os.path.isfile(PATH + \"download/\" + f\"{data.label}_{data.youtube_id}.mp4\"):\n",
    "        video_clip = VideoFileClip(PATH + \"download/\" + f\"{data.label}_{data.youtube_id}.mp4\")\n",
    "        if int(video_clip.duration) == 10:\n",
    "            video_clip.write_videofile(PATH + \"upload/\" + f\"{data.label}_{data.youtube_id}.mp4\")\n",
    "            os.remove(PATH + \"download/\" + f\"{data.label}_{data.youtube_id}.mp4\")\n",
    "        elif video_clip.duration - 1 < data.time_end:\n",
    "            os.remove(PATH + \"download/\" + f\"{data.label}_{data.youtube_id}.mp4\")\n",
    "            return False\n",
    "        else:\n",
    "            video_clip = video_clip.subclip(data.time_start, data.time_end)\n",
    "            video_clip.write_videofile(PATH + \"upload/\" + f\"{data.label}_{data.youtube_id}.mp4\", fps = fps)\n",
    "            os.remove(PATH + \"download/\" + f\"{data.label}_{data.youtube_id}.mp4\")\n",
    "    return True"
   ]
  },
  {
   "cell_type": "code",
   "execution_count": 126,
   "id": "3fa2053c",
   "metadata": {},
   "outputs": [],
   "source": [
    "# cannot use it, not sufficient access rights\n",
    "\n",
    "client = storage.Client()\n",
    "bucket = client.get_bucket('737-human-action-recognition-bucket')\n",
    "\n",
    "# code validation required\n",
    "\n",
    "def uploadCloud(data):\n",
    "    blob = bucket.blob(f\"train_data/{data.label}/{data.label}_{data.youtube_id}.mp4\")\n",
    "    blob.upload_from_filename(PATH + \"upload/\" + f\"{data.label}_{data.youtube_id}.mp4\")\n",
    "    os.remove(PATH + \"upload/\" + f\"{data.label}_{data.youtube_id}.mp4\")"
   ]
  },
  {
   "cell_type": "code",
   "execution_count": 166,
   "id": "193cef36",
   "metadata": {
    "scrolled": true
   },
   "outputs": [
    {
     "name": "stdout",
     "output_type": "stream",
     "text": [
      "---------------\n",
      "0 (---0dWlqevI) - downloaded!\n",
      "Moviepy - Building video /home/lockke/code/Koprivnica/737-human-action-recognition/737-human-action-recognition/data/upload/clay pottery making_---0dWlqevI.mp4.\n",
      "MoviePy - Writing audio in clay pottery making_---0dWlqevITEMP_MPY_wvf_snd.mp3\n"
     ]
    },
    {
     "name": "stderr",
     "output_type": "stream",
     "text": [
      "                                                                                                                        \r"
     ]
    },
    {
     "name": "stdout",
     "output_type": "stream",
     "text": [
      "MoviePy - Done.\n",
      "Moviepy - Writing video /home/lockke/code/Koprivnica/737-human-action-recognition/737-human-action-recognition/data/upload/clay pottery making_---0dWlqevI.mp4\n",
      "\n"
     ]
    },
    {
     "name": "stderr",
     "output_type": "stream",
     "text": [
      "                                                                                                                        \r"
     ]
    },
    {
     "name": "stdout",
     "output_type": "stream",
     "text": [
      "Moviepy - Done !\n",
      "Moviepy - video ready /home/lockke/code/Koprivnica/737-human-action-recognition/737-human-action-recognition/data/upload/clay pottery making_---0dWlqevI.mp4\n",
      "0 (---0dWlqevI) - clipped!\n",
      "---------------\n",
      "---------------\n",
      "1 (---aQ-tA5_A) - downloaded!\n",
      "Moviepy - Building video /home/lockke/code/Koprivnica/737-human-action-recognition/737-human-action-recognition/data/upload/news anchoring_---aQ-tA5_A.mp4.\n",
      "MoviePy - Writing audio in news anchoring_---aQ-tA5_ATEMP_MPY_wvf_snd.mp3\n"
     ]
    },
    {
     "name": "stderr",
     "output_type": "stream",
     "text": [
      "                                                                                                                        \r"
     ]
    },
    {
     "name": "stdout",
     "output_type": "stream",
     "text": [
      "MoviePy - Done.\n",
      "Moviepy - Writing video /home/lockke/code/Koprivnica/737-human-action-recognition/737-human-action-recognition/data/upload/news anchoring_---aQ-tA5_A.mp4\n",
      "\n"
     ]
    },
    {
     "name": "stderr",
     "output_type": "stream",
     "text": [
      "                                                                                                                        \r"
     ]
    },
    {
     "name": "stdout",
     "output_type": "stream",
     "text": [
      "Moviepy - Done !\n",
      "Moviepy - video ready /home/lockke/code/Koprivnica/737-human-action-recognition/737-human-action-recognition/data/upload/news anchoring_---aQ-tA5_A.mp4\n",
      "1 (---aQ-tA5_A) - clipped!\n",
      "---------------\n"
     ]
    },
    {
     "ename": "KeyboardInterrupt",
     "evalue": "",
     "output_type": "error",
     "traceback": [
      "\u001b[0;31m---------------------------------------------------------------------------\u001b[0m",
      "\u001b[0;31mKeyboardInterrupt\u001b[0m                         Traceback (most recent call last)",
      "\u001b[0;32m<timed exec>\u001b[0m in \u001b[0;36m<module>\u001b[0;34m\u001b[0m\n",
      "\u001b[0;32m~/.pyenv/versions/3.8.12/envs/lw_final/lib/python3.8/site-packages/timeout_decorator/timeout_decorator.py\u001b[0m in \u001b[0;36mnew_function\u001b[0;34m(*args, **kwargs)\u001b[0m\n\u001b[1;32m     90\u001b[0m             \u001b[0;32mdef\u001b[0m \u001b[0mnew_function\u001b[0m\u001b[0;34m(\u001b[0m\u001b[0;34m*\u001b[0m\u001b[0margs\u001b[0m\u001b[0;34m,\u001b[0m \u001b[0;34m**\u001b[0m\u001b[0mkwargs\u001b[0m\u001b[0;34m)\u001b[0m\u001b[0;34m:\u001b[0m\u001b[0;34m\u001b[0m\u001b[0;34m\u001b[0m\u001b[0m\n\u001b[1;32m     91\u001b[0m                 \u001b[0mtimeout_wrapper\u001b[0m \u001b[0;34m=\u001b[0m \u001b[0m_Timeout\u001b[0m\u001b[0;34m(\u001b[0m\u001b[0mfunction\u001b[0m\u001b[0;34m,\u001b[0m \u001b[0mtimeout_exception\u001b[0m\u001b[0;34m,\u001b[0m \u001b[0mexception_message\u001b[0m\u001b[0;34m,\u001b[0m \u001b[0mseconds\u001b[0m\u001b[0;34m)\u001b[0m\u001b[0;34m\u001b[0m\u001b[0;34m\u001b[0m\u001b[0m\n\u001b[0;32m---> 92\u001b[0;31m                 \u001b[0;32mreturn\u001b[0m \u001b[0mtimeout_wrapper\u001b[0m\u001b[0;34m(\u001b[0m\u001b[0;34m*\u001b[0m\u001b[0margs\u001b[0m\u001b[0;34m,\u001b[0m \u001b[0;34m**\u001b[0m\u001b[0mkwargs\u001b[0m\u001b[0;34m)\u001b[0m\u001b[0;34m\u001b[0m\u001b[0;34m\u001b[0m\u001b[0m\n\u001b[0m\u001b[1;32m     93\u001b[0m             \u001b[0;32mreturn\u001b[0m \u001b[0mnew_function\u001b[0m\u001b[0;34m\u001b[0m\u001b[0;34m\u001b[0m\u001b[0m\n\u001b[1;32m     94\u001b[0m \u001b[0;34m\u001b[0m\u001b[0m\n",
      "\u001b[0;32m~/.pyenv/versions/3.8.12/envs/lw_final/lib/python3.8/site-packages/timeout_decorator/timeout_decorator.py\u001b[0m in \u001b[0;36m__call__\u001b[0;34m(self, *args, **kwargs)\u001b[0m\n\u001b[1;32m    149\u001b[0m             \u001b[0mself\u001b[0m\u001b[0;34m.\u001b[0m\u001b[0m__timeout\u001b[0m \u001b[0;34m=\u001b[0m \u001b[0mself\u001b[0m\u001b[0;34m.\u001b[0m\u001b[0m__limit\u001b[0m \u001b[0;34m+\u001b[0m \u001b[0mtime\u001b[0m\u001b[0;34m.\u001b[0m\u001b[0mtime\u001b[0m\u001b[0;34m(\u001b[0m\u001b[0;34m)\u001b[0m\u001b[0;34m\u001b[0m\u001b[0;34m\u001b[0m\u001b[0m\n\u001b[1;32m    150\u001b[0m         \u001b[0;32mwhile\u001b[0m \u001b[0;32mnot\u001b[0m \u001b[0mself\u001b[0m\u001b[0;34m.\u001b[0m\u001b[0mready\u001b[0m\u001b[0;34m:\u001b[0m\u001b[0;34m\u001b[0m\u001b[0;34m\u001b[0m\u001b[0m\n\u001b[0;32m--> 151\u001b[0;31m             \u001b[0mtime\u001b[0m\u001b[0;34m.\u001b[0m\u001b[0msleep\u001b[0m\u001b[0;34m(\u001b[0m\u001b[0;36m0.01\u001b[0m\u001b[0;34m)\u001b[0m\u001b[0;34m\u001b[0m\u001b[0;34m\u001b[0m\u001b[0m\n\u001b[0m\u001b[1;32m    152\u001b[0m         \u001b[0;32mreturn\u001b[0m \u001b[0mself\u001b[0m\u001b[0;34m.\u001b[0m\u001b[0mvalue\u001b[0m\u001b[0;34m\u001b[0m\u001b[0;34m\u001b[0m\u001b[0m\n\u001b[1;32m    153\u001b[0m \u001b[0;34m\u001b[0m\u001b[0m\n",
      "\u001b[0;31mKeyboardInterrupt\u001b[0m: "
     ]
    }
   ],
   "source": [
    "%%time\n",
    "\n",
    "n = 1000\n",
    "counter = 0\n",
    "\n",
    "for i in range(n):\n",
    "    try:\n",
    "        downloadVideo(df.loc[i])\n",
    "        print(\"---------------\")\n",
    "        print(f\"{i} ({df.youtube_id[i]}) - downloaded!\")\n",
    "        \n",
    "        if clipVideo(df.loc[i], fps = 10):\n",
    "            print(f\"{i} ({df.youtube_id[i]}) - clipped!\")\n",
    "            print(\"---------------\")\n",
    "            counter += 1\n",
    "        else:\n",
    "            print(f\"{i} ({df.youtube_id[i]}) - NOT CLIPPED!\")\n",
    "            print(\"---------------\")\n",
    "        \n",
    "        #uploadCloud(df.loc[i])\n",
    "\n",
    "    except (TimeoutError, KeyError, VideoUnavailable, VideoPrivate,\\\n",
    "            AgeRestrictedError, LiveStreamError, RecordingUnavailable, MembersOnly, VideoRegionBlocked):\n",
    "        print(\"---------------\")\n",
    "        print(f\"{i} ({df.youtube_id[i]}) - FAILED!\")\n",
    "        print(\"---------------\")\n",
    "        if os.path.isfile(PATH + \"download/\" + f\"{df.loc[i].label}_{df.loc[i].youtube_id}.mp4\"):\n",
    "            os.remove(PATH + \"download/\" + f\"{df.loc[i].label}_{df.loc[i].youtube_id}.mp4\")\n",
    "        pass\n",
    "\n",
    "print(f\"Number of successfully downloaded and clipped videos: {counter} / {n}\")"
   ]
  },
  {
   "cell_type": "markdown",
   "id": "f3385368",
   "metadata": {},
   "source": [
    "# Real Work"
   ]
  },
  {
   "cell_type": "code",
   "execution_count": 141,
   "id": "f3074b3c",
   "metadata": {},
   "outputs": [],
   "source": [
    "df_reduced = pd.read_csv(\"/home/lockke/code/Koprivnica/737-human-action-recognition/raw_data/train_reduced.csv\")"
   ]
  },
  {
   "cell_type": "code",
   "execution_count": 142,
   "id": "b795b6f9",
   "metadata": {},
   "outputs": [
    {
     "data": {
      "text/plain": [
       "(77000, 5)"
      ]
     },
     "execution_count": 142,
     "metadata": {},
     "output_type": "execute_result"
    }
   ],
   "source": [
    "df_reduced.shape"
   ]
  },
  {
   "cell_type": "code",
   "execution_count": 143,
   "id": "0af0a84d",
   "metadata": {},
   "outputs": [
    {
     "data": {
      "text/html": [
       "<div>\n",
       "<style scoped>\n",
       "    .dataframe tbody tr th:only-of-type {\n",
       "        vertical-align: middle;\n",
       "    }\n",
       "\n",
       "    .dataframe tbody tr th {\n",
       "        vertical-align: top;\n",
       "    }\n",
       "\n",
       "    .dataframe thead th {\n",
       "        text-align: right;\n",
       "    }\n",
       "</style>\n",
       "<table border=\"1\" class=\"dataframe\">\n",
       "  <thead>\n",
       "    <tr style=\"text-align: right;\">\n",
       "      <th></th>\n",
       "      <th>label</th>\n",
       "      <th>youtube_id</th>\n",
       "      <th>time_start</th>\n",
       "      <th>time_end</th>\n",
       "      <th>split</th>\n",
       "    </tr>\n",
       "  </thead>\n",
       "  <tbody>\n",
       "    <tr>\n",
       "      <th>0</th>\n",
       "      <td>clay pottery making</td>\n",
       "      <td>LHtsiogBKvM</td>\n",
       "      <td>34</td>\n",
       "      <td>44</td>\n",
       "      <td>train</td>\n",
       "    </tr>\n",
       "    <tr>\n",
       "      <th>1</th>\n",
       "      <td>clay pottery making</td>\n",
       "      <td>K4O9S_gpgbY</td>\n",
       "      <td>64</td>\n",
       "      <td>74</td>\n",
       "      <td>train</td>\n",
       "    </tr>\n",
       "    <tr>\n",
       "      <th>2</th>\n",
       "      <td>clay pottery making</td>\n",
       "      <td>kVAScTNRnwA</td>\n",
       "      <td>72</td>\n",
       "      <td>82</td>\n",
       "      <td>train</td>\n",
       "    </tr>\n",
       "    <tr>\n",
       "      <th>3</th>\n",
       "      <td>clay pottery making</td>\n",
       "      <td>RE9bEWMzVtg</td>\n",
       "      <td>0</td>\n",
       "      <td>10</td>\n",
       "      <td>train</td>\n",
       "    </tr>\n",
       "    <tr>\n",
       "      <th>4</th>\n",
       "      <td>clay pottery making</td>\n",
       "      <td>4mbdJHOnPuA</td>\n",
       "      <td>1</td>\n",
       "      <td>11</td>\n",
       "      <td>train</td>\n",
       "    </tr>\n",
       "  </tbody>\n",
       "</table>\n",
       "</div>"
      ],
      "text/plain": [
       "                 label   youtube_id  time_start  time_end  split\n",
       "0  clay pottery making  LHtsiogBKvM          34        44  train\n",
       "1  clay pottery making  K4O9S_gpgbY          64        74  train\n",
       "2  clay pottery making  kVAScTNRnwA          72        82  train\n",
       "3  clay pottery making  RE9bEWMzVtg           0        10  train\n",
       "4  clay pottery making  4mbdJHOnPuA           1        11  train"
      ]
     },
     "execution_count": 143,
     "metadata": {},
     "output_type": "execute_result"
    }
   ],
   "source": [
    "df_reduced.head()"
   ]
  },
  {
   "cell_type": "code",
   "execution_count": 145,
   "id": "c90aa8db",
   "metadata": {},
   "outputs": [
    {
     "data": {
      "text/html": [
       "<div>\n",
       "<style scoped>\n",
       "    .dataframe tbody tr th:only-of-type {\n",
       "        vertical-align: middle;\n",
       "    }\n",
       "\n",
       "    .dataframe tbody tr th {\n",
       "        vertical-align: top;\n",
       "    }\n",
       "\n",
       "    .dataframe thead th {\n",
       "        text-align: right;\n",
       "    }\n",
       "</style>\n",
       "<table border=\"1\" class=\"dataframe\">\n",
       "  <thead>\n",
       "    <tr style=\"text-align: right;\">\n",
       "      <th></th>\n",
       "      <th>label</th>\n",
       "      <th>youtube_id</th>\n",
       "      <th>time_start</th>\n",
       "      <th>time_end</th>\n",
       "      <th>split</th>\n",
       "    </tr>\n",
       "  </thead>\n",
       "  <tbody>\n",
       "    <tr>\n",
       "      <th>76995</th>\n",
       "      <td>breaking glass</td>\n",
       "      <td>bwEJAObcdxc</td>\n",
       "      <td>24</td>\n",
       "      <td>34</td>\n",
       "      <td>train</td>\n",
       "    </tr>\n",
       "    <tr>\n",
       "      <th>76996</th>\n",
       "      <td>breaking glass</td>\n",
       "      <td>iUZnFrbDX9U</td>\n",
       "      <td>13</td>\n",
       "      <td>23</td>\n",
       "      <td>train</td>\n",
       "    </tr>\n",
       "    <tr>\n",
       "      <th>76997</th>\n",
       "      <td>breaking glass</td>\n",
       "      <td>QesfpvuqDOk</td>\n",
       "      <td>7</td>\n",
       "      <td>17</td>\n",
       "      <td>train</td>\n",
       "    </tr>\n",
       "    <tr>\n",
       "      <th>76998</th>\n",
       "      <td>breaking glass</td>\n",
       "      <td>wJOzuYXBaO8</td>\n",
       "      <td>0</td>\n",
       "      <td>10</td>\n",
       "      <td>train</td>\n",
       "    </tr>\n",
       "    <tr>\n",
       "      <th>76999</th>\n",
       "      <td>breaking glass</td>\n",
       "      <td>GjOO4z2Phd4</td>\n",
       "      <td>0</td>\n",
       "      <td>10</td>\n",
       "      <td>train</td>\n",
       "    </tr>\n",
       "  </tbody>\n",
       "</table>\n",
       "</div>"
      ],
      "text/plain": [
       "                label   youtube_id  time_start  time_end  split\n",
       "76995  breaking glass  bwEJAObcdxc          24        34  train\n",
       "76996  breaking glass  iUZnFrbDX9U          13        23  train\n",
       "76997  breaking glass  QesfpvuqDOk           7        17  train\n",
       "76998  breaking glass  wJOzuYXBaO8           0        10  train\n",
       "76999  breaking glass  GjOO4z2Phd4           0        10  train"
      ]
     },
     "execution_count": 145,
     "metadata": {},
     "output_type": "execute_result"
    }
   ],
   "source": [
    "df_reduced.tail()"
   ]
  },
  {
   "cell_type": "code",
   "execution_count": 150,
   "id": "43e878ac",
   "metadata": {},
   "outputs": [
    {
     "data": {
      "text/plain": [
       "label         mopping floor\n",
       "youtube_id      kFVPkQKat94\n",
       "time_start               66\n",
       "time_end                 76\n",
       "split                 train\n",
       "Name: 52502, dtype: object"
      ]
     },
     "execution_count": 150,
     "metadata": {},
     "output_type": "execute_result"
    }
   ],
   "source": [
    "df_reduced.loc[52502]"
   ]
  },
  {
   "cell_type": "code",
   "execution_count": 156,
   "id": "0b43f221",
   "metadata": {},
   "outputs": [
    {
     "data": {
      "text/plain": [
       "clay pottery making             110\n",
       "laughing                        110\n",
       "wading through mud              110\n",
       "changing wheel (not on bike)    110\n",
       "getting a piercing              110\n",
       "                               ... \n",
       "golf driving                    110\n",
       "casting fishing line            110\n",
       "punching bag                    110\n",
       "sleeping                        110\n",
       "breaking glass                  110\n",
       "Name: label, Length: 700, dtype: int64"
      ]
     },
     "execution_count": 156,
     "metadata": {},
     "output_type": "execute_result"
    }
   ],
   "source": [
    "df_reduced[\"label\"].value_counts()"
   ]
  },
  {
   "cell_type": "code",
   "execution_count": 167,
   "id": "87bf6378",
   "metadata": {},
   "outputs": [],
   "source": [
    "labels = df_reduced[\"label\"].unique()[525:]\n",
    "my_df = df_reduced[df_reduced[\"label\"].isin(labels)].reset_index()"
   ]
  },
  {
   "cell_type": "code",
   "execution_count": null,
   "id": "8fe585bd",
   "metadata": {},
   "outputs": [],
   "source": []
  },
  {
   "cell_type": "code",
   "execution_count": 168,
   "id": "c5420ca0",
   "metadata": {},
   "outputs": [
    {
     "data": {
      "text/html": [
       "<div>\n",
       "<style scoped>\n",
       "    .dataframe tbody tr th:only-of-type {\n",
       "        vertical-align: middle;\n",
       "    }\n",
       "\n",
       "    .dataframe tbody tr th {\n",
       "        vertical-align: top;\n",
       "    }\n",
       "\n",
       "    .dataframe thead th {\n",
       "        text-align: right;\n",
       "    }\n",
       "</style>\n",
       "<table border=\"1\" class=\"dataframe\">\n",
       "  <thead>\n",
       "    <tr style=\"text-align: right;\">\n",
       "      <th></th>\n",
       "      <th>index</th>\n",
       "      <th>label</th>\n",
       "      <th>youtube_id</th>\n",
       "      <th>time_start</th>\n",
       "      <th>time_end</th>\n",
       "      <th>split</th>\n",
       "    </tr>\n",
       "  </thead>\n",
       "  <tbody>\n",
       "    <tr>\n",
       "      <th>0</th>\n",
       "      <td>57750</td>\n",
       "      <td>chiseling wood</td>\n",
       "      <td>vglFM8FPf68</td>\n",
       "      <td>45</td>\n",
       "      <td>55</td>\n",
       "      <td>train</td>\n",
       "    </tr>\n",
       "    <tr>\n",
       "      <th>1</th>\n",
       "      <td>57751</td>\n",
       "      <td>chiseling wood</td>\n",
       "      <td>VNORa36t2FU</td>\n",
       "      <td>24</td>\n",
       "      <td>34</td>\n",
       "      <td>train</td>\n",
       "    </tr>\n",
       "    <tr>\n",
       "      <th>2</th>\n",
       "      <td>57752</td>\n",
       "      <td>chiseling wood</td>\n",
       "      <td>fy7o8xDBsms</td>\n",
       "      <td>12</td>\n",
       "      <td>22</td>\n",
       "      <td>train</td>\n",
       "    </tr>\n",
       "    <tr>\n",
       "      <th>3</th>\n",
       "      <td>57753</td>\n",
       "      <td>chiseling wood</td>\n",
       "      <td>7-QF8ltNa04</td>\n",
       "      <td>27</td>\n",
       "      <td>37</td>\n",
       "      <td>train</td>\n",
       "    </tr>\n",
       "    <tr>\n",
       "      <th>4</th>\n",
       "      <td>57754</td>\n",
       "      <td>chiseling wood</td>\n",
       "      <td>YhZe_Vq2ZpM</td>\n",
       "      <td>4</td>\n",
       "      <td>14</td>\n",
       "      <td>train</td>\n",
       "    </tr>\n",
       "    <tr>\n",
       "      <th>...</th>\n",
       "      <td>...</td>\n",
       "      <td>...</td>\n",
       "      <td>...</td>\n",
       "      <td>...</td>\n",
       "      <td>...</td>\n",
       "      <td>...</td>\n",
       "    </tr>\n",
       "    <tr>\n",
       "      <th>19245</th>\n",
       "      <td>76995</td>\n",
       "      <td>breaking glass</td>\n",
       "      <td>bwEJAObcdxc</td>\n",
       "      <td>24</td>\n",
       "      <td>34</td>\n",
       "      <td>train</td>\n",
       "    </tr>\n",
       "    <tr>\n",
       "      <th>19246</th>\n",
       "      <td>76996</td>\n",
       "      <td>breaking glass</td>\n",
       "      <td>iUZnFrbDX9U</td>\n",
       "      <td>13</td>\n",
       "      <td>23</td>\n",
       "      <td>train</td>\n",
       "    </tr>\n",
       "    <tr>\n",
       "      <th>19247</th>\n",
       "      <td>76997</td>\n",
       "      <td>breaking glass</td>\n",
       "      <td>QesfpvuqDOk</td>\n",
       "      <td>7</td>\n",
       "      <td>17</td>\n",
       "      <td>train</td>\n",
       "    </tr>\n",
       "    <tr>\n",
       "      <th>19248</th>\n",
       "      <td>76998</td>\n",
       "      <td>breaking glass</td>\n",
       "      <td>wJOzuYXBaO8</td>\n",
       "      <td>0</td>\n",
       "      <td>10</td>\n",
       "      <td>train</td>\n",
       "    </tr>\n",
       "    <tr>\n",
       "      <th>19249</th>\n",
       "      <td>76999</td>\n",
       "      <td>breaking glass</td>\n",
       "      <td>GjOO4z2Phd4</td>\n",
       "      <td>0</td>\n",
       "      <td>10</td>\n",
       "      <td>train</td>\n",
       "    </tr>\n",
       "  </tbody>\n",
       "</table>\n",
       "<p>19250 rows × 6 columns</p>\n",
       "</div>"
      ],
      "text/plain": [
       "       index           label   youtube_id  time_start  time_end  split\n",
       "0      57750  chiseling wood  vglFM8FPf68          45        55  train\n",
       "1      57751  chiseling wood  VNORa36t2FU          24        34  train\n",
       "2      57752  chiseling wood  fy7o8xDBsms          12        22  train\n",
       "3      57753  chiseling wood  7-QF8ltNa04          27        37  train\n",
       "4      57754  chiseling wood  YhZe_Vq2ZpM           4        14  train\n",
       "...      ...             ...          ...         ...       ...    ...\n",
       "19245  76995  breaking glass  bwEJAObcdxc          24        34  train\n",
       "19246  76996  breaking glass  iUZnFrbDX9U          13        23  train\n",
       "19247  76997  breaking glass  QesfpvuqDOk           7        17  train\n",
       "19248  76998  breaking glass  wJOzuYXBaO8           0        10  train\n",
       "19249  76999  breaking glass  GjOO4z2Phd4           0        10  train\n",
       "\n",
       "[19250 rows x 6 columns]"
      ]
     },
     "execution_count": 168,
     "metadata": {},
     "output_type": "execute_result"
    }
   ],
   "source": [
    "my_df"
   ]
  },
  {
   "cell_type": "code",
   "execution_count": 169,
   "id": "6b3e92fb",
   "metadata": {},
   "outputs": [
    {
     "data": {
      "text/plain": [
       "(19250, 6)"
      ]
     },
     "execution_count": 169,
     "metadata": {},
     "output_type": "execute_result"
    }
   ],
   "source": [
    "my_df.shape"
   ]
  },
  {
   "cell_type": "code",
   "execution_count": 127,
   "id": "48222645",
   "metadata": {},
   "outputs": [
    {
     "name": "stdout",
     "output_type": "stream",
     "text": [
      "CPU times: user 2 µs, sys: 1e+03 ns, total: 3 µs\n",
      "Wall time: 5.01 µs\n"
     ]
    }
   ],
   "source": [
    "%%time\n",
    "\n",
    "#my_df_croped = remove_long_videos(my_df)"
   ]
  },
  {
   "cell_type": "code",
   "execution_count": 172,
   "id": "bfab6c45",
   "metadata": {
    "scrolled": false
   },
   "outputs": [
    {
     "name": "stdout",
     "output_type": "stream",
     "text": [
      "---------------\n",
      "0 (---0dWlqevI) - downloaded!\n",
      "Moviepy - Building video /home/lockke/code/Koprivnica/737-human-action-recognition/737-human-action-recognition/data/upload/clay pottery making_---0dWlqevI.mp4.\n",
      "MoviePy - Writing audio in clay pottery making_---0dWlqevITEMP_MPY_wvf_snd.mp3\n"
     ]
    },
    {
     "name": "stderr",
     "output_type": "stream",
     "text": [
      "                                                                                                                        \r"
     ]
    },
    {
     "name": "stdout",
     "output_type": "stream",
     "text": [
      "MoviePy - Done.\n",
      "Moviepy - Writing video /home/lockke/code/Koprivnica/737-human-action-recognition/737-human-action-recognition/data/upload/clay pottery making_---0dWlqevI.mp4\n",
      "\n"
     ]
    },
    {
     "name": "stderr",
     "output_type": "stream",
     "text": [
      "                                                                                                                        \r"
     ]
    },
    {
     "name": "stdout",
     "output_type": "stream",
     "text": [
      "Moviepy - Done !\n",
      "Moviepy - video ready /home/lockke/code/Koprivnica/737-human-action-recognition/737-human-action-recognition/data/upload/clay pottery making_---0dWlqevI.mp4\n",
      "0 (---0dWlqevI) - clipped!\n",
      "---------------\n",
      "---------------\n",
      "1 (---aQ-tA5_A) - downloaded!\n",
      "Moviepy - Building video /home/lockke/code/Koprivnica/737-human-action-recognition/737-human-action-recognition/data/upload/news anchoring_---aQ-tA5_A.mp4.\n",
      "MoviePy - Writing audio in news anchoring_---aQ-tA5_ATEMP_MPY_wvf_snd.mp3\n"
     ]
    },
    {
     "name": "stderr",
     "output_type": "stream",
     "text": [
      "                                                                                                                        \r"
     ]
    },
    {
     "name": "stdout",
     "output_type": "stream",
     "text": [
      "MoviePy - Done.\n",
      "Moviepy - Writing video /home/lockke/code/Koprivnica/737-human-action-recognition/737-human-action-recognition/data/upload/news anchoring_---aQ-tA5_A.mp4\n",
      "\n"
     ]
    },
    {
     "name": "stderr",
     "output_type": "stream",
     "text": [
      "                                                                                                                        \r"
     ]
    },
    {
     "name": "stdout",
     "output_type": "stream",
     "text": [
      "Moviepy - Done !\n",
      "Moviepy - video ready /home/lockke/code/Koprivnica/737-human-action-recognition/737-human-action-recognition/data/upload/news anchoring_---aQ-tA5_A.mp4\n",
      "1 (---aQ-tA5_A) - clipped!\n",
      "---------------\n",
      "---------------\n",
      "2 (---j12rm3WI) - downloaded!\n",
      "Moviepy - Building video /home/lockke/code/Koprivnica/737-human-action-recognition/737-human-action-recognition/data/upload/using bagging machine_---j12rm3WI.mp4.\n",
      "MoviePy - Writing audio in using bagging machine_---j12rm3WITEMP_MPY_wvf_snd.mp3\n"
     ]
    },
    {
     "name": "stderr",
     "output_type": "stream",
     "text": [
      "                                                                                                                        \r"
     ]
    },
    {
     "name": "stdout",
     "output_type": "stream",
     "text": [
      "MoviePy - Done.\n",
      "Moviepy - Writing video /home/lockke/code/Koprivnica/737-human-action-recognition/737-human-action-recognition/data/upload/using bagging machine_---j12rm3WI.mp4\n",
      "\n"
     ]
    },
    {
     "name": "stderr",
     "output_type": "stream",
     "text": [
      "                                                                                                                        \r"
     ]
    },
    {
     "name": "stdout",
     "output_type": "stream",
     "text": [
      "Moviepy - Done !\n",
      "Moviepy - video ready /home/lockke/code/Koprivnica/737-human-action-recognition/737-human-action-recognition/data/upload/using bagging machine_---j12rm3WI.mp4\n",
      "2 (---j12rm3WI) - clipped!\n",
      "---------------\n",
      "---------------\n",
      "3 (--07WQ2iBlw) - downloaded!\n",
      "Moviepy - Building video /home/lockke/code/Koprivnica/737-human-action-recognition/737-human-action-recognition/data/upload/javelin throw_--07WQ2iBlw.mp4.\n",
      "MoviePy - Writing audio in javelin throw_--07WQ2iBlwTEMP_MPY_wvf_snd.mp3\n"
     ]
    },
    {
     "name": "stderr",
     "output_type": "stream",
     "text": [
      "                                                                                                                        \r"
     ]
    },
    {
     "name": "stdout",
     "output_type": "stream",
     "text": [
      "MoviePy - Done.\n",
      "Moviepy - Writing video /home/lockke/code/Koprivnica/737-human-action-recognition/737-human-action-recognition/data/upload/javelin throw_--07WQ2iBlw.mp4\n",
      "\n"
     ]
    },
    {
     "name": "stderr",
     "output_type": "stream",
     "text": [
      "                                                                                                                        \r"
     ]
    },
    {
     "name": "stdout",
     "output_type": "stream",
     "text": [
      "Moviepy - Done !\n",
      "Moviepy - video ready /home/lockke/code/Koprivnica/737-human-action-recognition/737-human-action-recognition/data/upload/javelin throw_--07WQ2iBlw.mp4\n",
      "3 (--07WQ2iBlw) - clipped!\n",
      "---------------\n",
      "---------------\n",
      "4 (--0NTAs-fA0) - downloaded!\n",
      "4 (--0NTAs-fA0) - NOT CLIPPED!\n",
      "---------------\n",
      "---------------\n",
      "5 (--0l35AkU34) - downloaded!\n",
      "Moviepy - Building video /home/lockke/code/Koprivnica/737-human-action-recognition/737-human-action-recognition/data/upload/sipping cup_--0l35AkU34.mp4.\n",
      "MoviePy - Writing audio in sipping cup_--0l35AkU34TEMP_MPY_wvf_snd.mp3\n"
     ]
    },
    {
     "name": "stderr",
     "output_type": "stream",
     "text": [
      "                                                                                                                        \r"
     ]
    },
    {
     "name": "stdout",
     "output_type": "stream",
     "text": [
      "MoviePy - Done.\n",
      "Moviepy - Writing video /home/lockke/code/Koprivnica/737-human-action-recognition/737-human-action-recognition/data/upload/sipping cup_--0l35AkU34.mp4\n",
      "\n"
     ]
    },
    {
     "name": "stderr",
     "output_type": "stream",
     "text": [
      "                                                                                                                        \r"
     ]
    },
    {
     "name": "stdout",
     "output_type": "stream",
     "text": [
      "Moviepy - Done !\n",
      "Moviepy - video ready /home/lockke/code/Koprivnica/737-human-action-recognition/737-human-action-recognition/data/upload/sipping cup_--0l35AkU34.mp4\n",
      "5 (--0l35AkU34) - clipped!\n",
      "---------------\n",
      "---------------\n",
      "6 (--33Lscn6sk) - downloaded!\n",
      "Moviepy - Building video /home/lockke/code/Koprivnica/737-human-action-recognition/737-human-action-recognition/data/upload/flipping pancake_--33Lscn6sk.mp4.\n",
      "MoviePy - Writing audio in flipping pancake_--33Lscn6skTEMP_MPY_wvf_snd.mp3\n"
     ]
    },
    {
     "name": "stderr",
     "output_type": "stream",
     "text": [
      "                                                                                                                        \r"
     ]
    },
    {
     "name": "stdout",
     "output_type": "stream",
     "text": [
      "MoviePy - Done.\n",
      "Moviepy - Writing video /home/lockke/code/Koprivnica/737-human-action-recognition/737-human-action-recognition/data/upload/flipping pancake_--33Lscn6sk.mp4\n",
      "\n"
     ]
    },
    {
     "name": "stderr",
     "output_type": "stream",
     "text": [
      "                                                                                                                        \r"
     ]
    },
    {
     "name": "stdout",
     "output_type": "stream",
     "text": [
      "Moviepy - Done !\n",
      "Moviepy - video ready /home/lockke/code/Koprivnica/737-human-action-recognition/737-human-action-recognition/data/upload/flipping pancake_--33Lscn6sk.mp4\n",
      "6 (--33Lscn6sk) - clipped!\n",
      "---------------\n",
      "---------------\n",
      "7 (--3OAstUWtU) - FAILED!\n",
      "---------------\n",
      "---------------\n",
      "8 (--3lTx87ebQ) - downloaded!\n",
      "8 (--3lTx87ebQ) - NOT CLIPPED!\n",
      "---------------\n",
      "---------------\n",
      "9 (--3ouPhoy2A) - downloaded!\n",
      "Moviepy - Building video /home/lockke/code/Koprivnica/737-human-action-recognition/737-human-action-recognition/data/upload/eating spaghetti_--3ouPhoy2A.mp4.\n",
      "MoviePy - Writing audio in eating spaghetti_--3ouPhoy2ATEMP_MPY_wvf_snd.mp3\n"
     ]
    },
    {
     "name": "stderr",
     "output_type": "stream",
     "text": [
      "                                                                                                                        \r"
     ]
    },
    {
     "name": "stdout",
     "output_type": "stream",
     "text": [
      "MoviePy - Done.\n",
      "Moviepy - Writing video /home/lockke/code/Koprivnica/737-human-action-recognition/737-human-action-recognition/data/upload/eating spaghetti_--3ouPhoy2A.mp4\n",
      "\n"
     ]
    },
    {
     "name": "stderr",
     "output_type": "stream",
     "text": [
      "                                                                                                                        \r"
     ]
    },
    {
     "name": "stdout",
     "output_type": "stream",
     "text": [
      "Moviepy - Done !\n",
      "Moviepy - video ready /home/lockke/code/Koprivnica/737-human-action-recognition/737-human-action-recognition/data/upload/eating spaghetti_--3ouPhoy2A.mp4\n",
      "9 (--3ouPhoy2A) - clipped!\n",
      "---------------\n",
      "Number of successfully downloaded and clipped videos: 7 / 10\n",
      "CPU times: user 1.54 s, sys: 1.28 s, total: 2.82 s\n",
      "Wall time: 27.1 s\n"
     ]
    }
   ],
   "source": [
    "%%time\n",
    "\n",
    "n = 10\n",
    "counter = 0\n",
    "\n",
    "for i in range(n):\n",
    "    try:\n",
    "        downloadVideo(df.loc[i])\n",
    "        print(\"---------------\")\n",
    "        print(f\"{i} ({df.youtube_id[i]}) - downloaded!\")\n",
    "        \n",
    "        if clipVideo(df.loc[i], fps = 10):\n",
    "            print(f\"{i} ({df.youtube_id[i]}) - clipped!\")\n",
    "            print(\"---------------\")\n",
    "            counter += 1\n",
    "        else:\n",
    "            print(f\"{i} ({df.youtube_id[i]}) - NOT CLIPPED!\")\n",
    "            print(\"---------------\")\n",
    "        \n",
    "        #uploadCloud(df.loc[i])\n",
    "\n",
    "    except (TimeoutError, KeyError, VideoUnavailable, VideoPrivate,\\\n",
    "            AgeRestrictedError, LiveStreamError, RecordingUnavailable, MembersOnly, VideoRegionBlocked):\n",
    "        print(\"---------------\")\n",
    "        print(f\"{i} ({df.youtube_id[i]}) - FAILED!\")\n",
    "        print(\"---------------\")\n",
    "        if os.path.isfile(PATH + \"download/\" + f\"{df.loc[i].label}_{df.loc[i].youtube_id}.mp4\"):\n",
    "            os.remove(PATH + \"download/\" + f\"{df.loc[i].label}_{df.loc[i].youtube_id}.mp4\")\n",
    "        pass\n",
    "\n",
    "print(f\"Number of successfully downloaded and clipped videos: {counter} / {n}\")"
   ]
  },
  {
   "cell_type": "code",
   "execution_count": null,
   "id": "964f848d",
   "metadata": {},
   "outputs": [],
   "source": []
  }
 ],
 "metadata": {
  "kernelspec": {
   "display_name": "Python 3 (ipykernel)",
   "language": "python",
   "name": "python3"
  },
  "language_info": {
   "codemirror_mode": {
    "name": "ipython",
    "version": 3
   },
   "file_extension": ".py",
   "mimetype": "text/x-python",
   "name": "python",
   "nbconvert_exporter": "python",
   "pygments_lexer": "ipython3",
   "version": "3.8.12"
  },
  "toc": {
   "base_numbering": 1,
   "nav_menu": {},
   "number_sections": true,
   "sideBar": true,
   "skip_h1_title": false,
   "title_cell": "Table of Contents",
   "title_sidebar": "Contents",
   "toc_cell": false,
   "toc_position": {},
   "toc_section_display": true,
   "toc_window_display": false
  }
 },
 "nbformat": 4,
 "nbformat_minor": 5
}
