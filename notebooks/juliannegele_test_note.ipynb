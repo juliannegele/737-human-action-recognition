{
 "cells": [
  {
   "cell_type": "code",
   "execution_count": 1,
   "id": "276f4aff",
   "metadata": {},
   "outputs": [],
   "source": [
    "import pytube\n",
    "from pytube import YouTube\n",
    "from pytube.exceptions import VideoUnavailable\n",
    "from pytube.exceptions import VideoPrivate, AgeRestrictedError,LiveStreamError, RecordingUnavailable, MembersOnly, VideoRegionBlocked\n",
    "import pandas as pd\n",
    "import numpy as np\n",
    "import os\n",
    "from moviepy.editor import *\n",
    "import pytube.exceptions\n"
   ]
  },
  {
   "cell_type": "code",
   "execution_count": 2,
   "id": "ee38dd3b",
   "metadata": {},
   "outputs": [],
   "source": [
    "path = '../raw_data/train.csv'\n"
   ]
  },
  {
   "cell_type": "code",
   "execution_count": 3,
   "id": "5cfd466a",
   "metadata": {},
   "outputs": [],
   "source": [
    "df = pd.read_csv(path)"
   ]
  },
  {
   "cell_type": "code",
   "execution_count": 4,
   "id": "9e291b32",
   "metadata": {
    "scrolled": false
   },
   "outputs": [
    {
     "data": {
      "text/plain": [
       "544823"
      ]
     },
     "execution_count": 4,
     "metadata": {},
     "output_type": "execute_result"
    }
   ],
   "source": [
    "len(df)"
   ]
  },
  {
   "cell_type": "code",
   "execution_count": 5,
   "id": "ebbf6129",
   "metadata": {
    "scrolled": true
   },
   "outputs": [
    {
     "data": {
      "text/html": [
       "<div>\n",
       "<style scoped>\n",
       "    .dataframe tbody tr th:only-of-type {\n",
       "        vertical-align: middle;\n",
       "    }\n",
       "\n",
       "    .dataframe tbody tr th {\n",
       "        vertical-align: top;\n",
       "    }\n",
       "\n",
       "    .dataframe thead th {\n",
       "        text-align: right;\n",
       "    }\n",
       "</style>\n",
       "<table border=\"1\" class=\"dataframe\">\n",
       "  <thead>\n",
       "    <tr style=\"text-align: right;\">\n",
       "      <th></th>\n",
       "      <th>label</th>\n",
       "      <th>youtube_id</th>\n",
       "      <th>time_start</th>\n",
       "      <th>time_end</th>\n",
       "      <th>split</th>\n",
       "    </tr>\n",
       "  </thead>\n",
       "  <tbody>\n",
       "    <tr>\n",
       "      <th>0</th>\n",
       "      <td>clay pottery making</td>\n",
       "      <td>---0dWlqevI</td>\n",
       "      <td>19</td>\n",
       "      <td>29</td>\n",
       "      <td>train</td>\n",
       "    </tr>\n",
       "    <tr>\n",
       "      <th>1</th>\n",
       "      <td>news anchoring</td>\n",
       "      <td>---aQ-tA5_A</td>\n",
       "      <td>9</td>\n",
       "      <td>19</td>\n",
       "      <td>train</td>\n",
       "    </tr>\n",
       "    <tr>\n",
       "      <th>2</th>\n",
       "      <td>using bagging machine</td>\n",
       "      <td>---j12rm3WI</td>\n",
       "      <td>14</td>\n",
       "      <td>24</td>\n",
       "      <td>train</td>\n",
       "    </tr>\n",
       "    <tr>\n",
       "      <th>3</th>\n",
       "      <td>javelin throw</td>\n",
       "      <td>--07WQ2iBlw</td>\n",
       "      <td>1</td>\n",
       "      <td>11</td>\n",
       "      <td>train</td>\n",
       "    </tr>\n",
       "    <tr>\n",
       "      <th>4</th>\n",
       "      <td>climbing a rope</td>\n",
       "      <td>--0NTAs-fA0</td>\n",
       "      <td>29</td>\n",
       "      <td>39</td>\n",
       "      <td>train</td>\n",
       "    </tr>\n",
       "    <tr>\n",
       "      <th>5</th>\n",
       "      <td>sipping cup</td>\n",
       "      <td>--0l35AkU34</td>\n",
       "      <td>68</td>\n",
       "      <td>78</td>\n",
       "      <td>train</td>\n",
       "    </tr>\n",
       "    <tr>\n",
       "      <th>6</th>\n",
       "      <td>flipping pancake</td>\n",
       "      <td>--33Lscn6sk</td>\n",
       "      <td>4</td>\n",
       "      <td>14</td>\n",
       "      <td>train</td>\n",
       "    </tr>\n",
       "    <tr>\n",
       "      <th>7</th>\n",
       "      <td>tickling</td>\n",
       "      <td>--3OAstUWtU</td>\n",
       "      <td>45</td>\n",
       "      <td>55</td>\n",
       "      <td>train</td>\n",
       "    </tr>\n",
       "    <tr>\n",
       "      <th>8</th>\n",
       "      <td>watering plants</td>\n",
       "      <td>--3lTx87ebQ</td>\n",
       "      <td>23</td>\n",
       "      <td>33</td>\n",
       "      <td>train</td>\n",
       "    </tr>\n",
       "    <tr>\n",
       "      <th>9</th>\n",
       "      <td>eating spaghetti</td>\n",
       "      <td>--3ouPhoy2A</td>\n",
       "      <td>20</td>\n",
       "      <td>30</td>\n",
       "      <td>train</td>\n",
       "    </tr>\n",
       "    <tr>\n",
       "      <th>10</th>\n",
       "      <td>dribbling basketball</td>\n",
       "      <td>--4-0ihtnBU</td>\n",
       "      <td>58</td>\n",
       "      <td>68</td>\n",
       "      <td>train</td>\n",
       "    </tr>\n",
       "    <tr>\n",
       "      <th>11</th>\n",
       "      <td>calligraphy</td>\n",
       "      <td>--4NLFGNfAs</td>\n",
       "      <td>11</td>\n",
       "      <td>21</td>\n",
       "      <td>train</td>\n",
       "    </tr>\n",
       "    <tr>\n",
       "      <th>12</th>\n",
       "      <td>playing tennis</td>\n",
       "      <td>--56QUhyDQM</td>\n",
       "      <td>185</td>\n",
       "      <td>195</td>\n",
       "      <td>train</td>\n",
       "    </tr>\n",
       "    <tr>\n",
       "      <th>13</th>\n",
       "      <td>brushing floor</td>\n",
       "      <td>--5Tg3gW4s4</td>\n",
       "      <td>8</td>\n",
       "      <td>18</td>\n",
       "      <td>train</td>\n",
       "    </tr>\n",
       "    <tr>\n",
       "      <th>14</th>\n",
       "      <td>chiseling stone</td>\n",
       "      <td>--5kVeU1uco</td>\n",
       "      <td>58</td>\n",
       "      <td>68</td>\n",
       "      <td>train</td>\n",
       "    </tr>\n",
       "    <tr>\n",
       "      <th>15</th>\n",
       "      <td>crossing eyes</td>\n",
       "      <td>--5urtlw6gs</td>\n",
       "      <td>49</td>\n",
       "      <td>59</td>\n",
       "      <td>train</td>\n",
       "    </tr>\n",
       "    <tr>\n",
       "      <th>16</th>\n",
       "      <td>mountain climber (exercise)</td>\n",
       "      <td>--65_UAU7ao</td>\n",
       "      <td>0</td>\n",
       "      <td>10</td>\n",
       "      <td>train</td>\n",
       "    </tr>\n",
       "  </tbody>\n",
       "</table>\n",
       "</div>"
      ],
      "text/plain": [
       "                          label   youtube_id  time_start  time_end  split\n",
       "0           clay pottery making  ---0dWlqevI          19        29  train\n",
       "1                news anchoring  ---aQ-tA5_A           9        19  train\n",
       "2         using bagging machine  ---j12rm3WI          14        24  train\n",
       "3                 javelin throw  --07WQ2iBlw           1        11  train\n",
       "4               climbing a rope  --0NTAs-fA0          29        39  train\n",
       "5                   sipping cup  --0l35AkU34          68        78  train\n",
       "6              flipping pancake  --33Lscn6sk           4        14  train\n",
       "7                      tickling  --3OAstUWtU          45        55  train\n",
       "8               watering plants  --3lTx87ebQ          23        33  train\n",
       "9              eating spaghetti  --3ouPhoy2A          20        30  train\n",
       "10         dribbling basketball  --4-0ihtnBU          58        68  train\n",
       "11                  calligraphy  --4NLFGNfAs          11        21  train\n",
       "12               playing tennis  --56QUhyDQM         185       195  train\n",
       "13               brushing floor  --5Tg3gW4s4           8        18  train\n",
       "14              chiseling stone  --5kVeU1uco          58        68  train\n",
       "15                crossing eyes  --5urtlw6gs          49        59  train\n",
       "16  mountain climber (exercise)  --65_UAU7ao           0        10  train"
      ]
     },
     "execution_count": 5,
     "metadata": {},
     "output_type": "execute_result"
    }
   ],
   "source": [
    "df.head(17)"
   ]
  },
  {
   "cell_type": "code",
   "execution_count": 10,
   "id": "6b33a498",
   "metadata": {},
   "outputs": [],
   "source": [
    "url = \"https://www.youtube.com/watch?v=\"\n",
    "path = '../notebooks/Youtube'\n",
    "def download_youtube(video_url):\n",
    "    yt= YouTube(video_url)\n",
    "    yt.streams.get_by_itag(18).download(path,filename=df.)"
   ]
  },
  {
   "cell_type": "code",
   "execution_count": 8,
   "id": "b532fffd",
   "metadata": {},
   "outputs": [
    {
     "name": "stdout",
     "output_type": "stream",
     "text": [
      "Pottery Wheel Time Lapse Beginner Tall Vase\n",
      "ATV anchor fight\n",
      "SM2000 Automatic Pillow bag Vacuum Packaging Machine\n",
      "Javelin standing throw drill\n",
      "rope climbing\n",
      "Trinity drinking from sippy cup\n",
      "flipping a pancake\n",
      "watering the new cucumbers\n",
      "Eating Real Spaghetti\n",
      "How To: Never Lose the Ball When Dribbling CRAZY HANDLES from an Elite Basketball Trainer.\n",
      "Calligraphy - Emily\n",
      "12 year old boy playing tennis\n",
      "Fastest floor cleaning in the world\n",
      "carve a face 2 of 3\n",
      "Cross eyed challenge go\n",
      "Plank Climber\n",
      "Tap Dancing Show, Marseille 1/0712\n",
      "Router Planing Hard Maple\n",
      "Rick tomando nebulização!\n",
      "Suman Playing saxophone\n",
      "Angry woman slaps man! Man cries! Too funny!!\n",
      "Calvin learns to shake his head - 4 months\n",
      "Paul Driving the Tractor\n",
      "Delivering Mail Like a Boss!\n",
      "3 Year Old Riding Bike Without Training Wheels\n",
      "Hand Made Font in calligraphy\n",
      "how 2 put on contacts\n",
      "Legless Rope Climb (Go Fighters CrossFit)\n",
      "Shaving my dads head😱\n",
      "Nicky building puzzles at school\n",
      "String Rakes on Bass Guitar - Spice Up Your Bass Playing\n",
      "Seth playing will Thomas the train tracks.\n",
      "Oreo Thins and Dinosaur Excavation Review\n",
      "Brushing teeth\n",
      "Hair wash #2\n",
      "how to open bottle of wine without wine-opener?!\n",
      "fingers snapping\n",
      "Single crossing eyes part 2\n",
      "Como fazer unha unha de oncinha !!\n",
      "The Balloon Kid shows how to make a monkey\n",
      "Beer pouring machine\n",
      "Salada Nutritiva - Culinária\n",
      "Masha Diatchenko (15 years old) plays Stravinsky Violin Concerto, 2nd mov.\n",
      "Daintree Bird Feeding\n",
      "Kids wading\n",
      "How to cut a watermelon.!\n",
      "Me tormenting the cat\n",
      "terry bond playing drums\n",
      "The Aerobics\n",
      "Sausage stuffing.mp4\n",
      "Natalia (3 years old) playing OldMcDonald on ukulele\n",
      "long length throwing knife\n",
      "Siguldas Kauss 2014 Paralēlais slaloms   Part 3\n",
      "how to knit\n",
      "Preparation for Headstand\n",
      "Flames of the Forest Rainforest and Aboriginal Cultural Dining Experience\n",
      "Develop Your Athletes with These Dynamic Hurdling Drills!\n",
      "water balloon fight.\n",
      "Nas pontas dos pés..\n",
      "Swedish news anchors breaks down\n",
      "Opening gifts\n",
      "Weird stick shift sound\n",
      "Zildjian Mike Mangini Trashformer/Oriental China Trash Cymbal Stacks - Played by Mike Mangini\n",
      "Cortar carne\n",
      "How to make a paper airplane\n",
      "Bundle Packing For Wrinkle Free Clothes | Carry-On | NBC News\n",
      "Gottlieb Challenger Pinball #1\n",
      "Shifting, Smooth is Fast\n",
      "Vacuum\n",
      "Examples of shuffling on basic clogging step\n",
      "How to Record Music in a Dorm Room\n",
      "Civil War Class\n",
      "Taylor surfing in really rough water\n",
      "Me playing drums\n",
      "Cívis Bowling Team  -  Siketek SC.  NB1. bowling csapatbajnokság. 2016 09 18\n",
      "UK Snowkiting - Cleeve Common\n",
      "Lighting the rose on fire\n",
      "I Eat Cake time lapse part 1\n",
      "Blowing up balloons\n",
      "Inflating a balloon #435\n",
      "Hand lettering tombow alphabet\n",
      "How to Cut a Prime Tomahawk Steak\n",
      "Beekeeping in Jamaica with Robert Morris\n",
      "The TurningCrunchy.com Mama shows us the fastest way to cut an apple\n",
      "dribbles\n",
      "Time lapse archaeology: excavations at Old Quay, Isles of Scilly\n",
      "Batendo palma p a galinha pintadinha....\n",
      "Rangi Ruru Prize Giving 2014 - Gold Braid Awards\n",
      "How to Cut a Tiered Cake  | We Heart Cake\n",
      "2013 Zoo Trip\n",
      "Pedido de Casamento de Raphael e Valéria.\n",
      "I love petting zoo's\n",
      "Easter Egg Hunt\n",
      "Container Gardening Olive Tree Planting\n",
      "Christmas Day Snow Bike on Duke's Ridge\n",
      "weiner pong\n",
      "brushing teeth\n",
      "Sarah Dribble Drills 061612.wmv\n",
      "00013  Associação Capoeira Especial M. Ponciano G.Cordão de Ouro Guaratinguetá\n",
      "Clipping Nails\n",
      "Battle ropes for fat loss\n",
      "Chaffey track triple jump\n",
      "Chipolatas Maison\n",
      "\"Lucy\" participates in annual Grape Stomp Festival\n",
      "Cartwheeling\n",
      "How to change oil honda civic 2006 2007 2008 2009 2010 2011\n",
      "Gong Performance\n",
      "Lock picking.My first horizontal shackle pad lock\n",
      "spinning poi at English bay\n",
      "Texas Caviar (bean salad) Recipe - ADC Video\n",
      "Marble Game \"Solitaire\" Solution Trick\n",
      "UNR 2011 Sheep Shearing\n",
      "Cómo hacer la copia de un documento rígido con la HP Deskjet 3775?\n",
      "2012-02-06 Sword Club Fight 1 Thomas Vs Victor\n",
      "Lets build a snowman!!\n",
      "TROCAR PNEU É COISA DE HOMEM? CLARO QUE NÃO | Coisa de Mulher, Sim!\n",
      "Hula Hooping Fun pt1\n",
      "UK Rock Paper Scissors Championship 2010 - Richard Gottfried vs. Matt Evans\n",
      "I finally got a double bodyweight 150 kg Clean and Jerk\n",
      "Milking the cow\n",
      "Sam somersaults\n",
      "Blues jam in E / Free Jamming with Shanghai harmonica player \" KaKa \" Oct 2013\n",
      "Andrew Kelly catching a football\n",
      "Advanced Pottery Techniques : Compressing Clay in Pottery\n",
      "Manaoag Church\n",
      "Money count\n",
      "Leg Shaving Pay-Off\n",
      "Chipping 10 Yards - Golf Lessons Orange County CA\n",
      "how to open a bottle of wine like a boss\n",
      "LITTER PICKER Park Trash Cleanup\n",
      "Neck.mp4\n",
      "Flying side kick\n",
      "kev chest wax for Cancer Research\n",
      "WallBall 4/10/14 - Catching warm up\n",
      "Meat Grinder\n",
      "Dumbbell Alternating Front Raise\n",
      "Battle of the year Breakdance\n",
      "2013 Sep 9th Nicolas brushing Daddy's hair\n",
      "Getting a Dragon Tattoo on my leg\n",
      "La esgrima del Uruguay\n",
      "Workshop 5 por 5 - Krump - Anderson Junior\n",
      "PyleMcRae's Sandcastle Building Corner\n",
      "Feed the Birds -Toppins a Bag\n",
      "Video in which my head is shaved\n",
      "Oil Immersion Microscopy Animation\n",
      "Girl drive tractor || punjaban\n",
      "Liam on a wheelchair.\n",
      "Jaidyn's Big Yawn\n",
      "Kelly's Huddle 150309\n",
      "Монокулярная повязка  Monocular bandage\n",
      "Gertie's thoughts on shaking hands are clear.\n",
      "Mario aka Chief Rope Climb - Atomic CrossFit\n",
      "Having Fun with Sailing in Crete\n",
      "fast pencil beat\n",
      "3 steps to solve a rubix cube\n",
      "Flute simple\n",
      "Kayaking Sugar Creek at Sunset\n",
      "Finger cracking good\n",
      "Josh water skiing summer 2016\n",
      "Max barks at motorcycle\n",
      "Awesome belly dance\n",
      "Hood Motorcycle Bike Stunting\n",
      "Me hula hooping (part 1) ^-^\n",
      "2005 Chevy Cobalt Oil Change 2.2L Ecotec\n",
      "Cometcat 37 Sail Republic\n",
      "Keegan climbing a tree\n",
      "We Caught so Many Bass (Ice Fishing)\n",
      "Power pull ups w/med ball push ups\n",
      "Power pull ups w/med ball push ups\n",
      "Crawling\n",
      "Wake up baby :)\n",
      "Sourdough country bread baking - Slap and fold\n",
      "Eating Spaghetti\n",
      "Tap Dancing at Sactown Swings\n",
      "Dog Training for Kids / Basic Puppy Obedience\n",
      "Base jump, Twin Falls Idaho\n",
      "Sprinkler system with babler\n",
      "Jump Rope - Rope Skipping, CrossFit basics with - Olympian Buddy Lee\n",
      "AJ Mac getting a haircut\n",
      "How to Wrap a Present  Professionly (Easy Tutorial) (Part 1)\n",
      "How to put on and take off circle lens.\n",
      "bike fix\n",
      "Atop a camel\n",
      "Zumba Dance May 11, 2012 Part 34 of 35\n",
      "Shuck me, shuck me, eat me raw.\n",
      "Cornet No Pressure technique\n",
      "Watermelon Eating Competition\n",
      "FUTBOL AMERICANO\n",
      "Karaoke\n",
      "Dr. Dish Basketball Shooting Machine and Team Trainer\n",
      "Mika playing the flute 2011\n",
      "Blowing Her Nose\n",
      "No footer on Unicycle\n",
      "Hand Embroidery   Designs for Baby Clothes   Flower Basket   HandiWorks #47\n",
      "Making pizza - part 2\n",
      "how to cook chinese sausage\n",
      "aggrooming.MOV\n",
      "Bmx Faceplant\n",
      "Making a Leather Knife Sheath\n",
      "somersaults\n",
      "Apple iPad Unboxing\n",
      "DIY Henna Eyebrow tattoo ❤\n",
      "British international trumpet star visits Sandwell school\n",
      "Berkeley Riichi Mahjong League Spring 2019 2-25-19\n",
      "How to Threading Single needle (របៀបដាក់អំបោះម្ចូលមួយ)\n",
      "Swinging on the swing\n",
      "Tuner Dáda Snowkiting 13.3.2010\n",
      "cleaning the toilet\n",
      "How to tie Sqare Knot\n",
      "Sanding Dahlias Bedroom Floor - April 2016\n",
      "Opening weird door\n",
      "Throwing the ball\n",
      "Tie a shoe\n",
      "Kenter Dirt Jumps Mini Clips\n",
      "Parasailing in Boracay\n",
      "Crianca Aprendendo a lavar roupa\n",
      "Figure of Eight Knot on the Bight\n",
      "making tea\n",
      "scalp massage\n",
      "Daniel winking\n",
      "Eating Donuts\n",
      "Gottlieb Pinball Machine (EM) from 1974 \"Free Fall\"\n",
      "Clawdad tying tutorial - orange\n",
      "405lbs bench pressing\n",
      "Herb and Goat Cheese Crostini with Crab from the Range Steakhouse\n",
      "Belly button play lotion rub\n",
      "Cartwheeling\n",
      "Downhill Longboarding Perspectives\n",
      "Serpent Suction Side Pool Cleaner Review - Leslie's Exclusive\n",
      "tampa da garrafa!\n",
      "Shaving My Head\n",
      "Mo crossing eyes and moving one at a time !!! Eye tricks\n",
      "Connect the dots! Easy eyeliner tutorial\n",
      "Storm 12.5 - Arm wrestling\n",
      "Cortland, NY 12-30-12 snowmobiling\n",
      "Weird finger snapping\n",
      "Master Welder William\n",
      "Jumping wildly at a sofa!\n",
      "Grilled Shrimp With Corn & Black Bean Salad : Shrimp & Seafood Salads\n",
      "Pretending to blow her nose, copying me bc im sick lol ♡\n",
      "Grandma taught her to jump on couch naughty\n",
      "16 VACUMCAST TRONIC OIL CHANGE OF THE VACUUM PUMP\n",
      "Butterfly Stroke Practice\n",
      "I- Ironing and Pressing\n",
      "Floor Refinishing 115yrs\n",
      "Como cortar e consumir uma laranja!\n",
      "GRAFFITI\n",
      "Estalo de dedos . Tokyo Ghoul\n",
      "AAT C-Max Stairclimber; c-max the push wheelchair with stair climbing function\n",
      "Transylvanian traditional Bee Keeping\n",
      "Cutting Notches for Lap Joints with a Circular Saw | Rockler Skill Builders\n",
      "Cutting Notches for Lap Joints with a Circular Saw | Rockler Skill Builders\n"
     ]
    },
    {
     "name": "stdout",
     "output_type": "stream",
     "text": [
      "Opening Oysters, Looking for Pearls\n",
      "Miwebito Sale en Fuegos Artificiales.\n",
      "Mike Wilson Quadruple Backflips a 99 Foot Rope Swing - Going Big (Official video)\n",
      "Best Gluten Free Chocolate Chip Cookies\n",
      "Winged Eyeliner Tutorial For Hooded Eyes\n",
      "Amateur Poker Playing at New Years Eve\n",
      "Simon & Jack feeding birds\n",
      "Hil opens a beer with her teeth\n",
      "Exprime la naranja\n",
      "kug back bend\n",
      "Full Situps (with and without dumbbells)\n",
      "Canned Tuna Sushi Hand Rolls\n",
      "Indian Baby Doesn't Want to wake Up\n",
      "Sword Fighting!.mov\n",
      "GoFundMe\n",
      "Romantic Dinner: Valentine's Day Table Setting\n",
      "Climbing rope Ninja Mom\n",
      "How to shape up a Beard | Razor Shaved Beard & Skinny sideburns | Shaved boxed Beard, haircut\n",
      "Sailing Bavaria 2007\n",
      "Bono accepting award at the NAACP awards\n",
      "Inan kayak - Shubie Park, Dartmouth, Nova-Scotia - July 2010\n",
      "Opening a Present 2006\n",
      "Wexford Men's Darts team Celebrating 2014 Regency\n",
      "Fine Art Bartending   Candy Cane Shot\n",
      "Track 59 Boys Pole Vault - Waipahu Marauder   3-15-14\n",
      "CNA Essential Skill: Handwashing\n",
      "Willian Fazendo Polimento Para Alltecc\n",
      "ice fishing\n",
      "Nica orange peel\n",
      "Lee Shoveling Snow\n",
      "snowkiting jones beach\n",
      "Calcular corrente no primário do transformador\n",
      "Treadmill\n",
      "1 yr old climbs ladder and slides all by himself!!\n",
      "Charleston dancers for the 1920s\n",
      "VAGANOVA Sabre dance from ballet Gayaneh Танец  Саблями из балета Гаяне\n",
      "Petite leçon de polo\n",
      "Day 1 of 365 Days of Baking ~ Carmel-Apple Pie Crust Cookies\n",
      "Hand rolling pasta in Bologna, Italy\n",
      "Zoo lisboa video-2011-08-13 part 1\n",
      "A master Wood Mizer operator at work.\n"
     ]
    },
    {
     "ename": "KeyboardInterrupt",
     "evalue": "",
     "output_type": "error",
     "traceback": [
      "\u001b[0;31m---------------------------------------------------------------------------\u001b[0m",
      "\u001b[0;31mKeyboardInterrupt\u001b[0m                         Traceback (most recent call last)",
      "\u001b[0;32m/tmp/ipykernel_1057/1704878362.py\u001b[0m in \u001b[0;36m<module>\u001b[0;34m\u001b[0m\n\u001b[1;32m      4\u001b[0m     \u001b[0myt\u001b[0m \u001b[0;34m=\u001b[0m \u001b[0mYouTube\u001b[0m\u001b[0;34m(\u001b[0m\u001b[0murl\u001b[0m\u001b[0;34m)\u001b[0m\u001b[0;34m\u001b[0m\u001b[0;34m\u001b[0m\u001b[0m\n\u001b[1;32m      5\u001b[0m     \u001b[0;32mtry\u001b[0m\u001b[0;34m:\u001b[0m\u001b[0;34m\u001b[0m\u001b[0;34m\u001b[0m\u001b[0m\n\u001b[0;32m----> 6\u001b[0;31m         \u001b[0mstream\u001b[0m \u001b[0;34m=\u001b[0m \u001b[0myt\u001b[0m\u001b[0;34m.\u001b[0m\u001b[0mstreams\u001b[0m\u001b[0;34m\u001b[0m\u001b[0;34m\u001b[0m\u001b[0m\n\u001b[0m\u001b[1;32m      7\u001b[0m     \u001b[0;32mexcept\u001b[0m \u001b[0;34m(\u001b[0m\u001b[0mKeyError\u001b[0m\u001b[0;34m,\u001b[0m\u001b[0mVideoPrivate\u001b[0m\u001b[0;34m,\u001b[0m\u001b[0mVideoUnavailable\u001b[0m\u001b[0;34m,\u001b[0m\u001b[0mAgeRestrictedError\u001b[0m\u001b[0;34m,\u001b[0m\u001b[0mLiveStreamError\u001b[0m\u001b[0;34m,\u001b[0m \u001b[0mRecordingUnavailable\u001b[0m\u001b[0;34m,\u001b[0m \u001b[0mMembersOnly\u001b[0m\u001b[0;34m,\u001b[0m \u001b[0mVideoRegionBlocked\u001b[0m\u001b[0;34m)\u001b[0m\u001b[0;34m:\u001b[0m\u001b[0;34m\u001b[0m\u001b[0;34m\u001b[0m\u001b[0m\n\u001b[1;32m      8\u001b[0m         \u001b[0;32mcontinue\u001b[0m\u001b[0;34m\u001b[0m\u001b[0;34m\u001b[0m\u001b[0m\n",
      "\u001b[0;32m~/.pyenv/versions/3.8.12/envs/737-human-action-recognition/lib/python3.8/site-packages/pytube/__main__.py\u001b[0m in \u001b[0;36mstreams\u001b[0;34m(self)\u001b[0m\n\u001b[1;32m    290\u001b[0m         \"\"\"\n\u001b[1;32m    291\u001b[0m         \u001b[0mself\u001b[0m\u001b[0;34m.\u001b[0m\u001b[0mcheck_availability\u001b[0m\u001b[0;34m(\u001b[0m\u001b[0;34m)\u001b[0m\u001b[0;34m\u001b[0m\u001b[0;34m\u001b[0m\u001b[0m\n\u001b[0;32m--> 292\u001b[0;31m         \u001b[0;32mreturn\u001b[0m \u001b[0mStreamQuery\u001b[0m\u001b[0;34m(\u001b[0m\u001b[0mself\u001b[0m\u001b[0;34m.\u001b[0m\u001b[0mfmt_streams\u001b[0m\u001b[0;34m)\u001b[0m\u001b[0;34m\u001b[0m\u001b[0;34m\u001b[0m\u001b[0m\n\u001b[0m\u001b[1;32m    293\u001b[0m \u001b[0;34m\u001b[0m\u001b[0m\n\u001b[1;32m    294\u001b[0m     \u001b[0;34m@\u001b[0m\u001b[0mproperty\u001b[0m\u001b[0;34m\u001b[0m\u001b[0;34m\u001b[0m\u001b[0m\n",
      "\u001b[0;32m~/.pyenv/versions/3.8.12/envs/737-human-action-recognition/lib/python3.8/site-packages/pytube/__main__.py\u001b[0m in \u001b[0;36mfmt_streams\u001b[0;34m(self)\u001b[0m\n\u001b[1;32m    175\u001b[0m         \u001b[0;31m# https://github.com/pytube/pytube/issues/1054\u001b[0m\u001b[0;34m\u001b[0m\u001b[0;34m\u001b[0m\u001b[0;34m\u001b[0m\u001b[0m\n\u001b[1;32m    176\u001b[0m         \u001b[0;32mtry\u001b[0m\u001b[0;34m:\u001b[0m\u001b[0;34m\u001b[0m\u001b[0;34m\u001b[0m\u001b[0m\n\u001b[0;32m--> 177\u001b[0;31m             \u001b[0mextract\u001b[0m\u001b[0;34m.\u001b[0m\u001b[0mapply_signature\u001b[0m\u001b[0;34m(\u001b[0m\u001b[0mstream_manifest\u001b[0m\u001b[0;34m,\u001b[0m \u001b[0mself\u001b[0m\u001b[0;34m.\u001b[0m\u001b[0mvid_info\u001b[0m\u001b[0;34m,\u001b[0m \u001b[0mself\u001b[0m\u001b[0;34m.\u001b[0m\u001b[0mjs\u001b[0m\u001b[0;34m)\u001b[0m\u001b[0;34m\u001b[0m\u001b[0;34m\u001b[0m\u001b[0m\n\u001b[0m\u001b[1;32m    178\u001b[0m         \u001b[0;32mexcept\u001b[0m \u001b[0mexceptions\u001b[0m\u001b[0;34m.\u001b[0m\u001b[0mExtractError\u001b[0m\u001b[0;34m:\u001b[0m\u001b[0;34m\u001b[0m\u001b[0;34m\u001b[0m\u001b[0m\n\u001b[1;32m    179\u001b[0m             \u001b[0;31m# To force an update to the js file, we clear the cache and retry\u001b[0m\u001b[0;34m\u001b[0m\u001b[0;34m\u001b[0m\u001b[0;34m\u001b[0m\u001b[0m\n",
      "\u001b[0;32m~/.pyenv/versions/3.8.12/envs/737-human-action-recognition/lib/python3.8/site-packages/pytube/extract.py\u001b[0m in \u001b[0;36mapply_signature\u001b[0;34m(stream_manifest, vid_info, js)\u001b[0m\n\u001b[1;32m    407\u001b[0m \u001b[0;34m\u001b[0m\u001b[0m\n\u001b[1;32m    408\u001b[0m     \"\"\"\n\u001b[0;32m--> 409\u001b[0;31m     \u001b[0mcipher\u001b[0m \u001b[0;34m=\u001b[0m \u001b[0mCipher\u001b[0m\u001b[0;34m(\u001b[0m\u001b[0mjs\u001b[0m\u001b[0;34m=\u001b[0m\u001b[0mjs\u001b[0m\u001b[0;34m)\u001b[0m\u001b[0;34m\u001b[0m\u001b[0;34m\u001b[0m\u001b[0m\n\u001b[0m\u001b[1;32m    410\u001b[0m \u001b[0;34m\u001b[0m\u001b[0m\n\u001b[1;32m    411\u001b[0m     \u001b[0;32mfor\u001b[0m \u001b[0mi\u001b[0m\u001b[0;34m,\u001b[0m \u001b[0mstream\u001b[0m \u001b[0;32min\u001b[0m \u001b[0menumerate\u001b[0m\u001b[0;34m(\u001b[0m\u001b[0mstream_manifest\u001b[0m\u001b[0;34m)\u001b[0m\u001b[0;34m:\u001b[0m\u001b[0;34m\u001b[0m\u001b[0;34m\u001b[0m\u001b[0m\n",
      "\u001b[0;32m~/.pyenv/versions/3.8.12/envs/737-human-action-recognition/lib/python3.8/site-packages/pytube/cipher.py\u001b[0m in \u001b[0;36m__init__\u001b[0;34m(self, js)\u001b[0m\n\u001b[1;32m     27\u001b[0m \u001b[0;32mclass\u001b[0m \u001b[0mCipher\u001b[0m\u001b[0;34m:\u001b[0m\u001b[0;34m\u001b[0m\u001b[0;34m\u001b[0m\u001b[0m\n\u001b[1;32m     28\u001b[0m     \u001b[0;32mdef\u001b[0m \u001b[0m__init__\u001b[0m\u001b[0;34m(\u001b[0m\u001b[0mself\u001b[0m\u001b[0;34m,\u001b[0m \u001b[0mjs\u001b[0m\u001b[0;34m:\u001b[0m \u001b[0mstr\u001b[0m\u001b[0;34m)\u001b[0m\u001b[0;34m:\u001b[0m\u001b[0;34m\u001b[0m\u001b[0;34m\u001b[0m\u001b[0m\n\u001b[0;32m---> 29\u001b[0;31m         \u001b[0mself\u001b[0m\u001b[0;34m.\u001b[0m\u001b[0mtransform_plan\u001b[0m\u001b[0;34m:\u001b[0m \u001b[0mList\u001b[0m\u001b[0;34m[\u001b[0m\u001b[0mstr\u001b[0m\u001b[0;34m]\u001b[0m \u001b[0;34m=\u001b[0m \u001b[0mget_transform_plan\u001b[0m\u001b[0;34m(\u001b[0m\u001b[0mjs\u001b[0m\u001b[0;34m)\u001b[0m\u001b[0;34m\u001b[0m\u001b[0;34m\u001b[0m\u001b[0m\n\u001b[0m\u001b[1;32m     30\u001b[0m         \u001b[0mvar_regex\u001b[0m \u001b[0;34m=\u001b[0m \u001b[0mre\u001b[0m\u001b[0;34m.\u001b[0m\u001b[0mcompile\u001b[0m\u001b[0;34m(\u001b[0m\u001b[0;34mr\"^\\w+\\W\"\u001b[0m\u001b[0;34m)\u001b[0m\u001b[0;34m\u001b[0m\u001b[0;34m\u001b[0m\u001b[0m\n\u001b[1;32m     31\u001b[0m         \u001b[0mvar_match\u001b[0m \u001b[0;34m=\u001b[0m \u001b[0mvar_regex\u001b[0m\u001b[0;34m.\u001b[0m\u001b[0msearch\u001b[0m\u001b[0;34m(\u001b[0m\u001b[0mself\u001b[0m\u001b[0;34m.\u001b[0m\u001b[0mtransform_plan\u001b[0m\u001b[0;34m[\u001b[0m\u001b[0;36m0\u001b[0m\u001b[0;34m]\u001b[0m\u001b[0;34m)\u001b[0m\u001b[0;34m\u001b[0m\u001b[0;34m\u001b[0m\u001b[0m\n",
      "\u001b[0;32m~/.pyenv/versions/3.8.12/envs/737-human-action-recognition/lib/python3.8/site-packages/pytube/cipher.py\u001b[0m in \u001b[0;36mget_transform_plan\u001b[0;34m(js)\u001b[0m\n\u001b[1;32m    192\u001b[0m     'DE.kT(a,21)']\n\u001b[1;32m    193\u001b[0m     \"\"\"\n\u001b[0;32m--> 194\u001b[0;31m     \u001b[0mname\u001b[0m \u001b[0;34m=\u001b[0m \u001b[0mre\u001b[0m\u001b[0;34m.\u001b[0m\u001b[0mescape\u001b[0m\u001b[0;34m(\u001b[0m\u001b[0mget_initial_function_name\u001b[0m\u001b[0;34m(\u001b[0m\u001b[0mjs\u001b[0m\u001b[0;34m)\u001b[0m\u001b[0;34m)\u001b[0m\u001b[0;34m\u001b[0m\u001b[0;34m\u001b[0m\u001b[0m\n\u001b[0m\u001b[1;32m    195\u001b[0m     \u001b[0mpattern\u001b[0m \u001b[0;34m=\u001b[0m \u001b[0;34mr\"%s=function\\(\\w\\){[a-z=\\.\\(\\\"\\)]*;(.*);(?:.+)}\"\u001b[0m \u001b[0;34m%\u001b[0m \u001b[0mname\u001b[0m\u001b[0;34m\u001b[0m\u001b[0;34m\u001b[0m\u001b[0m\n\u001b[1;32m    196\u001b[0m     \u001b[0mlogger\u001b[0m\u001b[0;34m.\u001b[0m\u001b[0mdebug\u001b[0m\u001b[0;34m(\u001b[0m\u001b[0;34m\"getting transform plan\"\u001b[0m\u001b[0;34m)\u001b[0m\u001b[0;34m\u001b[0m\u001b[0;34m\u001b[0m\u001b[0m\n",
      "\u001b[0;32m~/.pyenv/versions/3.8.12/envs/737-human-action-recognition/lib/python3.8/site-packages/pytube/cipher.py\u001b[0m in \u001b[0;36mget_initial_function_name\u001b[0;34m(js)\u001b[0m\n\u001b[1;32m    162\u001b[0m     \u001b[0;32mfor\u001b[0m \u001b[0mpattern\u001b[0m \u001b[0;32min\u001b[0m \u001b[0mfunction_patterns\u001b[0m\u001b[0;34m:\u001b[0m\u001b[0;34m\u001b[0m\u001b[0;34m\u001b[0m\u001b[0m\n\u001b[1;32m    163\u001b[0m         \u001b[0mregex\u001b[0m \u001b[0;34m=\u001b[0m \u001b[0mre\u001b[0m\u001b[0;34m.\u001b[0m\u001b[0mcompile\u001b[0m\u001b[0;34m(\u001b[0m\u001b[0mpattern\u001b[0m\u001b[0;34m)\u001b[0m\u001b[0;34m\u001b[0m\u001b[0;34m\u001b[0m\u001b[0m\n\u001b[0;32m--> 164\u001b[0;31m         \u001b[0mfunction_match\u001b[0m \u001b[0;34m=\u001b[0m \u001b[0mregex\u001b[0m\u001b[0;34m.\u001b[0m\u001b[0msearch\u001b[0m\u001b[0;34m(\u001b[0m\u001b[0mjs\u001b[0m\u001b[0;34m)\u001b[0m\u001b[0;34m\u001b[0m\u001b[0;34m\u001b[0m\u001b[0m\n\u001b[0m\u001b[1;32m    165\u001b[0m         \u001b[0;32mif\u001b[0m \u001b[0mfunction_match\u001b[0m\u001b[0;34m:\u001b[0m\u001b[0;34m\u001b[0m\u001b[0;34m\u001b[0m\u001b[0m\n\u001b[1;32m    166\u001b[0m             \u001b[0mlogger\u001b[0m\u001b[0;34m.\u001b[0m\u001b[0mdebug\u001b[0m\u001b[0;34m(\u001b[0m\u001b[0;34m\"finished regex search, matched: %s\"\u001b[0m\u001b[0;34m,\u001b[0m \u001b[0mpattern\u001b[0m\u001b[0;34m)\u001b[0m\u001b[0;34m\u001b[0m\u001b[0;34m\u001b[0m\u001b[0m\n",
      "\u001b[0;31mKeyboardInterrupt\u001b[0m: "
     ]
    }
   ],
   "source": [
    "liste = []\n",
    "for video in range(1000):\n",
    "    url = \"https://www.youtube.com/watch?v=\"+df.youtube_id[video]\n",
    "    yt = YouTube(url)\n",
    "    try:\n",
    "        stream = yt.streams\n",
    "    except (KeyError,VideoPrivate,VideoUnavailable,AgeRestrictedError,LiveStreamError, RecordingUnavailable, MembersOnly, VideoRegionBlocked):\n",
    "        continue\n",
    "    print(yt.title)\n",
    "    length_video = yt.length\n",
    "    liste.append(length_video)\n",
    "\n",
    "    #yt.streams.get_by_itag(18).download(path,filename=(f'test{df.youtube_id[video]}.mp4'))\n"
   ]
  },
  {
   "cell_type": "code",
   "execution_count": 10,
   "id": "739c7cef",
   "metadata": {},
   "outputs": [
    {
     "name": "stdout",
     "output_type": "stream",
     "text": [
      "[30, 206, 153, 10, 39, 90, 10, 32, 43, 156, 20, 205, 96, 84, 73, 6, 251, 273, 23, 144, 35, 79, 15, 11, 62, 15, 95, 47, 711, 12, 555, 104, 764, 26, 43, 44, 6, 52, 243, 164, 36, 444, 320, 109, 8, 161, 100, 288, 266, 499, 45, 10, 664, 112, 298, 193, 181, 57, 27, 62, 644, 11, 164, 251, 96, 117, 340, 51, 19, 52, 312, 166, 152, 62, 8223, 120, 317, 7, 679, 16, 201, 45, 356, 34, 79, 120, 51, 1576, 333, 61, 141, 371, 25, 965, 30, 66, 160, 166, 99, 44, 36, 6, 14, 179, 9, 288, 74, 328, 51, 327, 58, 187, 83, 320, 93, 315, 38, 34, 30, 58, 27, 151, 50, 75, 26, 44, 69, 112, 34, 83, 251, 23, 426, 34, 12, 39, 104, 135, 138, 22, 18, 414, 86, 640, 39, 75, 49, 6, 46, 49, 33, 22, 840, 13, 128, 30, 72, 14, 12, 54, 105, 153, 95, 437, 37, 60, 696, 41, 41, 31, 39, 49, 130, 140, 154, 46, 170, 138, 43, 267, 127, 214, 74, 18, 25, 36, 451, 309, 171, 79, 22, 17, 10, 715, 86, 101, 29, 11, 914, 15, 238, 339, 98, 14995, 96, 28, 98, 260, 35, 106, 4, 314, 96, 27, 90, 78, 41, 75, 19, 21, 8, 150, 220, 29, 196, 289, 18, 14, 151, 34, 215, 19, 237, 674, 777, 22, 26, 106, 278, 10, 34, 46, 49, 183, 73, 76, 8, 10, 63, 80, 417, 417, 93, 13, 216, 109, 562, 113, 88, 14, 337, 13, 44, 59, 88, 15, 47, 197, 22, 720, 538, 83, 30, 42, 58, 105, 131, 107, 136, 41, 24, 86, 63, 426, 31, 65, 21, 148, 103, 251, 27, 462, 175]\n"
     ]
    },
    {
     "data": {
      "text/plain": [
       "293"
      ]
     },
     "execution_count": 10,
     "metadata": {},
     "output_type": "execute_result"
    }
   ],
   "source": [
    "print(liste)\n",
    "len(liste)"
   ]
  },
  {
   "cell_type": "code",
   "execution_count": null,
   "id": "a118766d",
   "metadata": {},
   "outputs": [],
   "source": []
  },
  {
   "cell_type": "code",
   "execution_count": 23,
   "id": "c6d2b783",
   "metadata": {},
   "outputs": [
    {
     "data": {
      "text/plain": [
       "'/home/julian/code/juliannegele/737-human-action-recognition/notebooks'"
      ]
     },
     "execution_count": 23,
     "metadata": {},
     "output_type": "execute_result"
    }
   ],
   "source": [
    "os.getcwd()"
   ]
  },
  {
   "cell_type": "code",
   "execution_count": 47,
   "id": "5186d5c0",
   "metadata": {
    "scrolled": true
   },
   "outputs": [
    {
     "name": "stderr",
     "output_type": "stream",
     "text": [
      "chunk:   0%|▎                                                             | 1/221 [10:54<40:00:16, 654.62s/it, now=None]"
     ]
    },
    {
     "name": "stdout",
     "output_type": "stream",
     "text": [
      "Moviepy - Building video /home/julian/code/juliannegele/737-human-action-recognition/notebooks/Edited/test--5Tg3gW4s4.mp4.\n",
      "Moviepy - Writing video /home/julian/code/juliannegele/737-human-action-recognition/notebooks/Edited/test--5Tg3gW4s4.mp4\n",
      "\n"
     ]
    },
    {
     "name": "stderr",
     "output_type": "stream",
     "text": [
      "\n",
      "t:   0%|                                                                              | 0/100 [00:00<?, ?it/s, now=None]\u001b[A\n",
      "t:   6%|████▏                                                                 | 6/100 [00:00<00:01, 57.70it/s, now=None]\u001b[A\n",
      "t:  15%|██████████▎                                                          | 15/100 [00:00<00:01, 73.27it/s, now=None]\u001b[A\n",
      "t:  24%|████████████████▌                                                    | 24/100 [00:00<00:00, 78.82it/s, now=None]\u001b[A\n",
      "t:  32%|██████████████████████                                               | 32/100 [00:00<00:00, 72.23it/s, now=None]\u001b[A\n",
      "t:  42%|████████████████████████████▉                                        | 42/100 [00:00<00:00, 80.27it/s, now=None]\u001b[A\n",
      "t:  51%|███████████████████████████████████▏                                 | 51/100 [00:00<00:00, 60.50it/s, now=None]\u001b[A\n",
      "t:  58%|████████████████████████████████████████                             | 58/100 [00:01<00:01, 37.66it/s, now=None]\u001b[A\n",
      "t:  64%|████████████████████████████████████████████▏                        | 64/100 [00:01<00:00, 36.30it/s, now=None]\u001b[A\n",
      "t:  69%|███████████████████████████████████████████████▌                     | 69/100 [00:01<00:00, 34.96it/s, now=None]\u001b[A\n",
      "t:  74%|███████████████████████████████████████████████████                  | 74/100 [00:01<00:00, 34.86it/s, now=None]\u001b[A\n",
      "t:  78%|█████████████████████████████████████████████████████▊               | 78/100 [00:01<00:00, 34.83it/s, now=None]\u001b[A\n",
      "t:  82%|████████████████████████████████████████████████████████▌            | 82/100 [00:01<00:00, 33.56it/s, now=None]\u001b[A\n",
      "t:  86%|███████████████████████████████████████████████████████████▎         | 86/100 [00:02<00:00, 32.39it/s, now=None]\u001b[A\n",
      "t:  90%|██████████████████████████████████████████████████████████████       | 90/100 [00:02<00:00, 30.68it/s, now=None]\u001b[A\n",
      "t:  94%|████████████████████████████████████████████████████████████████▊    | 94/100 [00:02<00:00, 30.69it/s, now=None]\u001b[A\n",
      "t:  98%|███████████████████████████████████████████████████████████████████▌ | 98/100 [00:02<00:00, 30.95it/s, now=None]\u001b[A\n",
      "chunk:   0%|▎                                                             | 1/221 [10:58<40:13:31, 658.23s/it, now=None]\u001b[A"
     ]
    },
    {
     "name": "stdout",
     "output_type": "stream",
     "text": [
      "Moviepy - Done !\n",
      "Moviepy - video ready /home/julian/code/juliannegele/737-human-action-recognition/notebooks/Edited/test--5Tg3gW4s4.mp4\n",
      "Moviepy - Building video /home/julian/code/juliannegele/737-human-action-recognition/notebooks/Edited/test--h55t9J0Xo.mp4.\n",
      "Moviepy - Writing video /home/julian/code/juliannegele/737-human-action-recognition/notebooks/Edited/test--h55t9J0Xo.mp4\n",
      "\n"
     ]
    },
    {
     "name": "stderr",
     "output_type": "stream",
     "text": [
      "\n",
      "t:   0%|                                                                              | 0/100 [00:00<?, ?it/s, now=None]\u001b[A\n",
      "t:   8%|█████▌                                                                | 8/100 [00:00<00:01, 77.76it/s, now=None]\u001b[A\n",
      "t:  16%|███████████                                                          | 16/100 [00:00<00:01, 77.17it/s, now=None]\u001b[A\n",
      "t:  25%|█████████████████▎                                                   | 25/100 [00:00<00:00, 80.88it/s, now=None]\u001b[A\n",
      "t:  34%|███████████████████████▍                                             | 34/100 [00:00<00:00, 77.35it/s, now=None]\u001b[A\n",
      "t:  44%|██████████████████████████████▎                                      | 44/100 [00:00<00:00, 83.63it/s, now=None]\u001b[A\n",
      "t:  53%|████████████████████████████████████▌                                | 53/100 [00:00<00:00, 56.22it/s, now=None]\u001b[A\n",
      "t:  60%|█████████████████████████████████████████▍                           | 60/100 [00:01<00:00, 47.99it/s, now=None]\u001b[A\n",
      "t:  66%|█████████████████████████████████████████████▌                       | 66/100 [00:01<00:00, 44.63it/s, now=None]\u001b[A\n",
      "t:  72%|█████████████████████████████████████████████████▋                   | 72/100 [00:01<00:00, 41.95it/s, now=None]\u001b[A\n",
      "t:  77%|█████████████████████████████████████████████████████▏               | 77/100 [00:01<00:00, 38.21it/s, now=None]\u001b[A\n",
      "t:  82%|████████████████████████████████████████████████████████▌            | 82/100 [00:01<00:00, 34.00it/s, now=None]\u001b[A\n",
      "t:  86%|███████████████████████████████████████████████████████████▎         | 86/100 [00:01<00:00, 31.06it/s, now=None]\u001b[A\n",
      "t:  90%|██████████████████████████████████████████████████████████████       | 90/100 [00:02<00:00, 28.67it/s, now=None]\u001b[A\n",
      "t:  94%|████████████████████████████████████████████████████████████████▊    | 94/100 [00:02<00:00, 30.51it/s, now=None]\u001b[A\n",
      "t:  98%|███████████████████████████████████████████████████████████████████▌ | 98/100 [00:02<00:00, 29.02it/s, now=None]\u001b[A\n",
      "                                                                                                                        \u001b[A\r"
     ]
    },
    {
     "name": "stdout",
     "output_type": "stream",
     "text": [
      "Moviepy - Done !\n",
      "Moviepy - video ready /home/julian/code/juliannegele/737-human-action-recognition/notebooks/Edited/test--h55t9J0Xo.mp4\n"
     ]
    },
    {
     "name": "stderr",
     "output_type": "stream",
     "text": [
      "                                                                                                                        \r"
     ]
    },
    {
     "name": "stdout",
     "output_type": "stream",
     "text": [
      "Moviepy - Building video /home/julian/code/juliannegele/737-human-action-recognition/notebooks/Edited/test--kyWqclQ24.mp4.\n",
      "Moviepy - Writing video /home/julian/code/juliannegele/737-human-action-recognition/notebooks/Edited/test--kyWqclQ24.mp4\n",
      "\n"
     ]
    },
    {
     "name": "stderr",
     "output_type": "stream",
     "text": [
      "                                                                                                                        \r"
     ]
    },
    {
     "name": "stdout",
     "output_type": "stream",
     "text": [
      "Moviepy - Done !\n",
      "Moviepy - video ready /home/julian/code/juliannegele/737-human-action-recognition/notebooks/Edited/test--kyWqclQ24.mp4\n",
      "Moviepy - Building video /home/julian/code/juliannegele/737-human-action-recognition/notebooks/Edited/test--pe5C6kwVQ.mp4.\n",
      "Moviepy - Writing video /home/julian/code/juliannegele/737-human-action-recognition/notebooks/Edited/test--pe5C6kwVQ.mp4\n",
      "\n"
     ]
    },
    {
     "name": "stderr",
     "output_type": "stream",
     "text": [
      "                                                                                                                        \r"
     ]
    },
    {
     "name": "stdout",
     "output_type": "stream",
     "text": [
      "Moviepy - Done !\n",
      "Moviepy - video ready /home/julian/code/juliannegele/737-human-action-recognition/notebooks/Edited/test--pe5C6kwVQ.mp4\n",
      "Moviepy - Building video /home/julian/code/juliannegele/737-human-action-recognition/notebooks/Edited/test-01mKR1_Yoo.mp4.\n",
      "Moviepy - Writing video /home/julian/code/juliannegele/737-human-action-recognition/notebooks/Edited/test-01mKR1_Yoo.mp4\n",
      "\n"
     ]
    },
    {
     "name": "stderr",
     "output_type": "stream",
     "text": [
      "                                                                                                                        \r"
     ]
    },
    {
     "name": "stdout",
     "output_type": "stream",
     "text": [
      "Moviepy - Done !\n",
      "Moviepy - video ready /home/julian/code/juliannegele/737-human-action-recognition/notebooks/Edited/test-01mKR1_Yoo.mp4\n"
     ]
    }
   ],
   "source": [
    "path_two = '/home/julian/code/juliannegele/737-human-action-recognition/notebooks/Youtube'\n",
    "\n",
    "\n",
    "path_test = '/home/julian/code/juliannegele/737-human-action-recognition/notebooks/Edited'\n",
    "\n",
    "\n",
    "bucket_name = '737-human-action-recognition-bucket'\n",
    "client = storage.Client()\n",
    "bucket = client.get_bucket(bucket_name)   \n",
    "new_blob = bucket.blob(f'validate_data/{label}/')\n",
    "new_blob.upload_from_file('')\n",
    "\n",
    "\n",
    "#clean_df!!!!!!!!!!!\n",
    "\n",
    "#for loop over all files in directory\n",
    "#get every name of file\n",
    "#for loop over dataframe\n",
    "#len(df)\n",
    "for video in range(len(clean_df)):\n",
    "    #donwload youtube video\n",
    "    #\n",
    "    \n",
    "    source_path = os.path.join(path_two, f'{df.label[video]}${df.youtube_id[video]}.mp4')\n",
    "\n",
    "    clip = VideoFileClip(source_path)\n",
    "    fps = 10\n",
    "    subclip =clip.subclip(df.time_start[video],df.time_end[video])\n",
    "    subclip = subclip.without_audio()\n",
    "\n",
    "#load file in directory with the same filename\n",
    "    output_path = os.path.join(path_test,f'{df.label[video]}${df.youtube_id[video]}.mp4')\n",
    "    subclip.write_videofile(output_path,fps)\n",
    "    file = os.getfile()\n",
    "    blob = bucket.blob('train_data/df.label[video]/file')\n",
    "    blob.upload_from_filename(file)\n",
    "\n",
    "\n",
    "################################################################################\n",
    "client = storage.Client()\n",
    "bucket = client.get_bucket('mybucket')\n",
    "blob = bucket.blob('train_data/df.label[video]/myfile')\n",
    "blob.upload_from_filename('myfile')\n",
    "\n",
    "\n",
    "\n"
   ]
  },
  {
   "cell_type": "markdown",
   "id": "5c21aecc",
   "metadata": {},
   "source": [
    "## Create folders in GCP"
   ]
  },
  {
   "cell_type": "code",
   "execution_count": 4,
   "id": "afc591fa",
   "metadata": {},
   "outputs": [],
   "source": [
    "bucket_name = '737-human-action-recognition-bucket'"
   ]
  },
  {
   "cell_type": "code",
   "execution_count": 5,
   "id": "0ad270a8",
   "metadata": {},
   "outputs": [
    {
     "name": "stdout",
     "output_type": "stream",
     "text": [
      "700\n"
     ]
    }
   ],
   "source": [
    "list_unique_label = df['label'].unique()\n",
    "print(len(list_unique_label))\n",
    "        \n",
    "                                                 "
   ]
  },
  {
   "cell_type": "code",
   "execution_count": 6,
   "id": "211d62a5",
   "metadata": {},
   "outputs": [],
   "source": [
    "from google.cloud import storage"
   ]
  },
  {
   "cell_type": "code",
   "execution_count": 11,
   "id": "9bc748c5",
   "metadata": {},
   "outputs": [],
   "source": [
    "\n",
    "client = storage.Client()\n",
    "bucket = client.get_bucket(bucket_name)\n",
    "for label in list_unique_label:\n",
    "    \n",
    "    new_blob = bucket.blob(f'validate_data/{label}/')\n",
    "    new_blob.upload_from_file('')\n"
   ]
  },
  {
   "cell_type": "code",
   "execution_count": null,
   "id": "361d99ac",
   "metadata": {},
   "outputs": [],
   "source": [
    "\n",
    "path = bucketname/train_data/labels/"
   ]
  },
  {
   "cell_type": "code",
   "execution_count": null,
   "id": "9ed4138f",
   "metadata": {},
   "outputs": [],
   "source": [
    "filename = 'label$youtube_id'\n",
    "\n",
    "path_file = 'label'\n",
    "\n",
    "\n",
    "\n",
    "\n",
    "\n"
   ]
  },
  {
   "cell_type": "code",
   "execution_count": 5,
   "id": "d7e22b4a",
   "metadata": {},
   "outputs": [
    {
     "data": {
      "text/html": [
       "<div>\n",
       "<style scoped>\n",
       "    .dataframe tbody tr th:only-of-type {\n",
       "        vertical-align: middle;\n",
       "    }\n",
       "\n",
       "    .dataframe tbody tr th {\n",
       "        vertical-align: top;\n",
       "    }\n",
       "\n",
       "    .dataframe thead th {\n",
       "        text-align: right;\n",
       "    }\n",
       "</style>\n",
       "<table border=\"1\" class=\"dataframe\">\n",
       "  <thead>\n",
       "    <tr style=\"text-align: right;\">\n",
       "      <th></th>\n",
       "      <th>label</th>\n",
       "      <th>youtube_id</th>\n",
       "      <th>time_start</th>\n",
       "      <th>time_end</th>\n",
       "      <th>split</th>\n",
       "    </tr>\n",
       "  </thead>\n",
       "  <tbody>\n",
       "    <tr>\n",
       "      <th>0</th>\n",
       "      <td>clay pottery making</td>\n",
       "      <td>---0dWlqevI</td>\n",
       "      <td>19</td>\n",
       "      <td>29</td>\n",
       "      <td>train</td>\n",
       "    </tr>\n",
       "    <tr>\n",
       "      <th>1</th>\n",
       "      <td>news anchoring</td>\n",
       "      <td>---aQ-tA5_A</td>\n",
       "      <td>9</td>\n",
       "      <td>19</td>\n",
       "      <td>train</td>\n",
       "    </tr>\n",
       "    <tr>\n",
       "      <th>2</th>\n",
       "      <td>using bagging machine</td>\n",
       "      <td>---j12rm3WI</td>\n",
       "      <td>14</td>\n",
       "      <td>24</td>\n",
       "      <td>train</td>\n",
       "    </tr>\n",
       "    <tr>\n",
       "      <th>3</th>\n",
       "      <td>javelin throw</td>\n",
       "      <td>--07WQ2iBlw</td>\n",
       "      <td>1</td>\n",
       "      <td>11</td>\n",
       "      <td>train</td>\n",
       "    </tr>\n",
       "    <tr>\n",
       "      <th>4</th>\n",
       "      <td>climbing a rope</td>\n",
       "      <td>--0NTAs-fA0</td>\n",
       "      <td>29</td>\n",
       "      <td>39</td>\n",
       "      <td>train</td>\n",
       "    </tr>\n",
       "  </tbody>\n",
       "</table>\n",
       "</div>"
      ],
      "text/plain": [
       "                   label   youtube_id  time_start  time_end  split\n",
       "0    clay pottery making  ---0dWlqevI          19        29  train\n",
       "1         news anchoring  ---aQ-tA5_A           9        19  train\n",
       "2  using bagging machine  ---j12rm3WI          14        24  train\n",
       "3          javelin throw  --07WQ2iBlw           1        11  train\n",
       "4        climbing a rope  --0NTAs-fA0          29        39  train"
      ]
     },
     "execution_count": 5,
     "metadata": {},
     "output_type": "execute_result"
    }
   ],
   "source": [
    "df.head()"
   ]
  },
  {
   "cell_type": "code",
   "execution_count": 6,
   "id": "576fcd61",
   "metadata": {},
   "outputs": [],
   "source": [
    "#getting the csv file and dropping videos, which end_time is more than 300\n",
    "def get_data(x):\n",
    "    #reading the csv\n",
    "    df = pd.read_csv(\"/Users/philkolling/Downloads/kinetics700_2020/train.csv\")\n",
    "    df =df.copy().head(x)\n",
    "    #dropping the videos, which end_time is higher than 300\n",
    "    df =df.drop(df.loc[df['time_end']>300].index).reset_index(drop=True)\n",
    "    return df"
   ]
  },
  {
   "cell_type": "code",
   "execution_count": 7,
   "id": "bc94b9e0",
   "metadata": {},
   "outputs": [],
   "source": [
    "df = df.drop(df.loc[df['time_end']>90].index).reset_index(drop=True)"
   ]
  },
  {
   "cell_type": "code",
   "execution_count": 8,
   "id": "2d773221",
   "metadata": {},
   "outputs": [
    {
     "data": {
      "text/plain": [
       "(390848, 5)"
      ]
     },
     "execution_count": 8,
     "metadata": {},
     "output_type": "execute_result"
    }
   ],
   "source": [
    "df.shape"
   ]
  },
  {
   "cell_type": "code",
   "execution_count": 9,
   "id": "8f571b5e",
   "metadata": {},
   "outputs": [],
   "source": [
    "unique_labels = df['label'].unique()"
   ]
  },
  {
   "cell_type": "code",
   "execution_count": 15,
   "id": "9132ed3f",
   "metadata": {},
   "outputs": [
    {
     "data": {
      "text/plain": [
       "700"
      ]
     },
     "execution_count": 15,
     "metadata": {},
     "output_type": "execute_result"
    }
   ],
   "source": [
    "len(unique_labels)"
   ]
  },
  {
   "cell_type": "code",
   "execution_count": 11,
   "id": "6ba44cf7",
   "metadata": {},
   "outputs": [],
   "source": [
    "frames = []\n",
    "\n",
    "for i in unique_labels:\n",
    "    g = df[df.label == i].sample(110)\n",
    "    frames.append(g)\n",
    "\n",
    "equally_sampled = pd.concat(frames)"
   ]
  },
  {
   "cell_type": "code",
   "execution_count": 12,
   "id": "6ccc3ba2",
   "metadata": {},
   "outputs": [
    {
     "data": {
      "text/plain": [
       "(77000, 5)"
      ]
     },
     "execution_count": 12,
     "metadata": {},
     "output_type": "execute_result"
    }
   ],
   "source": [
    "equally_sampled.shape"
   ]
  },
  {
   "cell_type": "code",
   "execution_count": 14,
   "id": "0d4bb310",
   "metadata": {},
   "outputs": [
    {
     "data": {
      "text/plain": [
       "clay pottery making             110\n",
       "laughing                        110\n",
       "wading through mud              110\n",
       "changing wheel (not on bike)    110\n",
       "getting a piercing              110\n",
       "                               ... \n",
       "golf driving                    110\n",
       "casting fishing line            110\n",
       "punching bag                    110\n",
       "sleeping                        110\n",
       "breaking glass                  110\n",
       "Name: label, Length: 700, dtype: int64"
      ]
     },
     "execution_count": 14,
     "metadata": {},
     "output_type": "execute_result"
    }
   ],
   "source": [
    "equally_sampled['label'].value_counts()"
   ]
  },
  {
   "cell_type": "code",
   "execution_count": 18,
   "id": "5a4dc435",
   "metadata": {},
   "outputs": [
    {
     "ename": "NameError",
     "evalue": "name 'file_name' is not defined",
     "output_type": "error",
     "traceback": [
      "\u001b[0;31m---------------------------------------------------------------------------\u001b[0m",
      "\u001b[0;31mNameError\u001b[0m                                 Traceback (most recent call last)",
      "\u001b[0;32m/tmp/ipykernel_16449/3304934687.py\u001b[0m in \u001b[0;36m<module>\u001b[0;34m\u001b[0m\n\u001b[0;32m----> 1\u001b[0;31m \u001b[0mequally_sampled\u001b[0m\u001b[0;34m.\u001b[0m\u001b[0mto_csv\u001b[0m\u001b[0;34m(\u001b[0m\u001b[0mfile_name\u001b[0m\u001b[0;34m,\u001b[0m \u001b[0msep\u001b[0m\u001b[0;34m=\u001b[0m\u001b[0;34m','\u001b[0m\u001b[0;34m)\u001b[0m\u001b[0;34m\u001b[0m\u001b[0;34m\u001b[0m\u001b[0m\n\u001b[0m",
      "\u001b[0;31mNameError\u001b[0m: name 'file_name' is not defined"
     ]
    }
   ],
   "source": [
    "equally_sampled.to_csv(file_name, sep=',')"
   ]
  },
  {
   "cell_type": "code",
   "execution_count": 26,
   "id": "aff3c1fd",
   "metadata": {},
   "outputs": [],
   "source": [
    "equally_sampled.to_csv('../raw_data/train_reduced.csv',index=False)"
   ]
  },
  {
   "cell_type": "code",
   "execution_count": 27,
   "id": "c9f45291",
   "metadata": {},
   "outputs": [],
   "source": [
    "df2 = pd.read_csv('../raw_data/train_reduced.csv')"
   ]
  },
  {
   "cell_type": "code",
   "execution_count": 28,
   "id": "89745ebe",
   "metadata": {},
   "outputs": [
    {
     "data": {
      "text/plain": [
       "(77000, 5)"
      ]
     },
     "execution_count": 28,
     "metadata": {},
     "output_type": "execute_result"
    }
   ],
   "source": [
    "df2.shape"
   ]
  },
  {
   "cell_type": "code",
   "execution_count": 29,
   "id": "7b8d2ac3",
   "metadata": {},
   "outputs": [
    {
     "data": {
      "text/html": [
       "<div>\n",
       "<style scoped>\n",
       "    .dataframe tbody tr th:only-of-type {\n",
       "        vertical-align: middle;\n",
       "    }\n",
       "\n",
       "    .dataframe tbody tr th {\n",
       "        vertical-align: top;\n",
       "    }\n",
       "\n",
       "    .dataframe thead th {\n",
       "        text-align: right;\n",
       "    }\n",
       "</style>\n",
       "<table border=\"1\" class=\"dataframe\">\n",
       "  <thead>\n",
       "    <tr style=\"text-align: right;\">\n",
       "      <th></th>\n",
       "      <th>label</th>\n",
       "      <th>youtube_id</th>\n",
       "      <th>time_start</th>\n",
       "      <th>time_end</th>\n",
       "      <th>split</th>\n",
       "    </tr>\n",
       "  </thead>\n",
       "  <tbody>\n",
       "    <tr>\n",
       "      <th>0</th>\n",
       "      <td>clay pottery making</td>\n",
       "      <td>LHtsiogBKvM</td>\n",
       "      <td>34</td>\n",
       "      <td>44</td>\n",
       "      <td>train</td>\n",
       "    </tr>\n",
       "    <tr>\n",
       "      <th>1</th>\n",
       "      <td>clay pottery making</td>\n",
       "      <td>K4O9S_gpgbY</td>\n",
       "      <td>64</td>\n",
       "      <td>74</td>\n",
       "      <td>train</td>\n",
       "    </tr>\n",
       "    <tr>\n",
       "      <th>2</th>\n",
       "      <td>clay pottery making</td>\n",
       "      <td>kVAScTNRnwA</td>\n",
       "      <td>72</td>\n",
       "      <td>82</td>\n",
       "      <td>train</td>\n",
       "    </tr>\n",
       "    <tr>\n",
       "      <th>3</th>\n",
       "      <td>clay pottery making</td>\n",
       "      <td>RE9bEWMzVtg</td>\n",
       "      <td>0</td>\n",
       "      <td>10</td>\n",
       "      <td>train</td>\n",
       "    </tr>\n",
       "    <tr>\n",
       "      <th>4</th>\n",
       "      <td>clay pottery making</td>\n",
       "      <td>4mbdJHOnPuA</td>\n",
       "      <td>1</td>\n",
       "      <td>11</td>\n",
       "      <td>train</td>\n",
       "    </tr>\n",
       "  </tbody>\n",
       "</table>\n",
       "</div>"
      ],
      "text/plain": [
       "                 label   youtube_id  time_start  time_end  split\n",
       "0  clay pottery making  LHtsiogBKvM          34        44  train\n",
       "1  clay pottery making  K4O9S_gpgbY          64        74  train\n",
       "2  clay pottery making  kVAScTNRnwA          72        82  train\n",
       "3  clay pottery making  RE9bEWMzVtg           0        10  train\n",
       "4  clay pottery making  4mbdJHOnPuA           1        11  train"
      ]
     },
     "execution_count": 29,
     "metadata": {},
     "output_type": "execute_result"
    }
   ],
   "source": [
    "df2.head(5)"
   ]
  },
  {
   "cell_type": "code",
   "execution_count": 30,
   "id": "abef2fd4",
   "metadata": {},
   "outputs": [
    {
     "data": {
      "text/html": [
       "<div>\n",
       "<style scoped>\n",
       "    .dataframe tbody tr th:only-of-type {\n",
       "        vertical-align: middle;\n",
       "    }\n",
       "\n",
       "    .dataframe tbody tr th {\n",
       "        vertical-align: top;\n",
       "    }\n",
       "\n",
       "    .dataframe thead th {\n",
       "        text-align: right;\n",
       "    }\n",
       "</style>\n",
       "<table border=\"1\" class=\"dataframe\">\n",
       "  <thead>\n",
       "    <tr style=\"text-align: right;\">\n",
       "      <th></th>\n",
       "      <th>label</th>\n",
       "      <th>youtube_id</th>\n",
       "      <th>time_start</th>\n",
       "      <th>time_end</th>\n",
       "      <th>split</th>\n",
       "    </tr>\n",
       "  </thead>\n",
       "  <tbody>\n",
       "    <tr>\n",
       "      <th>0</th>\n",
       "      <td>clay pottery making</td>\n",
       "      <td>LHtsiogBKvM</td>\n",
       "      <td>34</td>\n",
       "      <td>44</td>\n",
       "      <td>train</td>\n",
       "    </tr>\n",
       "    <tr>\n",
       "      <th>1</th>\n",
       "      <td>clay pottery making</td>\n",
       "      <td>K4O9S_gpgbY</td>\n",
       "      <td>64</td>\n",
       "      <td>74</td>\n",
       "      <td>train</td>\n",
       "    </tr>\n",
       "    <tr>\n",
       "      <th>2</th>\n",
       "      <td>clay pottery making</td>\n",
       "      <td>kVAScTNRnwA</td>\n",
       "      <td>72</td>\n",
       "      <td>82</td>\n",
       "      <td>train</td>\n",
       "    </tr>\n",
       "    <tr>\n",
       "      <th>3</th>\n",
       "      <td>clay pottery making</td>\n",
       "      <td>RE9bEWMzVtg</td>\n",
       "      <td>0</td>\n",
       "      <td>10</td>\n",
       "      <td>train</td>\n",
       "    </tr>\n",
       "    <tr>\n",
       "      <th>4</th>\n",
       "      <td>clay pottery making</td>\n",
       "      <td>4mbdJHOnPuA</td>\n",
       "      <td>1</td>\n",
       "      <td>11</td>\n",
       "      <td>train</td>\n",
       "    </tr>\n",
       "    <tr>\n",
       "      <th>5</th>\n",
       "      <td>clay pottery making</td>\n",
       "      <td>P8styuac15I</td>\n",
       "      <td>44</td>\n",
       "      <td>54</td>\n",
       "      <td>train</td>\n",
       "    </tr>\n",
       "    <tr>\n",
       "      <th>6</th>\n",
       "      <td>clay pottery making</td>\n",
       "      <td>-GU00Yxwafc</td>\n",
       "      <td>29</td>\n",
       "      <td>39</td>\n",
       "      <td>train</td>\n",
       "    </tr>\n",
       "    <tr>\n",
       "      <th>7</th>\n",
       "      <td>clay pottery making</td>\n",
       "      <td>EOxV6ZCjy8U</td>\n",
       "      <td>29</td>\n",
       "      <td>39</td>\n",
       "      <td>train</td>\n",
       "    </tr>\n",
       "    <tr>\n",
       "      <th>8</th>\n",
       "      <td>clay pottery making</td>\n",
       "      <td>FP0XDogwwW8</td>\n",
       "      <td>22</td>\n",
       "      <td>32</td>\n",
       "      <td>train</td>\n",
       "    </tr>\n",
       "    <tr>\n",
       "      <th>9</th>\n",
       "      <td>clay pottery making</td>\n",
       "      <td>6Yjq8VVwmkc</td>\n",
       "      <td>18</td>\n",
       "      <td>28</td>\n",
       "      <td>train</td>\n",
       "    </tr>\n",
       "    <tr>\n",
       "      <th>10</th>\n",
       "      <td>clay pottery making</td>\n",
       "      <td>EeAaOXsZTR4</td>\n",
       "      <td>31</td>\n",
       "      <td>41</td>\n",
       "      <td>train</td>\n",
       "    </tr>\n",
       "    <tr>\n",
       "      <th>11</th>\n",
       "      <td>clay pottery making</td>\n",
       "      <td>BGEr-cekUbU</td>\n",
       "      <td>66</td>\n",
       "      <td>76</td>\n",
       "      <td>train</td>\n",
       "    </tr>\n",
       "    <tr>\n",
       "      <th>12</th>\n",
       "      <td>clay pottery making</td>\n",
       "      <td>2mya8veNSJg</td>\n",
       "      <td>79</td>\n",
       "      <td>89</td>\n",
       "      <td>train</td>\n",
       "    </tr>\n",
       "    <tr>\n",
       "      <th>13</th>\n",
       "      <td>clay pottery making</td>\n",
       "      <td>d7ajxuUmWGo</td>\n",
       "      <td>3</td>\n",
       "      <td>13</td>\n",
       "      <td>train</td>\n",
       "    </tr>\n",
       "    <tr>\n",
       "      <th>14</th>\n",
       "      <td>clay pottery making</td>\n",
       "      <td>flzMs93nUNI</td>\n",
       "      <td>57</td>\n",
       "      <td>67</td>\n",
       "      <td>train</td>\n",
       "    </tr>\n",
       "    <tr>\n",
       "      <th>15</th>\n",
       "      <td>clay pottery making</td>\n",
       "      <td>bUECqWVIAEg</td>\n",
       "      <td>11</td>\n",
       "      <td>21</td>\n",
       "      <td>train</td>\n",
       "    </tr>\n",
       "    <tr>\n",
       "      <th>16</th>\n",
       "      <td>clay pottery making</td>\n",
       "      <td>9EeIMan4ejU</td>\n",
       "      <td>45</td>\n",
       "      <td>55</td>\n",
       "      <td>train</td>\n",
       "    </tr>\n",
       "    <tr>\n",
       "      <th>17</th>\n",
       "      <td>clay pottery making</td>\n",
       "      <td>eHKlTn9LeY8</td>\n",
       "      <td>62</td>\n",
       "      <td>72</td>\n",
       "      <td>train</td>\n",
       "    </tr>\n",
       "    <tr>\n",
       "      <th>18</th>\n",
       "      <td>clay pottery making</td>\n",
       "      <td>hEipkE0c1gU</td>\n",
       "      <td>64</td>\n",
       "      <td>74</td>\n",
       "      <td>train</td>\n",
       "    </tr>\n",
       "    <tr>\n",
       "      <th>19</th>\n",
       "      <td>clay pottery making</td>\n",
       "      <td>K3xfXto4KlU</td>\n",
       "      <td>9</td>\n",
       "      <td>19</td>\n",
       "      <td>train</td>\n",
       "    </tr>\n",
       "  </tbody>\n",
       "</table>\n",
       "</div>"
      ],
      "text/plain": [
       "                  label   youtube_id  time_start  time_end  split\n",
       "0   clay pottery making  LHtsiogBKvM          34        44  train\n",
       "1   clay pottery making  K4O9S_gpgbY          64        74  train\n",
       "2   clay pottery making  kVAScTNRnwA          72        82  train\n",
       "3   clay pottery making  RE9bEWMzVtg           0        10  train\n",
       "4   clay pottery making  4mbdJHOnPuA           1        11  train\n",
       "5   clay pottery making  P8styuac15I          44        54  train\n",
       "6   clay pottery making  -GU00Yxwafc          29        39  train\n",
       "7   clay pottery making  EOxV6ZCjy8U          29        39  train\n",
       "8   clay pottery making  FP0XDogwwW8          22        32  train\n",
       "9   clay pottery making  6Yjq8VVwmkc          18        28  train\n",
       "10  clay pottery making  EeAaOXsZTR4          31        41  train\n",
       "11  clay pottery making  BGEr-cekUbU          66        76  train\n",
       "12  clay pottery making  2mya8veNSJg          79        89  train\n",
       "13  clay pottery making  d7ajxuUmWGo           3        13  train\n",
       "14  clay pottery making  flzMs93nUNI          57        67  train\n",
       "15  clay pottery making  bUECqWVIAEg          11        21  train\n",
       "16  clay pottery making  9EeIMan4ejU          45        55  train\n",
       "17  clay pottery making  eHKlTn9LeY8          62        72  train\n",
       "18  clay pottery making  hEipkE0c1gU          64        74  train\n",
       "19  clay pottery making  K3xfXto4KlU           9        19  train"
      ]
     },
     "execution_count": 30,
     "metadata": {},
     "output_type": "execute_result"
    }
   ],
   "source": [
    "df2.head(20)"
   ]
  },
  {
   "cell_type": "code",
   "execution_count": null,
   "id": "2f7e1d73",
   "metadata": {},
   "outputs": [],
   "source": []
  }
 ],
 "metadata": {
  "kernelspec": {
   "display_name": "Python 3 (ipykernel)",
   "language": "python",
   "name": "python3"
  },
  "language_info": {
   "codemirror_mode": {
    "name": "ipython",
    "version": 3
   },
   "file_extension": ".py",
   "mimetype": "text/x-python",
   "name": "python",
   "nbconvert_exporter": "python",
   "pygments_lexer": "ipython3",
   "version": "3.8.12"
  },
  "toc": {
   "base_numbering": 1,
   "nav_menu": {},
   "number_sections": true,
   "sideBar": true,
   "skip_h1_title": false,
   "title_cell": "Table of Contents",
   "title_sidebar": "Contents",
   "toc_cell": false,
   "toc_position": {},
   "toc_section_display": true,
   "toc_window_display": false
  }
 },
 "nbformat": 4,
 "nbformat_minor": 5
}
