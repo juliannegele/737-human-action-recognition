{
 "cells": [
  {
   "cell_type": "code",
   "execution_count": 6,
   "id": "89a35204",
   "metadata": {},
   "outputs": [],
   "source": [
    "# downloading video from the YT using Pytube3"
   ]
  },
  {
   "cell_type": "code",
   "execution_count": 7,
   "id": "c35ba92e",
   "metadata": {},
   "outputs": [],
   "source": [
    "import pandas as pd\n",
    "\n",
    "import os\n",
    "\n",
    "import pytube\n",
    "from pytube import YouTube\n",
    "from moviepy.editor import *"
   ]
  },
  {
   "cell_type": "code",
   "execution_count": 16,
   "id": "8e6de073",
   "metadata": {},
   "outputs": [],
   "source": [
    "PATH = \"/home/lockke/code/Koprivnica/737-human-action-recognition/737-human-action-recognition/data/\""
   ]
  },
  {
   "cell_type": "code",
   "execution_count": 10,
   "id": "5d1c7749",
   "metadata": {},
   "outputs": [],
   "source": [
    "URL = \"https://www.youtube.com/watch?v=\""
   ]
  },
  {
   "cell_type": "code",
   "execution_count": 22,
   "id": "60d264f3",
   "metadata": {
    "scrolled": true
   },
   "outputs": [
    {
     "data": {
      "text/html": [
       "<div>\n",
       "<style scoped>\n",
       "    .dataframe tbody tr th:only-of-type {\n",
       "        vertical-align: middle;\n",
       "    }\n",
       "\n",
       "    .dataframe tbody tr th {\n",
       "        vertical-align: top;\n",
       "    }\n",
       "\n",
       "    .dataframe thead th {\n",
       "        text-align: right;\n",
       "    }\n",
       "</style>\n",
       "<table border=\"1\" class=\"dataframe\">\n",
       "  <thead>\n",
       "    <tr style=\"text-align: right;\">\n",
       "      <th></th>\n",
       "      <th>label</th>\n",
       "      <th>youtube_id</th>\n",
       "      <th>time_start</th>\n",
       "      <th>time_end</th>\n",
       "      <th>split</th>\n",
       "    </tr>\n",
       "  </thead>\n",
       "  <tbody>\n",
       "    <tr>\n",
       "      <th>0</th>\n",
       "      <td>clay pottery making</td>\n",
       "      <td>---0dWlqevI</td>\n",
       "      <td>19</td>\n",
       "      <td>29</td>\n",
       "      <td>train</td>\n",
       "    </tr>\n",
       "    <tr>\n",
       "      <th>1</th>\n",
       "      <td>news anchoring</td>\n",
       "      <td>---aQ-tA5_A</td>\n",
       "      <td>9</td>\n",
       "      <td>19</td>\n",
       "      <td>train</td>\n",
       "    </tr>\n",
       "    <tr>\n",
       "      <th>2</th>\n",
       "      <td>using bagging machine</td>\n",
       "      <td>---j12rm3WI</td>\n",
       "      <td>14</td>\n",
       "      <td>24</td>\n",
       "      <td>train</td>\n",
       "    </tr>\n",
       "    <tr>\n",
       "      <th>3</th>\n",
       "      <td>javelin throw</td>\n",
       "      <td>--07WQ2iBlw</td>\n",
       "      <td>1</td>\n",
       "      <td>11</td>\n",
       "      <td>train</td>\n",
       "    </tr>\n",
       "    <tr>\n",
       "      <th>4</th>\n",
       "      <td>climbing a rope</td>\n",
       "      <td>--0NTAs-fA0</td>\n",
       "      <td>29</td>\n",
       "      <td>39</td>\n",
       "      <td>train</td>\n",
       "    </tr>\n",
       "    <tr>\n",
       "      <th>5</th>\n",
       "      <td>sipping cup</td>\n",
       "      <td>--0l35AkU34</td>\n",
       "      <td>68</td>\n",
       "      <td>78</td>\n",
       "      <td>train</td>\n",
       "    </tr>\n",
       "    <tr>\n",
       "      <th>6</th>\n",
       "      <td>flipping pancake</td>\n",
       "      <td>--33Lscn6sk</td>\n",
       "      <td>4</td>\n",
       "      <td>14</td>\n",
       "      <td>train</td>\n",
       "    </tr>\n",
       "    <tr>\n",
       "      <th>7</th>\n",
       "      <td>tickling</td>\n",
       "      <td>--3OAstUWtU</td>\n",
       "      <td>45</td>\n",
       "      <td>55</td>\n",
       "      <td>train</td>\n",
       "    </tr>\n",
       "    <tr>\n",
       "      <th>8</th>\n",
       "      <td>watering plants</td>\n",
       "      <td>--3lTx87ebQ</td>\n",
       "      <td>23</td>\n",
       "      <td>33</td>\n",
       "      <td>train</td>\n",
       "    </tr>\n",
       "    <tr>\n",
       "      <th>9</th>\n",
       "      <td>eating spaghetti</td>\n",
       "      <td>--3ouPhoy2A</td>\n",
       "      <td>20</td>\n",
       "      <td>30</td>\n",
       "      <td>train</td>\n",
       "    </tr>\n",
       "  </tbody>\n",
       "</table>\n",
       "</div>"
      ],
      "text/plain": [
       "                   label   youtube_id  time_start  time_end  split\n",
       "0    clay pottery making  ---0dWlqevI          19        29  train\n",
       "1         news anchoring  ---aQ-tA5_A           9        19  train\n",
       "2  using bagging machine  ---j12rm3WI          14        24  train\n",
       "3          javelin throw  --07WQ2iBlw           1        11  train\n",
       "4        climbing a rope  --0NTAs-fA0          29        39  train\n",
       "5            sipping cup  --0l35AkU34          68        78  train\n",
       "6       flipping pancake  --33Lscn6sk           4        14  train\n",
       "7               tickling  --3OAstUWtU          45        55  train\n",
       "8        watering plants  --3lTx87ebQ          23        33  train\n",
       "9       eating spaghetti  --3ouPhoy2A          20        30  train"
      ]
     },
     "execution_count": 22,
     "metadata": {},
     "output_type": "execute_result"
    }
   ],
   "source": [
    "df = pd.read_csv(PATH + \"train.csv\").head(10)\n",
    "df"
   ]
  },
  {
   "cell_type": "code",
   "execution_count": 33,
   "id": "a270a5b4",
   "metadata": {},
   "outputs": [
    {
     "data": {
      "text/plain": [
       "'--07WQ2iBlw'"
      ]
     },
     "execution_count": 33,
     "metadata": {},
     "output_type": "execute_result"
    }
   ],
   "source": [
    "df.youtube_id[3]"
   ]
  },
  {
   "cell_type": "code",
   "execution_count": 35,
   "id": "1d159038",
   "metadata": {
    "scrolled": true
   },
   "outputs": [
    {
     "data": {
      "text/plain": [
       "'--07WQ2iBlw'"
      ]
     },
     "execution_count": 35,
     "metadata": {},
     "output_type": "execute_result"
    }
   ],
   "source": [
    "filename = df.youtube_id[3]\n",
    "filename"
   ]
  },
  {
   "cell_type": "code",
   "execution_count": 36,
   "id": "7de5a62e",
   "metadata": {},
   "outputs": [],
   "source": [
    "video = YouTube(URL + filename)"
   ]
  },
  {
   "cell_type": "code",
   "execution_count": 37,
   "id": "ea69c1ae",
   "metadata": {},
   "outputs": [
    {
     "data": {
      "text/plain": [
       "[<Stream: itag=\"17\" mime_type=\"video/3gpp\" res=\"144p\" fps=\"10fps\" vcodec=\"mp4v.20.3\" acodec=\"mp4a.40.2\" progressive=\"True\" type=\"video\">, <Stream: itag=\"18\" mime_type=\"video/mp4\" res=\"360p\" fps=\"30fps\" vcodec=\"avc1.42001E\" acodec=\"mp4a.40.2\" progressive=\"True\" type=\"video\">, <Stream: itag=\"22\" mime_type=\"video/mp4\" res=\"720p\" fps=\"30fps\" vcodec=\"avc1.64001F\" acodec=\"mp4a.40.2\" progressive=\"True\" type=\"video\">, <Stream: itag=\"137\" mime_type=\"video/mp4\" res=\"1080p\" fps=\"30fps\" vcodec=\"avc1.640028\" progressive=\"False\" type=\"video\">, <Stream: itag=\"136\" mime_type=\"video/mp4\" res=\"720p\" fps=\"30fps\" vcodec=\"avc1.4d400d\" progressive=\"False\" type=\"video\">, <Stream: itag=\"135\" mime_type=\"video/mp4\" res=\"480p\" fps=\"30fps\" vcodec=\"avc1.4d4014\" progressive=\"False\" type=\"video\">, <Stream: itag=\"134\" mime_type=\"video/mp4\" res=\"360p\" fps=\"30fps\" vcodec=\"avc1.4d401e\" progressive=\"False\" type=\"video\">, <Stream: itag=\"133\" mime_type=\"video/mp4\" res=\"240p\" fps=\"30fps\" vcodec=\"avc1.4d400c\" progressive=\"False\" type=\"video\">, <Stream: itag=\"160\" mime_type=\"video/mp4\" res=\"144p\" fps=\"30fps\" vcodec=\"avc1.4d400b\" progressive=\"False\" type=\"video\">, <Stream: itag=\"139\" mime_type=\"audio/mp4\" abr=\"48kbps\" acodec=\"mp4a.40.5\" progressive=\"False\" type=\"audio\">, <Stream: itag=\"140\" mime_type=\"audio/mp4\" abr=\"128kbps\" acodec=\"mp4a.40.2\" progressive=\"False\" type=\"audio\">]"
      ]
     },
     "execution_count": 37,
     "metadata": {},
     "output_type": "execute_result"
    }
   ],
   "source": [
    "video.streams"
   ]
  },
  {
   "cell_type": "code",
   "execution_count": 38,
   "id": "ced8112a",
   "metadata": {},
   "outputs": [
    {
     "data": {
      "text/plain": [
       "10"
      ]
     },
     "execution_count": 38,
     "metadata": {},
     "output_type": "execute_result"
    }
   ],
   "source": [
    "video.length"
   ]
  },
  {
   "cell_type": "code",
   "execution_count": 39,
   "id": "d8dd58a3",
   "metadata": {},
   "outputs": [
    {
     "data": {
      "text/plain": [
       "'Javelin standing throw drill'"
      ]
     },
     "execution_count": 39,
     "metadata": {},
     "output_type": "execute_result"
    }
   ],
   "source": [
    "video.title"
   ]
  },
  {
   "cell_type": "code",
   "execution_count": 40,
   "id": "7c2502c9",
   "metadata": {},
   "outputs": [
    {
     "data": {
      "text/plain": [
       "'https://www.youtube.com/watch?v=--07WQ2iBlw'"
      ]
     },
     "execution_count": 40,
     "metadata": {},
     "output_type": "execute_result"
    }
   ],
   "source": [
    "URL + filename"
   ]
  },
  {
   "cell_type": "code",
   "execution_count": 41,
   "id": "33fcc067",
   "metadata": {},
   "outputs": [
    {
     "data": {
      "text/plain": [
       "'/home/lockke/code/Koprivnica/737-human-action-recognition/737-human-action-recognition/data/--07WQ2iBlw.mp4'"
      ]
     },
     "execution_count": 41,
     "metadata": {},
     "output_type": "execute_result"
    }
   ],
   "source": [
    "video.streams.get_by_itag(18).download(PATH, filename = filename + \".mp4\")"
   ]
  },
  {
   "cell_type": "code",
   "execution_count": 46,
   "id": "1e717a82",
   "metadata": {},
   "outputs": [],
   "source": [
    "video_clip = VideoFileClip(PATH + filename + \".mp4\").subclip(df.time_start[3] - 1, df.time_end[3] - 1)"
   ]
  },
  {
   "cell_type": "code",
   "execution_count": 47,
   "id": "81d1032e",
   "metadata": {},
   "outputs": [
    {
     "data": {
      "text/plain": [
       "10"
      ]
     },
     "execution_count": 47,
     "metadata": {},
     "output_type": "execute_result"
    }
   ],
   "source": [
    "video_clip.duration"
   ]
  },
  {
   "cell_type": "code",
   "execution_count": 48,
   "id": "888adfee",
   "metadata": {},
   "outputs": [
    {
     "name": "stderr",
     "output_type": "stream",
     "text": [
      "\n",
      "\u001b[A                                                                                                                     \n",
      "\n",
      "\u001b[A\u001b[A                                                                                                                  \n",
      "\n",
      "\n",
      "\n",
      "\u001b[A\u001b[A\u001b[A\u001b[A                                                                                                            \n",
      "\n",
      "\n",
      "\n",
      "\n",
      "                                                                                                                        \n",
      "\n",
      "\n",
      "\u001b[A\u001b[A\u001b[A                                                                                                               \n",
      "t:   4%|██▋                                                                 | 2/50 [07:19<2:55:37, 219.54s/it, now=None]\u001b[A\n",
      "\n",
      "t:   4%|██▋                                                                 | 2/50 [06:19<2:31:43, 189.66s/it, now=None]\u001b[A\u001b[A\n",
      "\n",
      "\n",
      "\n",
      "chunk:   0%|▎                                                               | 1/221 [01:10<4:18:32, 70.51s/it, now=None]\u001b[A\u001b[A\u001b[A\u001b[A\n",
      "\n",
      "\n",
      "\n",
      "\n",
      "chunk:   0%|▎                                                             | 1/221 [09:40<35:28:44, 580.56s/it, now=None]\u001b[A\u001b[A\u001b[A\u001b[A\u001b[A\n",
      "\n",
      "\n",
      "chunk:  92%|████████████████████████████████████████████████████████▉     | 203/221 [05:21<00:00, 1597.86it/s, now=None]\u001b[A\u001b[A\u001b[A\n",
      "\u001b[A                                                                                                                     \n",
      "\n",
      "\u001b[A\u001b[A                                                                                                                  \n",
      "\n",
      "\n",
      "\n",
      "\u001b[A\u001b[A\u001b[A\u001b[A                                                                                                            \n",
      "\n",
      "\n",
      "\n",
      "\n",
      "                                                                                                                        \n",
      "\n",
      "\n",
      "\u001b[A\u001b[A\u001b[A                                                                                                               \n",
      "t:   4%|██▋                                                                 | 2/50 [07:19<2:55:38, 219.56s/it, now=None]\u001b[A\n",
      "\n",
      "t:   4%|██▋                                                                 | 2/50 [06:19<2:31:44, 189.68s/it, now=None]\u001b[A\u001b[A\n",
      "\n",
      "\n",
      "\n",
      "chunk:   0%|▎                                                               | 1/221 [01:10<4:18:42, 70.56s/it, now=None]\u001b[A\u001b[A\u001b[A\u001b[A\n",
      "\n",
      "\n",
      "\n",
      "\n",
      "chunk:   0%|▎                                                             | 1/221 [09:40<35:28:54, 580.61s/it, now=None]\u001b[A\u001b[A\u001b[A\u001b[A\u001b[A\n",
      "\n",
      "\n",
      "chunk:  92%|████████████████████████████████████████████████████████▉     | 203/221 [05:21<00:00, 1597.86it/s, now=None]\u001b[A\u001b[A\u001b[A"
     ]
    },
    {
     "name": "stdout",
     "output_type": "stream",
     "text": [
      "Moviepy - Building video /home/lockke/code/Koprivnica/737-human-action-recognition/737-human-action-recognition/data/vid--07WQ2iBlw.mp4.\n",
      "MoviePy - Writing audio in vid--07WQ2iBlwTEMP_MPY_wvf_snd.mp3\n"
     ]
    },
    {
     "name": "stderr",
     "output_type": "stream",
     "text": [
      "\n",
      "\n",
      "\n",
      "\n",
      "\n",
      "\n",
      "chunk:   0%|                                                                          | 0/221 [00:00<?, ?it/s, now=None]\u001b[A\u001b[A\u001b[A\u001b[A\u001b[A\u001b[A\n",
      "\n",
      "\n",
      "\n",
      "\n",
      "\n",
      "chunk:  69%|██████████████████████████████████████████▉                   | 153/221 [00:00<00:00, 1504.40it/s, now=None]\u001b[A\u001b[A\u001b[A\u001b[A\u001b[A\u001b[A\n",
      "\n",
      "\n",
      "\n",
      "\n",
      "\n",
      "                                                                                                                        \u001b[A\u001b[A\u001b[A\u001b[A\u001b[A\u001b[A\n",
      "\u001b[A                                                                                                                     \n",
      "\n",
      "\u001b[A\u001b[A                                                                                                                  \n",
      "\n",
      "\n",
      "\n",
      "\u001b[A\u001b[A\u001b[A\u001b[A                                                                                                            \n",
      "\n",
      "\n",
      "\n",
      "\n",
      "                                                                                                                        \n",
      "\n",
      "\n",
      "\u001b[A\u001b[A\u001b[A                                                                                                               \n",
      "t:   4%|██▋                                                                 | 2/50 [07:19<2:55:43, 219.66s/it, now=None]\u001b[A\n",
      "\n",
      "t:   4%|██▋                                                                 | 2/50 [06:19<2:31:49, 189.78s/it, now=None]\u001b[A\u001b[A\n",
      "\n",
      "\n",
      "\n",
      "chunk:   0%|▎                                                               | 1/221 [01:10<4:19:28, 70.76s/it, now=None]\u001b[A\u001b[A\u001b[A\u001b[A\n",
      "\n",
      "\n",
      "\n",
      "\n",
      "chunk:   0%|▎                                                             | 1/221 [09:40<35:29:39, 580.82s/it, now=None]\u001b[A\u001b[A\u001b[A\u001b[A\u001b[A\n",
      "\n",
      "\n",
      "chunk:  92%|████████████████████████████████████████████████████████▉     | 203/221 [05:21<00:00, 1597.86it/s, now=None]\u001b[A\u001b[A\u001b[A\n",
      "\u001b[A                                                                                                                     \n",
      "\n",
      "\u001b[A\u001b[A                                                                                                                  \n",
      "\n",
      "\n",
      "\n",
      "\u001b[A\u001b[A\u001b[A\u001b[A                                                                                                            \n",
      "\n",
      "\n",
      "\n",
      "\n",
      "                                                                                                                        \n",
      "\n",
      "\n",
      "\u001b[A\u001b[A\u001b[A                                                                                                               \n",
      "t:   4%|██▋                                                                 | 2/50 [07:19<2:55:45, 219.69s/it, now=None]\u001b[A\n",
      "\n",
      "t:   4%|██▋                                                                 | 2/50 [06:19<2:31:50, 189.81s/it, now=None]\u001b[A\u001b[A\n",
      "\n",
      "\n",
      "\n",
      "chunk:   0%|▎                                                               | 1/221 [01:10<4:19:38, 70.81s/it, now=None]\u001b[A\u001b[A\u001b[A\u001b[A\n",
      "\n",
      "\n",
      "\n",
      "\n",
      "chunk:   0%|▎                                                             | 1/221 [09:40<35:29:49, 580.86s/it, now=None]\u001b[A\u001b[A\u001b[A\u001b[A\u001b[A\n",
      "\n",
      "\n",
      "chunk:  92%|████████████████████████████████████████████████████████▉     | 203/221 [05:21<00:00, 1597.86it/s, now=None]\u001b[A\u001b[A\u001b[A"
     ]
    },
    {
     "name": "stdout",
     "output_type": "stream",
     "text": [
      "MoviePy - Done.\n",
      "Moviepy - Writing video /home/lockke/code/Koprivnica/737-human-action-recognition/737-human-action-recognition/data/vid--07WQ2iBlw.mp4\n",
      "\n"
     ]
    },
    {
     "name": "stderr",
     "output_type": "stream",
     "text": [
      "\n",
      "\n",
      "\n",
      "\n",
      "\n",
      "\n",
      "t:   0%|                                                                              | 0/250 [00:00<?, ?it/s, now=None]\u001b[A\u001b[A\u001b[A\u001b[A\u001b[A\u001b[A\n",
      "\n",
      "\n",
      "\n",
      "\n",
      "\n",
      "t:  15%|██████████                                                          | 37/250 [00:00<00:00, 363.00it/s, now=None]\u001b[A\u001b[A\u001b[A\u001b[A\u001b[A\u001b[A\n",
      "\n",
      "\n",
      "\n",
      "\n",
      "\n",
      "t:  30%|████████████████████▏                                               | 74/250 [00:00<00:00, 307.72it/s, now=None]\u001b[A\u001b[A\u001b[A\u001b[A\u001b[A\u001b[A\n",
      "\n",
      "\n",
      "\n",
      "\n",
      "\n",
      "t:  42%|████████████████████████████▍                                      | 106/250 [00:00<00:00, 301.42it/s, now=None]\u001b[A\u001b[A\u001b[A\u001b[A\u001b[A\u001b[A\n",
      "\n",
      "\n",
      "\n",
      "\n",
      "\n",
      "t:  55%|████████████████████████████████████▋                              | 137/250 [00:00<00:00, 263.94it/s, now=None]\u001b[A\u001b[A\u001b[A\u001b[A\u001b[A\u001b[A\n",
      "\n",
      "\n",
      "\n",
      "\n",
      "\n",
      "t:  66%|███████████████████████████████████████████▉                       | 164/250 [00:00<00:00, 260.81it/s, now=None]\u001b[A\u001b[A\u001b[A\u001b[A\u001b[A\u001b[A\n",
      "\n",
      "\n",
      "\n",
      "\n",
      "\n",
      "t:  76%|███████████████████████████████████████████████████▏               | 191/250 [00:00<00:00, 228.04it/s, now=None]\u001b[A\u001b[A\u001b[A\u001b[A\u001b[A\u001b[A\n",
      "\n",
      "\n",
      "\n",
      "\n",
      "\n",
      "t:  86%|█████████████████████████████████████████████████████████▌         | 215/250 [00:00<00:00, 216.93it/s, now=None]\u001b[A\u001b[A\u001b[A\u001b[A\u001b[A\u001b[A\n",
      "\n",
      "\n",
      "\n",
      "\n",
      "\n",
      "t:  96%|████████████████████████████████████████████████████████████████▎  | 240/250 [00:00<00:00, 223.53it/s, now=None]\u001b[A\u001b[A\u001b[A\u001b[A\u001b[A\u001b[A\n",
      "\n",
      "\n",
      "\n",
      "\n",
      "\n",
      "                                                                                                                        \u001b[A\u001b[A\u001b[A\u001b[A\u001b[A\u001b[A\n",
      "\u001b[A                                                                                                                     \n",
      "\n",
      "\u001b[A\u001b[A                                                                                                                  \n",
      "\n",
      "\n",
      "\n",
      "\u001b[A\u001b[A\u001b[A\u001b[A                                                                                                            \n",
      "\n",
      "\n",
      "\n",
      "\n",
      "                                                                                                                        \n",
      "\n",
      "\n",
      "\u001b[A\u001b[A\u001b[A                                                                                                               \n",
      "t:   4%|██▋                                                                 | 2/50 [07:20<2:56:15, 220.31s/it, now=None]\u001b[A\n",
      "\n",
      "t:   4%|██▋                                                                 | 2/50 [06:20<2:32:20, 190.43s/it, now=None]\u001b[A\u001b[A\n",
      "\n",
      "\n",
      "\n",
      "chunk:   0%|▎                                                               | 1/221 [01:12<4:24:13, 72.06s/it, now=None]\u001b[A\u001b[A\u001b[A\u001b[A\n",
      "\n",
      "\n",
      "\n",
      "\n",
      "chunk:   0%|▎                                                             | 1/221 [09:42<35:34:24, 582.11s/it, now=None]\u001b[A\u001b[A\u001b[A\u001b[A\u001b[A\n",
      "\n",
      "\n",
      "chunk:  92%|████████████████████████████████████████████████████████▉     | 203/221 [05:23<00:00, 1597.86it/s, now=None]\u001b[A\u001b[A\u001b[A\n",
      "\u001b[A                                                                                                                     \n",
      "\n",
      "\u001b[A\u001b[A                                                                                                                  \n",
      "\n",
      "\n",
      "\n",
      "\u001b[A\u001b[A\u001b[A\u001b[A                                                                                                            \n",
      "\n",
      "\n",
      "\n",
      "\n",
      "                                                                                                                        \n",
      "\n",
      "\n",
      "\u001b[A\u001b[A\u001b[A                                                                                                               \n",
      "t:   4%|██▋                                                                 | 2/50 [07:20<2:56:16, 220.34s/it, now=None]\u001b[A\n",
      "\n",
      "t:   4%|██▋                                                                 | 2/50 [06:20<2:32:21, 190.46s/it, now=None]\u001b[A\u001b[A\n",
      "\n",
      "\n",
      "\n",
      "chunk:   0%|▎                                                               | 1/221 [01:12<4:24:23, 72.11s/it, now=None]\u001b[A\u001b[A\u001b[A\u001b[A\n",
      "\n",
      "\n",
      "\n",
      "\n",
      "chunk:   0%|▎                                                             | 1/221 [09:42<35:34:34, 582.16s/it, now=None]\u001b[A\u001b[A\u001b[A\u001b[A\u001b[A\n",
      "\n",
      "\n",
      "chunk:  92%|████████████████████████████████████████████████████████▉     | 203/221 [05:23<00:00, 1597.86it/s, now=None]\u001b[A\u001b[A\u001b[A"
     ]
    },
    {
     "name": "stdout",
     "output_type": "stream",
     "text": [
      "Moviepy - Done !\n",
      "Moviepy - video ready /home/lockke/code/Koprivnica/737-human-action-recognition/737-human-action-recognition/data/vid--07WQ2iBlw.mp4\n"
     ]
    }
   ],
   "source": [
    "video_clip.write_videofile(PATH + \"vid\" + filename + \".mp4\", fps = 25)"
   ]
  },
  {
   "cell_type": "code",
   "execution_count": null,
   "id": "c69e388b",
   "metadata": {},
   "outputs": [],
   "source": [
    "#OBSOLETE!\n",
    "\n",
    "#def videoDownload(filename):\n",
    "#    video = YouTube(URL + filename)\n",
    "#    video.streams.get_by_itag(18).download(PATH, filename = filename.replace(\"-\", \"\") + \".mp4\")"
   ]
  },
  {
   "cell_type": "code",
   "execution_count": null,
   "id": "95f05541",
   "metadata": {},
   "outputs": [],
   "source": []
  },
  {
   "cell_type": "code",
   "execution_count": 19,
   "id": "7aec86a5",
   "metadata": {},
   "outputs": [],
   "source": [
    "#OBSOLETE\n",
    "\n",
    "#def videoDownload2(filename):\n",
    " #   \n",
    "  #  video = YouTube(URL + filename)\n",
    "   # try:\n",
    "    #    streams = video.streams\n",
    "    e#xcept KeyError:\n",
    "      #  print(\"Video unavailable, skipping!\")\n",
    "    #else:\n",
    "     #   video.streams.get_by_itag(18).download(PATH, filename = filename.replace(\"-\", \"\") + \".mp4\")"
   ]
  },
  {
   "cell_type": "code",
   "execution_count": null,
   "id": "9180fa14",
   "metadata": {},
   "outputs": [],
   "source": []
  },
  {
   "cell_type": "code",
   "execution_count": 143,
   "id": "0bcacf69",
   "metadata": {},
   "outputs": [],
   "source": [
    "#OBSOLETE!\n",
    "\n",
    "#def videoClip(filename, time_start, time_stop):\n",
    "#    video_clip = VideoFileClip(PATH + filename.replace(\"-\", \"\") + \".mp4\").subclip(time_start, time_stop)\n",
    "#    video_clip.write_videofile(PATH + filename.replace(\"-\", \"\") + \".mp4\", fps = 25)   "
   ]
  },
  {
   "cell_type": "code",
   "execution_count": null,
   "id": "79a38f57",
   "metadata": {},
   "outputs": [],
   "source": []
  },
  {
   "cell_type": "code",
   "execution_count": 144,
   "id": "ea03c56a",
   "metadata": {},
   "outputs": [],
   "source": [
    "#OBSOLETE!\n",
    "\n",
    "#def videoClip2(filename, time_start, time_stop):\n",
    "#    video_clip = VideoFileClip(PATH + filename.replace(\"-\", \"\") + \".mp4\").subclip(time_start, time_stop)\n",
    "#    video_clip.write_videofile(PATH + filename.replace(\"-\", \"\") + \"_cliped.mp4\", fps = 25)"
   ]
  },
  {
   "cell_type": "code",
   "execution_count": null,
   "id": "81b78abd",
   "metadata": {},
   "outputs": [],
   "source": []
  },
  {
   "cell_type": "code",
   "execution_count": 254,
   "id": "22759fee",
   "metadata": {},
   "outputs": [],
   "source": [
    "#OBSOLETE!\n",
    "\n",
    "#def videoClip3(filename, time_start, time_stop):\n",
    "#    video_clip = VideoFileClip(PATH + filename.replace(\"-\", \"\") + \".mp4\")\n",
    "#    if video_clip.duration > time_stop:\n",
    "#        video_clip = video_clip.subclip(time_start, time_stop)\n",
    "#    video_clip.write_videofile(PATH + filename.replace(\"-\", \"\") + \"_cliped.mp4\", fps = 25)"
   ]
  },
  {
   "cell_type": "code",
   "execution_count": null,
   "id": "1f0188a6",
   "metadata": {},
   "outputs": [],
   "source": []
  },
  {
   "cell_type": "code",
   "execution_count": 20,
   "id": "47fa98bc",
   "metadata": {},
   "outputs": [],
   "source": [
    "#OBSOLETE\n",
    "\n",
    "#def videoClip4(filename, time_start, time_stop):\n",
    " #   if os.path.isfile(PATH + filename.replace(\"-\", \"\") + \".mp4\"):\n",
    "  #      video_clip = VideoFileClip(PATH + filename.replace(\"-\", \"\") + \".mp4\")\n",
    "   #     if video_clip.duration > time_stop:\n",
    "    #        video_clip = video_clip.subclip(time_start, time_stop)\n",
    "     #   video_clip.write_videofile(PATH + filename.replace(\"-\", \"\") + \"_cliped.mp4\", fps = 25)\n",
    "      #  os.remove(PATH + filename.replace(\"-\", \"\") + \".mp4\")"
   ]
  },
  {
   "cell_type": "code",
   "execution_count": null,
   "id": "e9d401be",
   "metadata": {},
   "outputs": [],
   "source": []
  },
  {
   "cell_type": "code",
   "execution_count": 21,
   "id": "923d708e",
   "metadata": {},
   "outputs": [],
   "source": [
    "#OBSOLETE\n",
    "\n",
    "#def clipAndSave(df):\n",
    " #   for i in range(len(df)):\n",
    "  #      print(f\"---------- Video {i} ({df.loc[i].label}) processing ---------- \")\n",
    "   #     videoDownload2(df.loc[i].youtube_id)\n",
    "    #    videoClip4(df.loc[i].youtube_id, df.loc[i].time_start, df.loc[i].time_end)"
   ]
  },
  {
   "cell_type": "code",
   "execution_count": null,
   "id": "f4f8417f",
   "metadata": {},
   "outputs": [],
   "source": []
  },
  {
   "cell_type": "code",
   "execution_count": 27,
   "id": "7b447ed0",
   "metadata": {},
   "outputs": [
    {
     "name": "stdout",
     "output_type": "stream",
     "text": [
      "---------- Video 0 (clay pottery making) processing ---------- \n"
     ]
    },
    {
     "name": "stderr",
     "output_type": "stream",
     "text": [
      "chunk:   0%|▎                                                             | 1/221 [10:44<39:22:53, 644.42s/it, now=None]"
     ]
    },
    {
     "name": "stdout",
     "output_type": "stream",
     "text": [
      "Moviepy - Building video /home/lockke/code/Koprivnica/737-human-action-recognition/737-human-action-recognition/data/0dWlqevI_cliped.mp4.\n",
      "MoviePy - Writing audio in 0dWlqevI_clipedTEMP_MPY_wvf_snd.mp3\n"
     ]
    },
    {
     "name": "stderr",
     "output_type": "stream",
     "text": [
      "\n",
      "chunk:   0%|                                                                          | 0/221 [00:00<?, ?it/s, now=None]\u001b[A\n",
      "chunk:  69%|██████████████████████████████████████████▉                   | 153/221 [00:00<00:00, 1525.98it/s, now=None]\u001b[A\n",
      "chunk:   0%|▎                                                             | 1/221 [10:44<39:23:27, 644.58s/it, now=None]\u001b[A"
     ]
    },
    {
     "name": "stdout",
     "output_type": "stream",
     "text": [
      "MoviePy - Done.\n",
      "Moviepy - Writing video /home/lockke/code/Koprivnica/737-human-action-recognition/737-human-action-recognition/data/0dWlqevI_cliped.mp4\n",
      "\n"
     ]
    },
    {
     "name": "stderr",
     "output_type": "stream",
     "text": [
      "\n",
      "t:   0%|                                                                              | 0/250 [00:00<?, ?it/s, now=None]\u001b[A\n",
      "t:  34%|███████████████████████                                             | 85/250 [00:00<00:00, 848.69it/s, now=None]\u001b[A\n",
      "t:  68%|█████████████████████████████████████████████▌                     | 170/250 [00:00<00:00, 792.24it/s, now=None]\u001b[A\n",
      "t: 100%|███████████████████████████████████████████████████████████████████| 250/250 [00:00<00:00, 684.40it/s, now=None]\u001b[A\n",
      "chunk:   0%|▎                                                             | 1/221 [10:45<39:25:02, 645.01s/it, now=None]\u001b[A"
     ]
    },
    {
     "name": "stdout",
     "output_type": "stream",
     "text": [
      "Moviepy - Done !\n",
      "Moviepy - video ready /home/lockke/code/Koprivnica/737-human-action-recognition/737-human-action-recognition/data/0dWlqevI_cliped.mp4\n",
      "---------- Video 1 (news anchoring) processing ---------- \n"
     ]
    },
    {
     "name": "stderr",
     "output_type": "stream",
     "text": [
      "chunk:   0%|▎                                                             | 1/221 [10:47<39:35:29, 647.86s/it, now=None]"
     ]
    },
    {
     "name": "stdout",
     "output_type": "stream",
     "text": [
      "Moviepy - Building video /home/lockke/code/Koprivnica/737-human-action-recognition/737-human-action-recognition/data/aQtA5_A_cliped.mp4.\n",
      "MoviePy - Writing audio in aQtA5_A_clipedTEMP_MPY_wvf_snd.mp3\n"
     ]
    },
    {
     "name": "stderr",
     "output_type": "stream",
     "text": [
      "\n",
      "chunk:   0%|                                                                          | 0/221 [00:00<?, ?it/s, now=None]\u001b[A\n",
      "chunk:  58%|███████████████████████████████████▉                          | 128/221 [00:00<00:00, 1274.97it/s, now=None]\u001b[A\n",
      "chunk:   0%|▎                                                             | 1/221 [10:48<39:36:11, 648.05s/it, now=None]\u001b[A"
     ]
    },
    {
     "name": "stdout",
     "output_type": "stream",
     "text": [
      "MoviePy - Done.\n",
      "Moviepy - Writing video /home/lockke/code/Koprivnica/737-human-action-recognition/737-human-action-recognition/data/aQtA5_A_cliped.mp4\n",
      "\n"
     ]
    },
    {
     "name": "stderr",
     "output_type": "stream",
     "text": [
      "\n",
      "t:   0%|                                                                              | 0/250 [00:00<?, ?it/s, now=None]\u001b[A\n",
      "t:  38%|█████████████████████████▊                                          | 95/250 [00:00<00:00, 940.01it/s, now=None]\u001b[A\n",
      "t:  76%|██████████████████████████████████████████████████▉                | 190/250 [00:00<00:00, 889.33it/s, now=None]\u001b[A\n",
      "chunk:   0%|▎                                                             | 1/221 [10:48<39:37:27, 648.40s/it, now=None]\u001b[A"
     ]
    },
    {
     "name": "stdout",
     "output_type": "stream",
     "text": [
      "Moviepy - Done !\n",
      "Moviepy - video ready /home/lockke/code/Koprivnica/737-human-action-recognition/737-human-action-recognition/data/aQtA5_A_cliped.mp4\n",
      "---------- Video 2 (using bagging machine) processing ---------- \n"
     ]
    },
    {
     "name": "stderr",
     "output_type": "stream",
     "text": [
      "chunk:   0%|▎                                                             | 1/221 [10:52<39:51:31, 652.23s/it, now=None]"
     ]
    },
    {
     "name": "stdout",
     "output_type": "stream",
     "text": [
      "Moviepy - Building video /home/lockke/code/Koprivnica/737-human-action-recognition/737-human-action-recognition/data/j12rm3WI_cliped.mp4.\n",
      "MoviePy - Writing audio in j12rm3WI_clipedTEMP_MPY_wvf_snd.mp3\n"
     ]
    },
    {
     "name": "stderr",
     "output_type": "stream",
     "text": [
      "\n",
      "chunk:   0%|                                                                          | 0/221 [00:00<?, ?it/s, now=None]\u001b[A\n",
      "chunk:  40%|█████████████████████████▊                                      | 89/221 [00:00<00:00, 888.77it/s, now=None]\u001b[A\n",
      "chunk:  93%|█████████████████████████████████████████████████████████▌    | 205/221 [00:00<00:00, 1038.08it/s, now=None]\u001b[A\n",
      "chunk:   0%|▎                                                             | 1/221 [10:52<39:52:25, 652.48s/it, now=None]\u001b[A"
     ]
    },
    {
     "name": "stdout",
     "output_type": "stream",
     "text": [
      "MoviePy - Done.\n",
      "Moviepy - Writing video /home/lockke/code/Koprivnica/737-human-action-recognition/737-human-action-recognition/data/j12rm3WI_cliped.mp4\n",
      "\n"
     ]
    },
    {
     "name": "stderr",
     "output_type": "stream",
     "text": [
      "\n",
      "t:   0%|                                                                              | 0/250 [00:00<?, ?it/s, now=None]\u001b[A\n",
      "t:  23%|███████████████▌                                                    | 57/250 [00:00<00:00, 410.68it/s, now=None]\u001b[A\n",
      "t:  40%|██████████████████████████▉                                         | 99/250 [00:00<00:00, 345.28it/s, now=None]\u001b[A\n",
      "t:  54%|███████████████████████████████████▉                               | 134/250 [00:00<00:00, 300.70it/s, now=None]\u001b[A\n",
      "t:  66%|████████████████████████████████████████████▏                      | 165/250 [00:00<00:00, 281.91it/s, now=None]\u001b[A\n",
      "t:  78%|███████████████████████████████████████████████████▉               | 194/250 [00:00<00:00, 267.76it/s, now=None]\u001b[A\n",
      "t:  89%|███████████████████████████████████████████████████████████▊       | 223/250 [00:00<00:00, 272.58it/s, now=None]\u001b[A\n",
      "chunk:   0%|▎                                                             | 1/221 [10:53<39:56:18, 653.54s/it, now=None]\u001b[A"
     ]
    },
    {
     "name": "stdout",
     "output_type": "stream",
     "text": [
      "Moviepy - Done !\n",
      "Moviepy - video ready /home/lockke/code/Koprivnica/737-human-action-recognition/737-human-action-recognition/data/j12rm3WI_cliped.mp4\n",
      "---------- Video 3 (javelin throw) processing ---------- \n"
     ]
    },
    {
     "name": "stderr",
     "output_type": "stream",
     "text": [
      "chunk:   0%|▎                                                             | 1/221 [10:55<40:02:02, 655.10s/it, now=None]"
     ]
    },
    {
     "name": "stdout",
     "output_type": "stream",
     "text": [
      "Moviepy - Building video /home/lockke/code/Koprivnica/737-human-action-recognition/737-human-action-recognition/data/07WQ2iBlw_cliped.mp4.\n",
      "MoviePy - Writing audio in 07WQ2iBlw_clipedTEMP_MPY_wvf_snd.mp3\n"
     ]
    },
    {
     "name": "stderr",
     "output_type": "stream",
     "text": [
      "\n",
      "chunk:   0%|                                                                          | 0/224 [00:00<?, ?it/s, now=None]\u001b[A\n",
      "chunk:  80%|█████████████████████████████████████████████████▌            | 179/224 [00:00<00:00, 1786.46it/s, now=None]\u001b[A\n",
      "chunk:   0%|▎                                                             | 1/221 [10:55<40:02:36, 655.26s/it, now=None]\u001b[A"
     ]
    },
    {
     "name": "stdout",
     "output_type": "stream",
     "text": [
      "MoviePy - Done.\n",
      "Moviepy - Writing video /home/lockke/code/Koprivnica/737-human-action-recognition/737-human-action-recognition/data/07WQ2iBlw_cliped.mp4\n",
      "\n"
     ]
    },
    {
     "name": "stderr",
     "output_type": "stream",
     "text": [
      "\n",
      "t:   0%|                                                                              | 0/253 [00:00<?, ?it/s, now=None]\u001b[A\n",
      "t:  22%|███████████████                                                     | 56/253 [00:00<00:00, 559.34it/s, now=None]\u001b[A\n",
      "t:  44%|█████████████████████████████▋                                     | 112/253 [00:00<00:00, 342.23it/s, now=None]\u001b[A\n",
      "t:  60%|███████████████████████████████████████▉                           | 151/253 [00:00<00:00, 308.28it/s, now=None]\u001b[A\n",
      "t:  73%|████████████████████████████████████████████████▉                  | 185/253 [00:00<00:00, 287.28it/s, now=None]\u001b[A\n",
      "t:  85%|████████████████████████████████████████████████████████▉          | 215/253 [00:00<00:00, 282.83it/s, now=None]\u001b[A\n",
      "t:  96%|████████████████████████████████████████████████████████████████▌  | 244/253 [00:00<00:00, 279.31it/s, now=None]\u001b[A\n",
      "chunk:   0%|▎                                                             | 1/221 [10:56<40:06:19, 656.27s/it, now=None]\u001b[A"
     ]
    },
    {
     "name": "stdout",
     "output_type": "stream",
     "text": [
      "Moviepy - Done !\n",
      "Moviepy - video ready /home/lockke/code/Koprivnica/737-human-action-recognition/737-human-action-recognition/data/07WQ2iBlw_cliped.mp4\n",
      "---------- Video 4 (climbing a rope) processing ---------- \n"
     ]
    },
    {
     "name": "stderr",
     "output_type": "stream",
     "text": [
      "chunk:   0%|▎                                                             | 1/221 [10:58<40:12:57, 658.08s/it, now=None]"
     ]
    },
    {
     "name": "stdout",
     "output_type": "stream",
     "text": [
      "Moviepy - Building video /home/lockke/code/Koprivnica/737-human-action-recognition/737-human-action-recognition/data/0NTAsfA0_cliped.mp4.\n",
      "MoviePy - Writing audio in 0NTAsfA0_clipedTEMP_MPY_wvf_snd.mp3\n"
     ]
    },
    {
     "name": "stderr",
     "output_type": "stream",
     "text": [
      "\n",
      "chunk:   0%|                                                                          | 0/858 [00:00<?, ?it/s, now=None]\u001b[A\n",
      "chunk:  21%|████████████▋                                                 | 176/858 [00:00<00:00, 1752.61it/s, now=None]\u001b[A\n",
      "chunk:  42%|█████████████████████████▊                                    | 357/858 [00:00<00:00, 1754.47it/s, now=None]\u001b[A\n",
      "chunk:  63%|███████████████████████████████████████▏                      | 543/858 [00:00<00:00, 1798.58it/s, now=None]\u001b[A\n",
      "chunk:  84%|████████████████████████████████████████████████████▏         | 723/858 [00:00<00:00, 1783.92it/s, now=None]\u001b[A\n",
      "chunk:   0%|▎                                                             | 1/221 [10:58<40:14:49, 658.59s/it, now=None]\u001b[A"
     ]
    },
    {
     "name": "stdout",
     "output_type": "stream",
     "text": [
      "MoviePy - Done.\n",
      "Moviepy - Writing video /home/lockke/code/Koprivnica/737-human-action-recognition/737-human-action-recognition/data/0NTAsfA0_cliped.mp4\n",
      "\n"
     ]
    },
    {
     "name": "stderr",
     "output_type": "stream",
     "text": [
      "\n",
      "t:   0%|                                                                              | 0/972 [00:00<?, ?it/s, now=None]\u001b[A\n",
      "t:   8%|█████                                                               | 73/972 [00:00<00:01, 707.41it/s, now=None]\u001b[A\n",
      "t:  15%|█████████▉                                                         | 144/972 [00:00<00:01, 511.26it/s, now=None]\u001b[A\n",
      "t:  20%|█████████████▋                                                     | 199/972 [00:00<00:01, 491.85it/s, now=None]\u001b[A\n",
      "t:  26%|█████████████████▏                                                 | 250/972 [00:00<00:01, 486.01it/s, now=None]\u001b[A\n",
      "t:  31%|████████████████████▋                                              | 300/972 [00:00<00:01, 474.96it/s, now=None]\u001b[A\n",
      "t:  36%|███████████████████████▉                                           | 348/972 [00:00<00:01, 464.84it/s, now=None]\u001b[A\n",
      "t:  41%|███████████████████████████▏                                       | 395/972 [00:00<00:01, 462.42it/s, now=None]\u001b[A\n",
      "t:  45%|██████████████████████████████▍                                    | 442/972 [00:00<00:01, 444.36it/s, now=None]\u001b[A\n",
      "t:  50%|█████████████████████████████████▊                                 | 490/972 [00:01<00:01, 452.94it/s, now=None]\u001b[A\n",
      "t:  55%|████████████████████████████████████▉                              | 536/972 [00:01<00:00, 446.22it/s, now=None]\u001b[A\n",
      "t:  60%|████████████████████████████████████████                           | 582/972 [00:01<00:00, 447.59it/s, now=None]\u001b[A\n",
      "t:  65%|███████████████████████████████████████████▍                       | 630/972 [00:01<00:00, 456.36it/s, now=None]\u001b[A\n",
      "t:  70%|██████████████████████████████████████████████▌                    | 676/972 [00:01<00:00, 455.45it/s, now=None]\u001b[A\n",
      "t:  74%|█████████████████████████████████████████████████▊                 | 722/972 [00:01<00:00, 449.35it/s, now=None]\u001b[A\n",
      "t:  79%|████████████████████████████████████████████████████▊              | 767/972 [00:01<00:00, 439.94it/s, now=None]\u001b[A\n",
      "t:  84%|███████████████████████████████████████████████████████▉           | 812/972 [00:01<00:00, 438.42it/s, now=None]\u001b[A\n",
      "t:  88%|███████████████████████████████████████████████████████████▎       | 860/972 [00:01<00:00, 450.27it/s, now=None]\u001b[A\n",
      "t:  93%|██████████████████████████████████████████████████████████████▍    | 906/972 [00:01<00:00, 449.39it/s, now=None]\u001b[A\n",
      "t:  98%|█████████████████████████████████████████████████████████████████▉ | 957/972 [00:02<00:00, 466.35it/s, now=None]\u001b[A\n",
      "chunk:   0%|▎                                                             | 1/221 [11:00<40:22:57, 660.81s/it, now=None]\u001b[A"
     ]
    },
    {
     "name": "stdout",
     "output_type": "stream",
     "text": [
      "Moviepy - Done !\n",
      "Moviepy - video ready /home/lockke/code/Koprivnica/737-human-action-recognition/737-human-action-recognition/data/0NTAsfA0_cliped.mp4\n",
      "---------- Video 5 (sipping cup) processing ---------- \n"
     ]
    },
    {
     "name": "stderr",
     "output_type": "stream",
     "text": [
      "chunk:   0%|▎                                                             | 1/221 [11:03<40:31:51, 663.24s/it, now=None]"
     ]
    },
    {
     "name": "stdout",
     "output_type": "stream",
     "text": [
      "Moviepy - Building video /home/lockke/code/Koprivnica/737-human-action-recognition/737-human-action-recognition/data/0l35AkU34_cliped.mp4.\n",
      "MoviePy - Writing audio in 0l35AkU34_clipedTEMP_MPY_wvf_snd.mp3\n"
     ]
    },
    {
     "name": "stderr",
     "output_type": "stream",
     "text": [
      "\n",
      "chunk:   0%|                                                                          | 0/221 [00:00<?, ?it/s, now=None]\u001b[A\n",
      "chunk:  42%|██████████████████████████▉                                     | 93/221 [00:00<00:00, 919.33it/s, now=None]\u001b[A\n",
      "chunk: 100%|██████████████████████████████████████████████████████████████| 221/221 [00:00<00:00, 1129.26it/s, now=None]\u001b[A\n",
      "chunk:   0%|▎                                                             | 1/221 [11:03<40:32:42, 663.47s/it, now=None]\u001b[A"
     ]
    },
    {
     "name": "stdout",
     "output_type": "stream",
     "text": [
      "MoviePy - Done.\n",
      "Moviepy - Writing video /home/lockke/code/Koprivnica/737-human-action-recognition/737-human-action-recognition/data/0l35AkU34_cliped.mp4\n",
      "\n"
     ]
    },
    {
     "name": "stderr",
     "output_type": "stream",
     "text": [
      "\n",
      "t:   0%|                                                                              | 0/250 [00:00<?, ?it/s, now=None]\u001b[A\n",
      "t:  23%|███████████████▌                                                    | 57/250 [00:00<00:00, 383.36it/s, now=None]\u001b[A\n",
      "t:  38%|██████████████████████████                                          | 96/250 [00:00<00:00, 330.26it/s, now=None]\u001b[A\n",
      "t:  52%|██████████████████████████████████▌                                | 129/250 [00:00<00:00, 293.56it/s, now=None]\u001b[A\n",
      "t:  64%|██████████████████████████████████████████▌                        | 159/250 [00:00<00:00, 268.78it/s, now=None]\u001b[A\n",
      "t:  75%|██████████████████████████████████████████████████▍                | 188/250 [00:00<00:00, 272.86it/s, now=None]\u001b[A\n",
      "t:  86%|█████████████████████████████████████████████████████████▉         | 216/250 [00:00<00:00, 270.11it/s, now=None]\u001b[A\n",
      "t:  98%|█████████████████████████████████████████████████████████████████▍ | 244/250 [00:00<00:00, 264.50it/s, now=None]\u001b[A\n",
      "chunk:   0%|▎                                                             | 1/221 [11:04<40:36:42, 664.56s/it, now=None]\u001b[A"
     ]
    },
    {
     "name": "stdout",
     "output_type": "stream",
     "text": [
      "Moviepy - Done !\n",
      "Moviepy - video ready /home/lockke/code/Koprivnica/737-human-action-recognition/737-human-action-recognition/data/0l35AkU34_cliped.mp4\n",
      "---------- Video 6 (flipping pancake) processing ---------- \n"
     ]
    },
    {
     "name": "stderr",
     "output_type": "stream",
     "text": [
      "chunk:   0%|▎                                                             | 1/221 [11:06<40:42:10, 666.05s/it, now=None]"
     ]
    },
    {
     "name": "stdout",
     "output_type": "stream",
     "text": [
      "Moviepy - Building video /home/lockke/code/Koprivnica/737-human-action-recognition/737-human-action-recognition/data/33Lscn6sk_cliped.mp4.\n",
      "MoviePy - Writing audio in 33Lscn6sk_clipedTEMP_MPY_wvf_snd.mp3\n"
     ]
    },
    {
     "name": "stderr",
     "output_type": "stream",
     "text": [
      "\n",
      "chunk:   0%|                                                                          | 0/230 [00:00<?, ?it/s, now=None]\u001b[A\n",
      "chunk:  82%|██████████████████████████████████████████████████▋           | 188/230 [00:00<00:00, 1879.41it/s, now=None]\u001b[A\n",
      "chunk:   0%|▎                                                             | 1/221 [11:06<40:42:43, 666.20s/it, now=None]\u001b[A"
     ]
    },
    {
     "name": "stdout",
     "output_type": "stream",
     "text": [
      "MoviePy - Done.\n",
      "Moviepy - Writing video /home/lockke/code/Koprivnica/737-human-action-recognition/737-human-action-recognition/data/33Lscn6sk_cliped.mp4\n",
      "\n"
     ]
    },
    {
     "name": "stderr",
     "output_type": "stream",
     "text": [
      "\n",
      "t:   0%|                                                                              | 0/261 [00:00<?, ?it/s, now=None]\u001b[A\n",
      "t:  22%|██████████████▊                                                     | 57/261 [00:00<00:00, 454.29it/s, now=None]\u001b[A\n",
      "t:  39%|██████████████████████████▍                                        | 103/261 [00:00<00:00, 372.11it/s, now=None]\u001b[A\n",
      "t:  54%|████████████████████████████████████▏                              | 141/261 [00:00<00:00, 343.93it/s, now=None]\u001b[A\n",
      "t:  67%|█████████████████████████████████████████████▏                     | 176/261 [00:00<00:00, 328.44it/s, now=None]\u001b[A\n",
      "t:  80%|█████████████████████████████████████████████████████▋             | 209/261 [00:00<00:00, 318.75it/s, now=None]\u001b[A\n",
      "t:  92%|█████████████████████████████████████████████████████████████▊     | 241/261 [00:00<00:00, 305.76it/s, now=None]\u001b[A\n",
      "chunk:   0%|▎                                                             | 1/221 [11:07<40:46:21, 667.19s/it, now=None]\u001b[A"
     ]
    },
    {
     "name": "stdout",
     "output_type": "stream",
     "text": [
      "Moviepy - Done !\n",
      "Moviepy - video ready /home/lockke/code/Koprivnica/737-human-action-recognition/737-human-action-recognition/data/33Lscn6sk_cliped.mp4\n",
      "---------- Video 7 (tickling) processing ---------- \n",
      "Video unavailable, skipping!\n",
      "---------- Video 8 (watering plants) processing ---------- \n"
     ]
    },
    {
     "name": "stderr",
     "output_type": "stream",
     "text": [
      "chunk:   0%|▎                                                             | 1/221 [11:10<40:57:14, 670.16s/it, now=None]"
     ]
    },
    {
     "name": "stdout",
     "output_type": "stream",
     "text": [
      "Moviepy - Building video /home/lockke/code/Koprivnica/737-human-action-recognition/737-human-action-recognition/data/3lTx87ebQ_cliped.mp4.\n",
      "MoviePy - Writing audio in 3lTx87ebQ_clipedTEMP_MPY_wvf_snd.mp3\n"
     ]
    },
    {
     "name": "stderr",
     "output_type": "stream",
     "text": [
      "\n",
      "chunk:   0%|                                                                          | 0/707 [00:00<?, ?it/s, now=None]\u001b[A\n",
      "chunk:  24%|███████████████                                               | 172/707 [00:00<00:00, 1712.46it/s, now=None]\u001b[A\n",
      "chunk:  49%|██████████████████████████████▎                               | 346/707 [00:00<00:00, 1725.33it/s, now=None]\u001b[A\n",
      "chunk:  74%|██████████████████████████████████████████████▏               | 526/707 [00:00<00:00, 1758.26it/s, now=None]\u001b[A\n",
      "chunk:  99%|█████████████████████████████████████████████████████████████▋| 703/707 [00:00<00:00, 1761.80it/s, now=None]\u001b[A\n",
      "chunk:   0%|▎                                                             | 1/221 [11:10<40:58:49, 670.59s/it, now=None]\u001b[A"
     ]
    },
    {
     "name": "stdout",
     "output_type": "stream",
     "text": [
      "MoviePy - Done.\n",
      "Moviepy - Writing video /home/lockke/code/Koprivnica/737-human-action-recognition/737-human-action-recognition/data/3lTx87ebQ_cliped.mp4\n",
      "\n"
     ]
    },
    {
     "name": "stderr",
     "output_type": "stream",
     "text": [
      "\n",
      "t:   0%|                                                                              | 0/801 [00:00<?, ?it/s, now=None]\u001b[A\n",
      "t:   7%|████▊                                                               | 57/801 [00:00<00:01, 462.53it/s, now=None]\u001b[A\n",
      "t:  13%|████████▋                                                          | 104/801 [00:00<00:02, 342.07it/s, now=None]\u001b[A\n",
      "t:  17%|███████████▋                                                       | 140/801 [00:00<00:02, 313.52it/s, now=None]\u001b[A\n",
      "t:  21%|██████████████▍                                                    | 172/801 [00:00<00:02, 290.46it/s, now=None]\u001b[A\n",
      "t:  25%|████████████████▉                                                  | 202/801 [00:00<00:02, 292.94it/s, now=None]\u001b[A\n",
      "t:  29%|███████████████████▍                                               | 232/801 [00:00<00:02, 275.59it/s, now=None]\u001b[A\n",
      "t:  32%|█████████████████████▋                                             | 260/801 [00:00<00:01, 272.29it/s, now=None]\u001b[A\n",
      "t:  36%|████████████████████████▎                                          | 291/801 [00:00<00:01, 277.12it/s, now=None]\u001b[A\n",
      "t:  40%|██████████████████████████▋                                        | 319/801 [00:01<00:01, 271.52it/s, now=None]\u001b[A\n",
      "t:  43%|█████████████████████████████                                      | 347/801 [00:01<00:01, 256.27it/s, now=None]\u001b[A\n",
      "t:  47%|███████████████████████████████▏                                   | 373/801 [00:01<00:01, 253.32it/s, now=None]\u001b[A\n",
      "t:  50%|█████████████████████████████████▎                                 | 399/801 [00:01<00:01, 242.70it/s, now=None]\u001b[A\n",
      "t:  53%|███████████████████████████████████▍                               | 424/801 [00:01<00:01, 242.17it/s, now=None]\u001b[A\n",
      "t:  56%|█████████████████████████████████████▊                             | 452/801 [00:01<00:01, 248.93it/s, now=None]\u001b[A\n",
      "t:  60%|████████████████████████████████████████                           | 479/801 [00:01<00:01, 254.31it/s, now=None]\u001b[A\n",
      "t:  63%|██████████████████████████████████████████▏                        | 505/801 [00:01<00:01, 252.26it/s, now=None]\u001b[A\n",
      "t:  66%|████████████████████████████████████████████▍                      | 531/801 [00:01<00:01, 252.37it/s, now=None]\u001b[A\n",
      "t:  70%|██████████████████████████████████████████████▊                    | 560/801 [00:02<00:00, 250.88it/s, now=None]\u001b[A\n",
      "t:  74%|█████████████████████████████████████████████████▎                 | 590/801 [00:02<00:00, 260.69it/s, now=None]\u001b[A\n",
      "t:  77%|███████████████████████████████████████████████████▌               | 617/801 [00:02<00:00, 262.22it/s, now=None]\u001b[A\n",
      "t:  80%|█████████████████████████████████████████████████████▊             | 644/801 [00:02<00:00, 260.27it/s, now=None]\u001b[A\n",
      "t:  84%|████████████████████████████████████████████████████████▏          | 671/801 [00:02<00:00, 258.23it/s, now=None]\u001b[A\n",
      "t:  87%|██████████████████████████████████████████████████████████▍        | 698/801 [00:02<00:00, 260.34it/s, now=None]\u001b[A\n",
      "t:  91%|████████████████████████████████████████████████████████████▋      | 725/801 [00:02<00:00, 257.51it/s, now=None]\u001b[A\n",
      "t:  94%|██████████████████████████████████████████████████████████████▊    | 751/801 [00:02<00:00, 254.54it/s, now=None]\u001b[A\n",
      "t:  97%|████████████████████████████████████████████████████████████████▉  | 777/801 [00:02<00:00, 254.04it/s, now=None]\u001b[A\n",
      "chunk:   0%|▎                                                             | 1/221 [11:13<41:10:35, 673.80s/it, now=None]\u001b[A"
     ]
    },
    {
     "name": "stdout",
     "output_type": "stream",
     "text": [
      "Moviepy - Done !\n",
      "Moviepy - video ready /home/lockke/code/Koprivnica/737-human-action-recognition/737-human-action-recognition/data/3lTx87ebQ_cliped.mp4\n",
      "---------- Video 9 (eating spaghetti) processing ---------- \n"
     ]
    },
    {
     "name": "stderr",
     "output_type": "stream",
     "text": [
      "chunk:   0%|▎                                                             | 1/221 [11:15<41:17:45, 675.75s/it, now=None]"
     ]
    },
    {
     "name": "stdout",
     "output_type": "stream",
     "text": [
      "Moviepy - Building video /home/lockke/code/Koprivnica/737-human-action-recognition/737-human-action-recognition/data/3ouPhoy2A_cliped.mp4.\n",
      "MoviePy - Writing audio in 3ouPhoy2A_clipedTEMP_MPY_wvf_snd.mp3\n"
     ]
    },
    {
     "name": "stderr",
     "output_type": "stream",
     "text": [
      "\n",
      "chunk:   0%|                                                                          | 0/221 [00:00<?, ?it/s, now=None]\u001b[A\n",
      "chunk:  46%|████████████████████████████▌                                 | 102/221 [00:00<00:00, 1019.14it/s, now=None]\u001b[A\n",
      "                                                                                                                        \u001b[A\r"
     ]
    },
    {
     "name": "stdout",
     "output_type": "stream",
     "text": [
      "MoviePy - Done."
     ]
    },
    {
     "name": "stderr",
     "output_type": "stream",
     "text": [
      "chunk:   0%|▎                                                             | 1/221 [11:15<41:18:29, 675.95s/it, now=None]"
     ]
    },
    {
     "name": "stdout",
     "output_type": "stream",
     "text": [
      "\n",
      "Moviepy - Writing video /home/lockke/code/Koprivnica/737-human-action-recognition/737-human-action-recognition/data/3ouPhoy2A_cliped.mp4\n",
      "\n"
     ]
    },
    {
     "name": "stderr",
     "output_type": "stream",
     "text": [
      "\n",
      "t:   0%|                                                                              | 0/250 [00:00<?, ?it/s, now=None]\u001b[A\n",
      "t:  21%|██████████████▍                                                     | 53/250 [00:00<00:00, 522.96it/s, now=None]\u001b[A\n",
      "t:  42%|████████████████████████████▍                                      | 106/250 [00:00<00:00, 265.92it/s, now=None]\u001b[A\n",
      "t:  56%|█████████████████████████████████████▌                             | 140/250 [00:00<00:00, 252.68it/s, now=None]\u001b[A\n",
      "t:  68%|█████████████████████████████████████████████▎                     | 169/250 [00:00<00:00, 239.12it/s, now=None]\u001b[A\n",
      "t:  78%|████████████████████████████████████████████████████▎              | 195/250 [00:00<00:00, 228.21it/s, now=None]\u001b[A\n",
      "t:  88%|██████████████████████████████████████████████████████████▋        | 219/250 [00:00<00:00, 220.72it/s, now=None]\u001b[A\n",
      "t:  97%|████████████████████████████████████████████████████████████████▊  | 242/250 [00:01<00:00, 210.84it/s, now=None]\u001b[A\n",
      "chunk:   0%|▎                                                             | 1/221 [11:17<41:23:12, 677.24s/it, now=None]\u001b[A"
     ]
    },
    {
     "name": "stdout",
     "output_type": "stream",
     "text": [
      "Moviepy - Done !\n",
      "Moviepy - video ready /home/lockke/code/Koprivnica/737-human-action-recognition/737-human-action-recognition/data/3ouPhoy2A_cliped.mp4\n"
     ]
    }
   ],
   "source": [
    "clipAndSave(df)"
   ]
  },
  {
   "cell_type": "code",
   "execution_count": null,
   "id": "131edda7",
   "metadata": {},
   "outputs": [],
   "source": []
  },
  {
   "cell_type": "code",
   "execution_count": null,
   "id": "47d76d6c",
   "metadata": {},
   "outputs": [],
   "source": []
  },
  {
   "cell_type": "code",
   "execution_count": null,
   "id": "66a7a3e2",
   "metadata": {},
   "outputs": [],
   "source": []
  },
  {
   "cell_type": "markdown",
   "id": "434303c5",
   "metadata": {},
   "source": [
    "# currently in development"
   ]
  },
  {
   "cell_type": "code",
   "execution_count": 24,
   "id": "892b4e7d",
   "metadata": {},
   "outputs": [],
   "source": [
    "def videoDownload(filename):\n",
    "    video = YouTube(URL + filename)\n",
    "    video.streams.get_by_itag(18).download(PATH + \"download/\", filename = \"vid\" + filename + \".mp4\")"
   ]
  },
  {
   "cell_type": "code",
   "execution_count": 49,
   "id": "cb2195c8",
   "metadata": {},
   "outputs": [],
   "source": [
    "def videoClip(filename, time_start, time_stop):\n",
    "    video_clip = VideoFileClip(PATH + \"download/\" + \"vid\" + filename + \".mp4\")\n",
    "    video_clip = video_clip.subclip(time_start - 1, time_stop - 1)\n",
    "    video_clip.write_videofile(PATH + \"upload/\" + \"vid\" + filename + \"_cliped.mp4\", fps = 5)\n",
    "    os.remove(PATH + \"download/\" + \"vid\" + filename + \".mp4\")"
   ]
  },
  {
   "cell_type": "code",
   "execution_count": 51,
   "id": "f4f6e74a",
   "metadata": {},
   "outputs": [],
   "source": [
    "def uploadCloud():\n",
    "    pass"
   ]
  },
  {
   "cell_type": "code",
   "execution_count": 50,
   "id": "c6e5cd95",
   "metadata": {},
   "outputs": [],
   "source": [
    "def clip_upload(df):\n",
    "    for i in range(len(df)):\n",
    "        print(f\"---------- Video {i} ({df.loc[i].label}) processing ---------- \")\n",
    "        videoDownload(df.loc[i].youtube_id)\n",
    "        videoClip(df.loc[i].youtube_id, df.loc[i].time_start, df.loc[i].time_end)\n",
    "        #uploadCloud()"
   ]
  },
  {
   "cell_type": "code",
   "execution_count": null,
   "id": "3979ca3a",
   "metadata": {},
   "outputs": [],
   "source": []
  },
  {
   "cell_type": "code",
   "execution_count": 52,
   "id": "0c736c0f",
   "metadata": {},
   "outputs": [
    {
     "name": "stdout",
     "output_type": "stream",
     "text": [
      "---------- Video 0 (clay pottery making) processing ---------- \n"
     ]
    },
    {
     "name": "stderr",
     "output_type": "stream",
     "text": [
      "\n",
      "\u001b[A                                                                                                                     \n",
      "\n",
      "\u001b[A\u001b[A                                                                                                                  \n",
      "\n",
      "\n",
      "\n",
      "\u001b[A\u001b[A\u001b[A\u001b[A                                                                                                            \n",
      "\n",
      "\n",
      "\n",
      "\n",
      "                                                                                                                        \n",
      "\n",
      "\n",
      "\u001b[A\u001b[A\u001b[A                                                                                                               \n",
      "t:   4%|██▋                                                                 | 2/50 [08:42<3:29:02, 261.29s/it, now=None]\u001b[A\n",
      "\n",
      "t:   4%|██▋                                                                 | 2/50 [07:42<3:05:07, 231.41s/it, now=None]\u001b[A\u001b[A\n",
      "\n",
      "\n",
      "\n",
      "chunk:   0%|▎                                                              | 1/221 [02:34<9:24:45, 154.02s/it, now=None]\u001b[A\u001b[A\u001b[A\u001b[A\n",
      "\n",
      "\n",
      "\n",
      "\n",
      "chunk:   0%|▎                                                             | 1/221 [11:04<40:34:57, 664.08s/it, now=None]\u001b[A\u001b[A\u001b[A\u001b[A\u001b[A\n",
      "\n",
      "\n",
      "chunk:  92%|████████████████████████████████████████████████████████▉     | 203/221 [06:45<00:00, 1597.86it/s, now=None]\u001b[A\u001b[A\u001b[A\n",
      "\u001b[A                                                                                                                     \n",
      "\n",
      "\u001b[A\u001b[A                                                                                                                  \n",
      "\n",
      "\n",
      "\n",
      "\u001b[A\u001b[A\u001b[A\u001b[A                                                                                                            \n",
      "\n",
      "\n",
      "\n",
      "\n",
      "                                                                                                                        \n",
      "\n",
      "\n",
      "\u001b[A\u001b[A\u001b[A                                                                                                               \n",
      "t:   4%|██▋                                                                 | 2/50 [08:42<3:29:03, 261.32s/it, now=None]\u001b[A\n",
      "\n",
      "t:   4%|██▋                                                                 | 2/50 [07:42<3:05:08, 231.44s/it, now=None]\u001b[A\u001b[A\n",
      "\n",
      "\n",
      "\n",
      "chunk:   0%|▎                                                              | 1/221 [02:34<9:24:54, 154.07s/it, now=None]\u001b[A\u001b[A\u001b[A\u001b[A\n",
      "\n",
      "\n",
      "\n",
      "\n",
      "chunk:   0%|▎                                                             | 1/221 [11:04<40:35:06, 664.12s/it, now=None]\u001b[A\u001b[A\u001b[A\u001b[A\u001b[A\n",
      "\n",
      "\n",
      "chunk:  92%|████████████████████████████████████████████████████████▉     | 203/221 [06:45<00:00, 1597.86it/s, now=None]\u001b[A\u001b[A\u001b[A"
     ]
    },
    {
     "name": "stdout",
     "output_type": "stream",
     "text": [
      "Moviepy - Building video /home/lockke/code/Koprivnica/737-human-action-recognition/737-human-action-recognition/data/upload/vid---0dWlqevI_cliped.mp4.\n",
      "MoviePy - Writing audio in vid---0dWlqevI_clipedTEMP_MPY_wvf_snd.mp3\n"
     ]
    },
    {
     "name": "stderr",
     "output_type": "stream",
     "text": [
      "\n",
      "\n",
      "\n",
      "\n",
      "\n",
      "\n",
      "chunk:   0%|                                                                          | 0/221 [00:00<?, ?it/s, now=None]\u001b[A\u001b[A\u001b[A\u001b[A\u001b[A\u001b[A\n",
      "\n",
      "\n",
      "\n",
      "\n",
      "\n",
      "chunk:  74%|█████████████████████████████████████████████▋                | 163/221 [00:00<00:00, 1627.86it/s, now=None]\u001b[A\u001b[A\u001b[A\u001b[A\u001b[A\u001b[A\n",
      "\n",
      "\n",
      "\n",
      "\n",
      "\n",
      "                                                                                                                        \u001b[A\u001b[A\u001b[A\u001b[A\u001b[A\u001b[A\n",
      "\u001b[A                                                                                                                     \n",
      "\n",
      "\u001b[A\u001b[A                                                                                                                  \n",
      "\n",
      "\n",
      "\n",
      "\u001b[A\u001b[A\u001b[A\u001b[A                                                                                                            \n",
      "\n",
      "\n",
      "\n",
      "\n",
      "                                                                                                                        \n",
      "\n",
      "\n",
      "\u001b[A\u001b[A\u001b[A                                                                                                               \n",
      "t:   4%|██▋                                                                 | 2/50 [08:42<3:29:07, 261.41s/it, now=None]\u001b[A\n",
      "\n",
      "t:   4%|██▋                                                                 | 2/50 [07:43<3:05:13, 231.53s/it, now=None]\u001b[A\u001b[A\n",
      "\n",
      "\n",
      "\n",
      "chunk:   0%|▎                                                              | 1/221 [02:34<9:25:36, 154.26s/it, now=None]\u001b[A\u001b[A\u001b[A\u001b[A\n",
      "\n",
      "\n",
      "\n",
      "\n",
      "chunk:   0%|▎                                                             | 1/221 [11:04<40:35:49, 664.32s/it, now=None]\u001b[A\u001b[A\u001b[A\u001b[A\u001b[A\n",
      "\n",
      "\n",
      "chunk:  92%|████████████████████████████████████████████████████████▉     | 203/221 [06:45<00:00, 1597.86it/s, now=None]\u001b[A\u001b[A\u001b[A\n",
      "\u001b[A                                                                                                                     \n",
      "\n",
      "\u001b[A\u001b[A                                                                                                                  \n",
      "\n",
      "\n",
      "\n",
      "\u001b[A\u001b[A\u001b[A\u001b[A                                                                                                            \n",
      "\n",
      "\n",
      "\n",
      "\n",
      "                                                                                                                        \n",
      "\n",
      "\n",
      "\u001b[A\u001b[A\u001b[A                                                                                                               \n",
      "t:   4%|██▋                                                                 | 2/50 [08:42<3:29:08, 261.43s/it, now=None]\u001b[A\n",
      "\n",
      "t:   4%|██▋                                                                 | 2/50 [07:43<3:05:14, 231.55s/it, now=None]\u001b[A\u001b[A\n",
      "\n",
      "\n",
      "\n",
      "chunk:   0%|▎                                                              | 1/221 [02:34<9:25:48, 154.31s/it, now=None]\u001b[A\u001b[A\u001b[A\u001b[A\n",
      "\n",
      "\n",
      "\n",
      "\n",
      "chunk:   0%|▎                                                             | 1/221 [11:04<40:36:00, 664.36s/it, now=None]\u001b[A\u001b[A\u001b[A\u001b[A\u001b[A\n",
      "\n",
      "\n",
      "chunk:  92%|████████████████████████████████████████████████████████▉     | 203/221 [06:45<00:00, 1597.86it/s, now=None]\u001b[A\u001b[A\u001b[A"
     ]
    },
    {
     "name": "stdout",
     "output_type": "stream",
     "text": [
      "MoviePy - Done.\n",
      "Moviepy - Writing video /home/lockke/code/Koprivnica/737-human-action-recognition/737-human-action-recognition/data/upload/vid---0dWlqevI_cliped.mp4\n",
      "\n"
     ]
    },
    {
     "name": "stderr",
     "output_type": "stream",
     "text": [
      "\n",
      "\n",
      "\n",
      "\n",
      "\n",
      "\n",
      "t:   0%|                                                                               | 0/50 [00:00<?, ?it/s, now=None]\u001b[A\u001b[A\u001b[A\u001b[A\u001b[A\u001b[A\n",
      "\n",
      "\n",
      "\n",
      "\n",
      "\n",
      "t:  92%|███████████████████████████████████████████████████████████████▍     | 46/50 [00:00<00:00, 456.50it/s, now=None]\u001b[A\u001b[A\u001b[A\u001b[A\u001b[A\u001b[A\n",
      "\n",
      "\n",
      "\n",
      "\n",
      "\n",
      "                                                                                                                        \u001b[A\u001b[A\u001b[A\u001b[A\u001b[A\u001b[A\n",
      "\u001b[A                                                                                                                     \n",
      "\n",
      "\u001b[A\u001b[A                                                                                                                  \n",
      "\n",
      "\n",
      "\n",
      "\u001b[A\u001b[A\u001b[A\u001b[A                                                                                                            \n",
      "\n",
      "\n",
      "\n",
      "\n",
      "                                                                                                                        \n",
      "\n",
      "\n",
      "\u001b[A\u001b[A\u001b[A                                                                                                               \n",
      "t:   4%|██▋                                                                 | 2/50 [08:43<3:29:15, 261.57s/it, now=None]\u001b[A\n",
      "\n",
      "t:   4%|██▋                                                                 | 2/50 [07:43<3:05:21, 231.69s/it, now=None]\u001b[A\u001b[A\n",
      "\n",
      "\n",
      "\n",
      "chunk:   0%|▎                                                              | 1/221 [02:34<9:26:45, 154.57s/it, now=None]\u001b[A\u001b[A\u001b[A\u001b[A\n",
      "\n",
      "\n",
      "\n",
      "\n",
      "chunk:   0%|▎                                                             | 1/221 [11:04<40:36:57, 664.62s/it, now=None]\u001b[A\u001b[A\u001b[A\u001b[A\u001b[A\n",
      "\n",
      "\n",
      "chunk:  92%|████████████████████████████████████████████████████████▉     | 203/221 [06:45<00:00, 1597.86it/s, now=None]\u001b[A\u001b[A\u001b[A\n",
      "\u001b[A                                                                                                                     \n",
      "\n",
      "\u001b[A\u001b[A                                                                                                                  \n",
      "\n",
      "\n",
      "\n",
      "\u001b[A\u001b[A\u001b[A\u001b[A                                                                                                            \n",
      "\n",
      "\n",
      "\n",
      "\n",
      "                                                                                                                        \n",
      "\n",
      "\n",
      "\u001b[A\u001b[A\u001b[A                                                                                                               \n",
      "t:   4%|██▋                                                                 | 2/50 [08:43<3:29:16, 261.59s/it, now=None]\u001b[A\n",
      "\n",
      "t:   4%|██▋                                                                 | 2/50 [07:43<3:05:22, 231.71s/it, now=None]\u001b[A\u001b[A\n",
      "\n",
      "\n",
      "\n",
      "chunk:   0%|▎                                                              | 1/221 [02:34<9:26:55, 154.62s/it, now=None]\u001b[A\u001b[A\u001b[A\u001b[A\n",
      "\n",
      "\n",
      "\n",
      "\n",
      "chunk:   0%|▎                                                             | 1/221 [11:04<40:37:07, 664.67s/it, now=None]\u001b[A\u001b[A\u001b[A\u001b[A\u001b[A\n",
      "\n",
      "\n",
      "chunk:  92%|████████████████████████████████████████████████████████▉     | 203/221 [06:45<00:00, 1597.86it/s, now=None]\u001b[A\u001b[A\u001b[A"
     ]
    },
    {
     "name": "stdout",
     "output_type": "stream",
     "text": [
      "Moviepy - Done !\n",
      "Moviepy - video ready /home/lockke/code/Koprivnica/737-human-action-recognition/737-human-action-recognition/data/upload/vid---0dWlqevI_cliped.mp4\n",
      "---------- Video 1 (news anchoring) processing ---------- \n"
     ]
    },
    {
     "name": "stderr",
     "output_type": "stream",
     "text": [
      "\n",
      "\u001b[A                                                                                                                     \n",
      "\n",
      "\u001b[A\u001b[A                                                                                                                  \n",
      "\n",
      "\n",
      "\n",
      "\u001b[A\u001b[A\u001b[A\u001b[A                                                                                                            \n",
      "\n",
      "\n",
      "\n",
      "\n",
      "                                                                                                                        \n",
      "\n",
      "\n",
      "\u001b[A\u001b[A\u001b[A                                                                                                               \n",
      "t:   4%|██▋                                                                 | 2/50 [08:46<3:30:30, 263.13s/it, now=None]\u001b[A\n",
      "\n",
      "t:   4%|██▋                                                                 | 2/50 [07:46<3:06:36, 233.25s/it, now=None]\u001b[A\u001b[A\n",
      "\n",
      "\n",
      "\n",
      "chunk:   0%|▎                                                              | 1/221 [02:37<9:38:14, 157.70s/it, now=None]\u001b[A\u001b[A\u001b[A\u001b[A\n",
      "\n",
      "\n",
      "\n",
      "\n",
      "chunk:   0%|▎                                                             | 1/221 [11:07<40:48:26, 667.75s/it, now=None]\u001b[A\u001b[A\u001b[A\u001b[A\u001b[A\n",
      "\n",
      "\n",
      "chunk:  92%|████████████████████████████████████████████████████████▉     | 203/221 [06:48<00:00, 1597.86it/s, now=None]\u001b[A\u001b[A\u001b[A\n",
      "\u001b[A                                                                                                                     \n",
      "\n",
      "\u001b[A\u001b[A                                                                                                                  \n",
      "\n",
      "\n",
      "\n",
      "\u001b[A\u001b[A\u001b[A\u001b[A                                                                                                            \n",
      "\n",
      "\n",
      "\n",
      "\n",
      "                                                                                                                        \n",
      "\n",
      "\n",
      "\u001b[A\u001b[A\u001b[A                                                                                                               \n",
      "t:   4%|██▋                                                                 | 2/50 [08:46<3:30:31, 263.16s/it, now=None]\u001b[A\n",
      "\n",
      "t:   4%|██▋                                                                 | 2/50 [07:46<3:06:37, 233.27s/it, now=None]\u001b[A\u001b[A\n",
      "\n",
      "\n",
      "\n",
      "chunk:   0%|▎                                                              | 1/221 [02:37<9:38:23, 157.74s/it, now=None]\u001b[A\u001b[A\u001b[A\u001b[A\n",
      "\n",
      "\n",
      "\n",
      "\n",
      "chunk:   0%|▎                                                             | 1/221 [11:07<40:48:36, 667.80s/it, now=None]\u001b[A\u001b[A\u001b[A\u001b[A\u001b[A\n",
      "\n",
      "\n",
      "chunk:  92%|████████████████████████████████████████████████████████▉     | 203/221 [06:48<00:00, 1597.86it/s, now=None]\u001b[A\u001b[A\u001b[A"
     ]
    },
    {
     "name": "stdout",
     "output_type": "stream",
     "text": [
      "Moviepy - Building video /home/lockke/code/Koprivnica/737-human-action-recognition/737-human-action-recognition/data/upload/vid---aQ-tA5_A_cliped.mp4.\n",
      "MoviePy - Writing audio in vid---aQ-tA5_A_clipedTEMP_MPY_wvf_snd.mp3\n"
     ]
    },
    {
     "name": "stderr",
     "output_type": "stream",
     "text": [
      "\n",
      "\n",
      "\n",
      "\n",
      "\n",
      "\n",
      "chunk:   0%|                                                                          | 0/221 [00:00<?, ?it/s, now=None]\u001b[A\u001b[A\u001b[A\u001b[A\u001b[A\u001b[A\n",
      "\n",
      "\n",
      "\n",
      "\n",
      "\n",
      "chunk:  47%|████████████████████████████▉                                 | 103/221 [00:00<00:00, 1018.55it/s, now=None]\u001b[A\u001b[A\u001b[A\u001b[A\u001b[A\u001b[A\n",
      "\n",
      "\n",
      "\n",
      "\n",
      "\n",
      "                                                                                                                        \u001b[A\u001b[A\u001b[A\u001b[A\u001b[A\u001b[A\n",
      "\u001b[A                                                                                                                     \n",
      "\n",
      "\u001b[A\u001b[A                                                                                                                  \n",
      "\n",
      "\n",
      "\n",
      "\u001b[A\u001b[A\u001b[A\u001b[A                                                                                                            \n",
      "\n",
      "\n",
      "\n",
      "\n",
      "                                                                                                                        \n",
      "\n",
      "\n",
      "\u001b[A\u001b[A\u001b[A                                                                                                               \n",
      "t:   4%|██▋                                                                 | 2/50 [08:46<3:30:37, 263.28s/it, now=None]\u001b[A\n",
      "\n",
      "t:   4%|██▋                                                                 | 2/50 [07:46<3:06:43, 233.40s/it, now=None]\u001b[A\u001b[A\n",
      "\n",
      "\n",
      "\n",
      "chunk:   0%|▎                                                              | 1/221 [02:38<9:39:20, 158.00s/it, now=None]\u001b[A\u001b[A\u001b[A\u001b[A\n",
      "\n",
      "\n",
      "\n",
      "\n",
      "chunk:   0%|▎                                                             | 1/221 [11:08<40:49:32, 668.06s/it, now=None]\u001b[A\u001b[A\u001b[A\u001b[A\u001b[A\n",
      "\n",
      "\n",
      "chunk:  92%|████████████████████████████████████████████████████████▉     | 203/221 [06:48<00:00, 1597.86it/s, now=None]\u001b[A\u001b[A\u001b[A\n",
      "\u001b[A                                                                                                                     \n",
      "\n",
      "\u001b[A\u001b[A                                                                                                                  \n",
      "\n",
      "\n",
      "\n",
      "\u001b[A\u001b[A\u001b[A\u001b[A                                                                                                            \n",
      "\n",
      "\n",
      "\n",
      "\n",
      "                                                                                                                        \n",
      "\n",
      "\n",
      "\u001b[A\u001b[A\u001b[A                                                                                                               \n",
      "t:   4%|██▋                                                                 | 2/50 [08:46<3:30:38, 263.31s/it, now=None]\u001b[A\n",
      "\n",
      "t:   4%|██▋                                                                 | 2/50 [07:46<3:06:44, 233.42s/it, now=None]\u001b[A\u001b[A\n",
      "\n",
      "\n",
      "\n",
      "chunk:   0%|▎                                                              | 1/221 [02:38<9:39:29, 158.04s/it, now=None]\u001b[A\u001b[A\u001b[A\u001b[A\n",
      "\n",
      "\n",
      "\n",
      "\n",
      "chunk:   0%|▎                                                             | 1/221 [11:08<40:49:41, 668.10s/it, now=None]\u001b[A\u001b[A\u001b[A\u001b[A\u001b[A\n",
      "\n",
      "\n",
      "chunk:  92%|████████████████████████████████████████████████████████▉     | 203/221 [06:49<00:00, 1597.86it/s, now=None]\u001b[A\u001b[A\u001b[A"
     ]
    },
    {
     "name": "stdout",
     "output_type": "stream",
     "text": [
      "MoviePy - Done.\n",
      "Moviepy - Writing video /home/lockke/code/Koprivnica/737-human-action-recognition/737-human-action-recognition/data/upload/vid---aQ-tA5_A_cliped.mp4\n",
      "\n"
     ]
    },
    {
     "name": "stderr",
     "output_type": "stream",
     "text": [
      "\n",
      "\n",
      "\n",
      "\n",
      "\n",
      "\n",
      "t:   0%|                                                                               | 0/50 [00:00<?, ?it/s, now=None]\u001b[A\u001b[A\u001b[A\u001b[A\u001b[A\u001b[A\n",
      "\n",
      "\n",
      "\n",
      "\n",
      "\n",
      "                                                                                                                        \u001b[A\u001b[A\u001b[A\u001b[A\u001b[A\u001b[A\n",
      "\u001b[A                                                                                                                     \n",
      "\n",
      "\u001b[A\u001b[A                                                                                                                  \n",
      "\n",
      "\n",
      "\n",
      "\u001b[A\u001b[A\u001b[A\u001b[A                                                                                                            \n",
      "\n",
      "\n",
      "\n",
      "\n",
      "                                                                                                                        \n",
      "\n",
      "\n",
      "\u001b[A\u001b[A\u001b[A                                                                                                               \n",
      "t:   4%|██▋                                                                 | 2/50 [08:46<3:30:44, 263.44s/it, now=None]\u001b[A\n",
      "\n",
      "t:   4%|██▋                                                                 | 2/50 [07:47<3:06:50, 233.56s/it, now=None]\u001b[A\u001b[A\n",
      "\n",
      "\n",
      "\n",
      "chunk:   0%|▎                                                              | 1/221 [02:38<9:40:27, 158.31s/it, now=None]\u001b[A\u001b[A\u001b[A\u001b[A\n",
      "\n",
      "\n",
      "\n",
      "\n",
      "chunk:   0%|▎                                                             | 1/221 [11:08<40:50:39, 668.36s/it, now=None]\u001b[A\u001b[A\u001b[A\u001b[A\u001b[A\n",
      "\n",
      "\n",
      "chunk:  92%|████████████████████████████████████████████████████████▉     | 203/221 [06:49<00:00, 1597.86it/s, now=None]\u001b[A\u001b[A\u001b[A\n",
      "\u001b[A                                                                                                                     \n",
      "\n",
      "\u001b[A\u001b[A                                                                                                                  \n",
      "\n",
      "\n",
      "\n",
      "\u001b[A\u001b[A\u001b[A\u001b[A                                                                                                            \n",
      "\n",
      "\n",
      "\n",
      "\n",
      "                                                                                                                        \n",
      "\n",
      "\n",
      "\u001b[A\u001b[A\u001b[A                                                                                                               \n",
      "t:   4%|██▋                                                                 | 2/50 [08:46<3:30:46, 263.46s/it, now=None]\u001b[A\n",
      "\n",
      "t:   4%|██▋                                                                 | 2/50 [07:47<3:06:51, 233.58s/it, now=None]\u001b[A\u001b[A\n",
      "\n",
      "\n",
      "\n",
      "chunk:   0%|▎                                                              | 1/221 [02:38<9:40:37, 158.35s/it, now=None]\u001b[A\u001b[A\u001b[A\u001b[A\n",
      "\n",
      "\n",
      "\n",
      "\n",
      "chunk:   0%|▎                                                             | 1/221 [11:08<40:50:49, 668.41s/it, now=None]\u001b[A\u001b[A\u001b[A\u001b[A\u001b[A\n",
      "\n",
      "\n",
      "chunk:  92%|████████████████████████████████████████████████████████▉     | 203/221 [06:49<00:00, 1597.86it/s, now=None]\u001b[A\u001b[A\u001b[A"
     ]
    },
    {
     "name": "stdout",
     "output_type": "stream",
     "text": [
      "Moviepy - Done !\n",
      "Moviepy - video ready /home/lockke/code/Koprivnica/737-human-action-recognition/737-human-action-recognition/data/upload/vid---aQ-tA5_A_cliped.mp4\n",
      "---------- Video 2 (using bagging machine) processing ---------- \n"
     ]
    },
    {
     "name": "stderr",
     "output_type": "stream",
     "text": [
      "\n",
      "\u001b[A                                                                                                                     \n",
      "\n",
      "\u001b[A\u001b[A                                                                                                                  \n",
      "\n",
      "\n",
      "\n",
      "\u001b[A\u001b[A\u001b[A\u001b[A                                                                                                            \n",
      "\n",
      "\n",
      "\n",
      "\n",
      "                                                                                                                        \n",
      "\n",
      "\n",
      "\u001b[A\u001b[A\u001b[A                                                                                                               \n",
      "t:   4%|██▋                                                                 | 2/50 [08:50<3:32:16, 265.34s/it, now=None]\u001b[A\n",
      "\n",
      "t:   4%|██▋                                                                 | 2/50 [07:50<3:08:22, 235.46s/it, now=None]\u001b[A\u001b[A\n",
      "\n",
      "\n",
      "\n",
      "chunk:   0%|▎                                                              | 1/221 [02:42<9:54:27, 162.12s/it, now=None]\u001b[A\u001b[A\u001b[A\u001b[A\n",
      "\n",
      "\n",
      "\n",
      "\n",
      "chunk:   0%|▎                                                             | 1/221 [11:12<41:04:38, 672.18s/it, now=None]\u001b[A\u001b[A\u001b[A\u001b[A\u001b[A\n",
      "\n",
      "\n",
      "chunk:  92%|████████████████████████████████████████████████████████▉     | 203/221 [06:53<00:00, 1597.86it/s, now=None]\u001b[A\u001b[A\u001b[A\n",
      "\u001b[A                                                                                                                     \n",
      "\n",
      "\u001b[A\u001b[A                                                                                                                  \n",
      "\n",
      "\n",
      "\n",
      "\u001b[A\u001b[A\u001b[A\u001b[A                                                                                                            \n",
      "\n",
      "\n",
      "\n",
      "\n",
      "                                                                                                                        \n",
      "\n",
      "\n",
      "\u001b[A\u001b[A\u001b[A                                                                                                               \n",
      "t:   4%|██▋                                                                 | 2/50 [08:50<3:32:17, 265.36s/it, now=None]\u001b[A\n",
      "\n",
      "t:   4%|██▋                                                                 | 2/50 [07:50<3:08:23, 235.48s/it, now=None]\u001b[A\u001b[A\n",
      "\n",
      "\n",
      "\n",
      "chunk:   0%|▎                                                              | 1/221 [02:42<9:54:36, 162.16s/it, now=None]\u001b[A\u001b[A\u001b[A\u001b[A\n",
      "\n",
      "\n",
      "\n",
      "\n",
      "chunk:   0%|▎                                                             | 1/221 [11:12<41:04:48, 672.22s/it, now=None]\u001b[A\u001b[A\u001b[A\u001b[A\u001b[A\n",
      "\n",
      "\n",
      "chunk:  92%|████████████████████████████████████████████████████████▉     | 203/221 [06:53<00:00, 1597.86it/s, now=None]\u001b[A\u001b[A\u001b[A"
     ]
    },
    {
     "name": "stdout",
     "output_type": "stream",
     "text": [
      "Moviepy - Building video /home/lockke/code/Koprivnica/737-human-action-recognition/737-human-action-recognition/data/upload/vid---j12rm3WI_cliped.mp4.\n",
      "MoviePy - Writing audio in vid---j12rm3WI_clipedTEMP_MPY_wvf_snd.mp3\n"
     ]
    },
    {
     "name": "stderr",
     "output_type": "stream",
     "text": [
      "\n",
      "\n",
      "\n",
      "\n",
      "\n",
      "\n",
      "chunk:   0%|                                                                          | 0/221 [00:00<?, ?it/s, now=None]\u001b[A\u001b[A\u001b[A\u001b[A\u001b[A\u001b[A\n",
      "\n",
      "\n",
      "\n",
      "\n",
      "\n",
      "chunk:  39%|█████████████████████████▏                                      | 87/221 [00:00<00:00, 864.68it/s, now=None]\u001b[A\u001b[A\u001b[A\u001b[A\u001b[A\u001b[A\n",
      "\n",
      "\n",
      "\n",
      "\n",
      "\n",
      "chunk:  92%|████████████████████████████████████████████████████████▉     | 203/221 [00:00<00:00, 1033.09it/s, now=None]\u001b[A\u001b[A\u001b[A\u001b[A\u001b[A\u001b[A\n",
      "\n",
      "\n",
      "\n",
      "\n",
      "\n",
      "                                                                                                                        \u001b[A\u001b[A\u001b[A\u001b[A\u001b[A\u001b[A\n",
      "\u001b[A                                                                                                                     \n",
      "\n",
      "\u001b[A\u001b[A                                                                                                                  \n",
      "\n",
      "\n",
      "\n",
      "\u001b[A\u001b[A\u001b[A\u001b[A                                                                                                            \n",
      "\n",
      "\n",
      "\n",
      "\n",
      "                                                                                                                        \n",
      "\n",
      "\n",
      "\u001b[A\u001b[A\u001b[A                                                                                                               \n",
      "t:   4%|██▋                                                                 | 2/50 [08:51<3:32:24, 265.51s/it, now=None]\u001b[A\n",
      "\n",
      "t:   4%|██▋                                                                 | 2/50 [07:51<3:08:30, 235.63s/it, now=None]\u001b[A\u001b[A\n",
      "\n",
      "\n",
      "\n",
      "chunk:   0%|▎                                                              | 1/221 [02:42<9:55:39, 162.45s/it, now=None]\u001b[A\u001b[A\u001b[A\u001b[A\n",
      "\n",
      "\n",
      "\n",
      "\n",
      "chunk:   0%|▎                                                             | 1/221 [11:12<41:05:51, 672.50s/it, now=None]\u001b[A\u001b[A\u001b[A\u001b[A\u001b[A\n",
      "\n",
      "\n",
      "chunk:  92%|████████████████████████████████████████████████████████▉     | 203/221 [06:53<00:00, 1597.86it/s, now=None]\u001b[A\u001b[A\u001b[A\n",
      "\u001b[A                                                                                                                     \n",
      "\n",
      "\u001b[A\u001b[A                                                                                                                  \n",
      "\n",
      "\n",
      "\n",
      "\u001b[A\u001b[A\u001b[A\u001b[A                                                                                                            \n",
      "\n",
      "\n",
      "\n",
      "\n",
      "                                                                                                                        \n",
      "\n",
      "\n",
      "\u001b[A\u001b[A\u001b[A                                                                                                               \n",
      "t:   4%|██▋                                                                 | 2/50 [08:51<3:32:25, 265.53s/it, now=None]\u001b[A\n",
      "\n",
      "t:   4%|██▋                                                                 | 2/50 [07:51<3:08:31, 235.65s/it, now=None]\u001b[A\u001b[A\n",
      "\n",
      "\n",
      "\n",
      "chunk:   0%|▎                                                              | 1/221 [02:42<9:55:49, 162.50s/it, now=None]\u001b[A\u001b[A\u001b[A\u001b[A\n",
      "\n",
      "\n",
      "\n",
      "\n",
      "chunk:   0%|▎                                                             | 1/221 [11:12<41:06:01, 672.55s/it, now=None]\u001b[A\u001b[A\u001b[A\u001b[A\u001b[A\n",
      "\n",
      "\n",
      "chunk:  92%|████████████████████████████████████████████████████████▉     | 203/221 [06:53<00:00, 1597.86it/s, now=None]\u001b[A\u001b[A\u001b[A"
     ]
    },
    {
     "name": "stdout",
     "output_type": "stream",
     "text": [
      "MoviePy - Done.\n",
      "Moviepy - Writing video /home/lockke/code/Koprivnica/737-human-action-recognition/737-human-action-recognition/data/upload/vid---j12rm3WI_cliped.mp4\n",
      "\n"
     ]
    },
    {
     "name": "stderr",
     "output_type": "stream",
     "text": [
      "\n",
      "\n",
      "\n",
      "\n",
      "\n",
      "\n",
      "t:   0%|                                                                               | 0/50 [00:00<?, ?it/s, now=None]\u001b[A\u001b[A\u001b[A\u001b[A\u001b[A\u001b[A\n",
      "\n",
      "\n",
      "\n",
      "\n",
      "\n",
      "t:  46%|███████████████████████████████▋                                     | 23/50 [00:00<00:00, 226.37it/s, now=None]\u001b[A\u001b[A\u001b[A\u001b[A\u001b[A\u001b[A\n",
      "\n",
      "\n",
      "\n",
      "\n",
      "\n",
      "t:  92%|███████████████████████████████████████████████████████████████▍     | 46/50 [00:00<00:00, 218.86it/s, now=None]\u001b[A\u001b[A\u001b[A\u001b[A\u001b[A\u001b[A\n",
      "\n",
      "\n",
      "\n",
      "\n",
      "\n",
      "                                                                                                                        \u001b[A\u001b[A\u001b[A\u001b[A\u001b[A\u001b[A\n",
      "\u001b[A                                                                                                                     \n",
      "\n",
      "\u001b[A\u001b[A                                                                                                                  \n",
      "\n",
      "\n",
      "\n",
      "\u001b[A\u001b[A\u001b[A\u001b[A                                                                                                            \n",
      "\n",
      "\n",
      "\n",
      "\n",
      "                                                                                                                        \n",
      "\n",
      "\n",
      "\u001b[A\u001b[A\u001b[A                                                                                                               \n",
      "t:   4%|██▋                                                                 | 2/50 [08:51<3:32:39, 265.83s/it, now=None]\u001b[A\n",
      "\n",
      "t:   4%|██▋                                                                 | 2/50 [07:51<3:08:45, 235.95s/it, now=None]\u001b[A\u001b[A\n",
      "\n",
      "\n",
      "\n",
      "chunk:   0%|▎                                                              | 1/221 [02:43<9:57:59, 163.09s/it, now=None]\u001b[A\u001b[A\u001b[A\u001b[A\n",
      "\n",
      "\n",
      "\n",
      "\n",
      "chunk:   0%|▎                                                             | 1/221 [11:13<41:08:11, 673.14s/it, now=None]\u001b[A\u001b[A\u001b[A\u001b[A\u001b[A\n",
      "\n",
      "\n",
      "chunk:  92%|████████████████████████████████████████████████████████▉     | 203/221 [06:54<00:00, 1597.86it/s, now=None]\u001b[A\u001b[A\u001b[A\n",
      "\u001b[A                                                                                                                     \n",
      "\n",
      "\u001b[A\u001b[A                                                                                                                  \n",
      "\n",
      "\n",
      "\n",
      "\u001b[A\u001b[A\u001b[A\u001b[A                                                                                                            \n",
      "\n",
      "\n",
      "\n",
      "\n",
      "                                                                                                                        \n",
      "\n",
      "\n",
      "\u001b[A\u001b[A\u001b[A                                                                                                               \n",
      "t:   4%|██▋                                                                 | 2/50 [08:51<3:32:40, 265.85s/it, now=None]\u001b[A\n",
      "\n",
      "t:   4%|██▋                                                                 | 2/50 [07:51<3:08:46, 235.97s/it, now=None]\u001b[A\u001b[A\n",
      "\n",
      "\n",
      "\n",
      "chunk:   0%|▎                                                              | 1/221 [02:43<9:58:07, 163.13s/it, now=None]\u001b[A\u001b[A\u001b[A\u001b[A\n",
      "\n",
      "\n",
      "\n",
      "\n",
      "chunk:   0%|▎                                                             | 1/221 [11:13<41:08:19, 673.18s/it, now=None]\u001b[A\u001b[A\u001b[A\u001b[A\u001b[A\n",
      "\n",
      "\n",
      "chunk:  92%|████████████████████████████████████████████████████████▉     | 203/221 [06:54<00:00, 1597.86it/s, now=None]\u001b[A\u001b[A\u001b[A"
     ]
    },
    {
     "name": "stdout",
     "output_type": "stream",
     "text": [
      "Moviepy - Done !\n",
      "Moviepy - video ready /home/lockke/code/Koprivnica/737-human-action-recognition/737-human-action-recognition/data/upload/vid---j12rm3WI_cliped.mp4\n",
      "---------- Video 3 (javelin throw) processing ---------- \n"
     ]
    },
    {
     "name": "stderr",
     "output_type": "stream",
     "text": [
      "\n",
      "\u001b[A                                                                                                                     \n",
      "\n",
      "\u001b[A\u001b[A                                                                                                                  \n",
      "\n",
      "\n",
      "\n",
      "\u001b[A\u001b[A\u001b[A\u001b[A                                                                                                            \n",
      "\n",
      "\n",
      "\n",
      "\n",
      "                                                                                                                        \n",
      "\n",
      "\n",
      "\u001b[A\u001b[A\u001b[A                                                                                                               \n",
      "t:   4%|██▋                                                                 | 2/50 [08:53<3:33:13, 266.53s/it, now=None]\u001b[A\n",
      "\n",
      "t:   4%|██▋                                                                 | 2/50 [07:53<3:09:19, 236.65s/it, now=None]\u001b[A\u001b[A\n",
      "\n",
      "\n",
      "\n",
      "chunk:   0%|▎                                                             | 1/221 [02:44<10:03:10, 164.50s/it, now=None]\u001b[A\u001b[A\u001b[A\u001b[A\n",
      "\n",
      "\n",
      "\n",
      "\n",
      "chunk:   0%|▎                                                             | 1/221 [11:14<41:13:22, 674.56s/it, now=None]\u001b[A\u001b[A\u001b[A\u001b[A\u001b[A\n",
      "\n",
      "\n",
      "chunk:  92%|████████████████████████████████████████████████████████▉     | 203/221 [06:55<00:00, 1597.86it/s, now=None]\u001b[A\u001b[A\u001b[A\n",
      "\u001b[A                                                                                                                     \n",
      "\n",
      "\u001b[A\u001b[A                                                                                                                  \n",
      "\n",
      "\n",
      "\n",
      "\u001b[A\u001b[A\u001b[A\u001b[A                                                                                                            \n",
      "\n",
      "\n",
      "\n",
      "\n",
      "                                                                                                                        \n",
      "\n",
      "\n",
      "\u001b[A\u001b[A\u001b[A                                                                                                               \n",
      "t:   4%|██▋                                                                 | 2/50 [08:53<3:33:14, 266.56s/it, now=None]\u001b[A\n",
      "\n",
      "t:   4%|██▋                                                                 | 2/50 [07:53<3:09:20, 236.67s/it, now=None]\u001b[A\u001b[A\n",
      "\n",
      "\n",
      "\n",
      "chunk:   0%|▎                                                             | 1/221 [02:44<10:03:19, 164.54s/it, now=None]\u001b[A\u001b[A\u001b[A\u001b[A\n",
      "\n",
      "\n",
      "\n",
      "\n",
      "chunk:   0%|▎                                                             | 1/221 [11:14<41:13:31, 674.60s/it, now=None]\u001b[A\u001b[A\u001b[A\u001b[A\u001b[A\n",
      "\n",
      "\n",
      "chunk:  92%|████████████████████████████████████████████████████████▉     | 203/221 [06:55<00:00, 1597.86it/s, now=None]\u001b[A\u001b[A\u001b[A"
     ]
    },
    {
     "name": "stdout",
     "output_type": "stream",
     "text": [
      "Moviepy - Building video /home/lockke/code/Koprivnica/737-human-action-recognition/737-human-action-recognition/data/upload/vid--07WQ2iBlw_cliped.mp4.\n",
      "MoviePy - Writing audio in vid--07WQ2iBlw_clipedTEMP_MPY_wvf_snd.mp3\n"
     ]
    },
    {
     "name": "stderr",
     "output_type": "stream",
     "text": [
      "\n",
      "\n",
      "\n",
      "\n",
      "\n",
      "\n",
      "chunk:   0%|                                                                          | 0/221 [00:00<?, ?it/s, now=None]\u001b[A\u001b[A\u001b[A\u001b[A\u001b[A\u001b[A\n",
      "\n",
      "\n",
      "\n",
      "\n",
      "\n",
      "chunk:  69%|██████████████████████████████████████████▉                   | 153/221 [00:00<00:00, 1499.36it/s, now=None]\u001b[A\u001b[A\u001b[A\u001b[A\u001b[A\u001b[A\n",
      "\n",
      "\n",
      "\n",
      "\n",
      "\n",
      "                                                                                                                        \u001b[A\u001b[A\u001b[A\u001b[A\u001b[A\u001b[A\n",
      "\u001b[A                                                                                                                     \n",
      "\n",
      "\u001b[A\u001b[A                                                                                                                  \n",
      "\n",
      "\n",
      "\n",
      "\u001b[A\u001b[A\u001b[A\u001b[A                                                                                                            \n",
      "\n",
      "\n",
      "\n",
      "\n",
      "                                                                                                                        \n",
      "\n",
      "\n",
      "\u001b[A\u001b[A\u001b[A                                                                                                               \n",
      "t:   4%|██▋                                                                 | 2/50 [08:53<3:33:19, 266.66s/it, now=None]\u001b[A\n",
      "\n",
      "t:   4%|██▋                                                                 | 2/50 [07:53<3:09:25, 236.78s/it, now=None]\u001b[A\u001b[A\n",
      "\n",
      "\n",
      "\n",
      "chunk:   0%|▎                                                             | 1/221 [02:44<10:04:05, 164.75s/it, now=None]\u001b[A\u001b[A\u001b[A\u001b[A\n",
      "\n",
      "\n",
      "\n",
      "\n",
      "chunk:   0%|▎                                                             | 1/221 [11:14<41:14:17, 674.81s/it, now=None]\u001b[A\u001b[A\u001b[A\u001b[A\u001b[A\n",
      "\n",
      "\n",
      "chunk:  92%|████████████████████████████████████████████████████████▉     | 203/221 [06:55<00:00, 1597.86it/s, now=None]\u001b[A\u001b[A\u001b[A\n",
      "\u001b[A                                                                                                                     \n",
      "\n",
      "\u001b[A\u001b[A                                                                                                                  \n",
      "\n",
      "\n",
      "\n",
      "\u001b[A\u001b[A\u001b[A\u001b[A                                                                                                            \n",
      "\n",
      "\n",
      "\n",
      "\n",
      "                                                                                                                        \n",
      "\n",
      "\n",
      "\u001b[A\u001b[A\u001b[A                                                                                                               \n",
      "t:   4%|██▋                                                                 | 2/50 [08:53<3:33:20, 266.68s/it, now=None]\u001b[A\n",
      "\n",
      "t:   4%|██▋                                                                 | 2/50 [07:53<3:09:26, 236.80s/it, now=None]\u001b[A\u001b[A\n",
      "\n",
      "\n",
      "\n",
      "chunk:   0%|▎                                                             | 1/221 [02:44<10:04:14, 164.79s/it, now=None]\u001b[A\u001b[A\u001b[A\u001b[A\n",
      "\n",
      "\n",
      "\n",
      "\n",
      "chunk:   0%|▎                                                             | 1/221 [11:14<41:14:26, 674.85s/it, now=None]\u001b[A\u001b[A\u001b[A\u001b[A\u001b[A\n",
      "\n",
      "\n",
      "chunk:  92%|████████████████████████████████████████████████████████▉     | 203/221 [06:55<00:00, 1597.86it/s, now=None]\u001b[A\u001b[A\u001b[A"
     ]
    },
    {
     "name": "stdout",
     "output_type": "stream",
     "text": [
      "MoviePy - Done.\n",
      "Moviepy - Writing video /home/lockke/code/Koprivnica/737-human-action-recognition/737-human-action-recognition/data/upload/vid--07WQ2iBlw_cliped.mp4\n",
      "\n"
     ]
    },
    {
     "name": "stderr",
     "output_type": "stream",
     "text": [
      "\n",
      "\n",
      "\n",
      "\n",
      "\n",
      "\n",
      "t:   0%|                                                                               | 0/50 [00:00<?, ?it/s, now=None]\u001b[A\u001b[A\u001b[A\u001b[A\u001b[A\u001b[A\n",
      "\n",
      "\n",
      "\n",
      "\n",
      "\n",
      "t:  40%|███████████████████████████▌                                         | 20/50 [00:00<00:00, 196.73it/s, now=None]\u001b[A\u001b[A\u001b[A\u001b[A\u001b[A\u001b[A\n",
      "\n",
      "\n",
      "\n",
      "\n",
      "\n",
      "t:  80%|███████████████████████████████████████████████████████▏             | 40/50 [00:00<00:00, 188.83it/s, now=None]\u001b[A\u001b[A\u001b[A\u001b[A\u001b[A\u001b[A\n",
      "\n",
      "\n",
      "\n",
      "\n",
      "\n",
      "                                                                                                                        \u001b[A\u001b[A\u001b[A\u001b[A\u001b[A\u001b[A\n",
      "\u001b[A                                                                                                                     \n",
      "\n",
      "\u001b[A\u001b[A                                                                                                                  \n",
      "\n",
      "\n",
      "\n",
      "\u001b[A\u001b[A\u001b[A\u001b[A                                                                                                            \n",
      "\n",
      "\n",
      "\n",
      "\n",
      "                                                                                                                        \n",
      "\n",
      "\n",
      "\u001b[A\u001b[A\u001b[A                                                                                                               \n",
      "t:   4%|██▋                                                                 | 2/50 [08:53<3:33:35, 266.99s/it, now=None]\u001b[A\n",
      "\n",
      "t:   4%|██▋                                                                 | 2/50 [07:54<3:09:41, 237.11s/it, now=None]\u001b[A\u001b[A\n",
      "\n",
      "\n",
      "\n",
      "chunk:   0%|▎                                                             | 1/221 [02:45<10:06:32, 165.42s/it, now=None]\u001b[A\u001b[A\u001b[A\u001b[A\n",
      "\n",
      "\n",
      "\n",
      "\n",
      "chunk:   0%|▎                                                             | 1/221 [11:15<41:16:43, 675.47s/it, now=None]\u001b[A\u001b[A\u001b[A\u001b[A\u001b[A\n",
      "\n",
      "\n",
      "chunk:  92%|████████████████████████████████████████████████████████▉     | 203/221 [06:56<00:00, 1597.86it/s, now=None]\u001b[A\u001b[A\u001b[A\n",
      "\u001b[A                                                                                                                     \n",
      "\n",
      "\u001b[A\u001b[A                                                                                                                  \n",
      "\n",
      "\n",
      "\n",
      "\u001b[A\u001b[A\u001b[A\u001b[A                                                                                                            \n",
      "\n",
      "\n",
      "\n",
      "\n",
      "                                                                                                                        \n",
      "\n",
      "\n",
      "\u001b[A\u001b[A\u001b[A                                                                                                               \n",
      "t:   4%|██▋                                                                 | 2/50 [08:54<3:33:36, 267.02s/it, now=None]\u001b[A\n",
      "\n",
      "t:   4%|██▋                                                                 | 2/50 [07:54<3:09:42, 237.13s/it, now=None]\u001b[A\u001b[A\n",
      "\n",
      "\n",
      "\n",
      "chunk:   0%|▎                                                             | 1/221 [02:45<10:06:42, 165.46s/it, now=None]\u001b[A\u001b[A\u001b[A\u001b[A\n",
      "\n",
      "\n",
      "\n",
      "\n",
      "chunk:   0%|▎                                                             | 1/221 [11:15<41:16:53, 675.52s/it, now=None]\u001b[A\u001b[A\u001b[A\u001b[A\u001b[A\n",
      "\n",
      "\n",
      "chunk:  92%|████████████████████████████████████████████████████████▉     | 203/221 [06:56<00:00, 1597.86it/s, now=None]\u001b[A\u001b[A\u001b[A"
     ]
    },
    {
     "name": "stdout",
     "output_type": "stream",
     "text": [
      "Moviepy - Done !\n",
      "Moviepy - video ready /home/lockke/code/Koprivnica/737-human-action-recognition/737-human-action-recognition/data/upload/vid--07WQ2iBlw_cliped.mp4\n",
      "---------- Video 4 (climbing a rope) processing ---------- \n"
     ]
    },
    {
     "name": "stderr",
     "output_type": "stream",
     "text": [
      "\n",
      "\u001b[A                                                                                                                     \n",
      "\n",
      "\u001b[A\u001b[A                                                                                                                  \n",
      "\n",
      "\n",
      "\n",
      "\u001b[A\u001b[A\u001b[A\u001b[A                                                                                                            \n",
      "\n",
      "\n",
      "\n",
      "\n",
      "                                                                                                                        \n",
      "\n",
      "\n",
      "\u001b[A\u001b[A\u001b[A                                                                                                               \n",
      "t:   4%|██▋                                                                 | 2/50 [08:56<3:34:24, 268.00s/it, now=None]\u001b[A\n",
      "\n",
      "t:   4%|██▋                                                                 | 2/50 [07:56<3:10:29, 238.12s/it, now=None]\u001b[A\u001b[A\n",
      "\n",
      "\n",
      "\n",
      "chunk:   0%|▎                                                             | 1/221 [02:47<10:13:55, 167.44s/it, now=None]\u001b[A\u001b[A\u001b[A\u001b[A\n",
      "\n",
      "\n",
      "\n",
      "\n",
      "chunk:   0%|▎                                                             | 1/221 [11:17<41:24:07, 677.49s/it, now=None]\u001b[A\u001b[A\u001b[A\u001b[A\u001b[A\n",
      "\n",
      "\n",
      "chunk:  92%|████████████████████████████████████████████████████████▉     | 203/221 [06:58<00:00, 1597.86it/s, now=None]\u001b[A\u001b[A\u001b[A\n",
      "\u001b[A                                                                                                                     \n",
      "\n",
      "\u001b[A\u001b[A                                                                                                                  \n",
      "\n",
      "\n",
      "\n",
      "\u001b[A\u001b[A\u001b[A\u001b[A                                                                                                            \n",
      "\n",
      "\n",
      "\n",
      "\n",
      "                                                                                                                        \n",
      "\n",
      "\n",
      "\u001b[A\u001b[A\u001b[A                                                                                                               \n",
      "t:   4%|██▋                                                                 | 2/50 [08:56<3:34:25, 268.02s/it, now=None]\u001b[A\n",
      "\n",
      "t:   4%|██▋                                                                 | 2/50 [07:56<3:10:30, 238.14s/it, now=None]\u001b[A\u001b[A\n",
      "\n",
      "\n",
      "\n",
      "chunk:   0%|▎                                                             | 1/221 [02:47<10:14:04, 167.47s/it, now=None]\u001b[A\u001b[A\u001b[A\u001b[A\n",
      "\n",
      "\n",
      "\n",
      "\n",
      "chunk:   0%|▎                                                             | 1/221 [11:17<41:24:16, 677.53s/it, now=None]\u001b[A\u001b[A\u001b[A\u001b[A\u001b[A\n",
      "\n",
      "\n",
      "chunk:  92%|████████████████████████████████████████████████████████▉     | 203/221 [06:58<00:00, 1597.86it/s, now=None]\u001b[A\u001b[A\u001b[A"
     ]
    },
    {
     "name": "stdout",
     "output_type": "stream",
     "text": [
      "Moviepy - Building video /home/lockke/code/Koprivnica/737-human-action-recognition/737-human-action-recognition/data/upload/vid--0NTAs-fA0_cliped.mp4.\n",
      "MoviePy - Writing audio in vid--0NTAs-fA0_clipedTEMP_MPY_wvf_snd.mp3\n"
     ]
    },
    {
     "name": "stderr",
     "output_type": "stream",
     "text": [
      "\n",
      "\n",
      "\n",
      "\n",
      "\n",
      "\n",
      "chunk:   0%|                                                                          | 0/221 [00:00<?, ?it/s, now=None]\u001b[A\u001b[A\u001b[A\u001b[A\u001b[A\u001b[A\n",
      "\n",
      "\n",
      "\n",
      "\n",
      "\n",
      "chunk:  24%|███████████████▋                                                | 54/221 [00:00<00:00, 539.76it/s, now=None]\u001b[A\u001b[A\u001b[A\u001b[A\u001b[A\u001b[A\n",
      "\n",
      "\n",
      "\n",
      "\n",
      "\n",
      "chunk:  99%|█████████████████████████████████████████████████████████████▏| 218/221 [00:00<00:00, 1186.70it/s, now=None]\u001b[A\u001b[A\u001b[A\u001b[A\u001b[A\u001b[A\n",
      "\n",
      "\n",
      "\n",
      "\n",
      "\n",
      "                                                                                                                        \u001b[A\u001b[A\u001b[A\u001b[A\u001b[A\u001b[A\n",
      "\u001b[A                                                                                                                     \n",
      "\n",
      "\u001b[A\u001b[A                                                                                                                  \n",
      "\n",
      "\n",
      "\n",
      "\u001b[A\u001b[A\u001b[A\u001b[A                                                                                                            \n",
      "\n",
      "\n",
      "\n",
      "\n",
      "                                                                                                                        \n",
      "\n",
      "\n",
      "\u001b[A\u001b[A\u001b[A                                                                                                               \n",
      "t:   4%|██▋                                                                 | 2/50 [08:56<3:34:31, 268.15s/it, now=None]\u001b[A\n",
      "\n",
      "t:   4%|██▋                                                                 | 2/50 [07:56<3:10:36, 238.27s/it, now=None]\u001b[A\u001b[A\n",
      "\n",
      "\n",
      "\n",
      "chunk:   0%|▎                                                             | 1/221 [02:47<10:15:00, 167.73s/it, now=None]\u001b[A\u001b[A\u001b[A\u001b[A\n",
      "\n",
      "\n",
      "\n",
      "\n",
      "chunk:   0%|▎                                                             | 1/221 [11:17<41:25:12, 677.79s/it, now=None]\u001b[A\u001b[A\u001b[A\u001b[A\u001b[A\n",
      "\n",
      "\n",
      "chunk:  92%|████████████████████████████████████████████████████████▉     | 203/221 [06:58<00:00, 1597.86it/s, now=None]\u001b[A\u001b[A\u001b[A\n",
      "\u001b[A                                                                                                                     \n",
      "\n",
      "\u001b[A\u001b[A                                                                                                                  \n",
      "\n",
      "\n",
      "\n",
      "\u001b[A\u001b[A\u001b[A\u001b[A                                                                                                            \n",
      "\n",
      "\n",
      "\n",
      "\n",
      "                                                                                                                        \n",
      "\n",
      "\n",
      "\u001b[A\u001b[A\u001b[A                                                                                                               \n",
      "t:   4%|██▋                                                                 | 2/50 [08:56<3:34:32, 268.17s/it, now=None]\u001b[A\n",
      "\n",
      "t:   4%|██▋                                                                 | 2/50 [07:56<3:10:37, 238.29s/it, now=None]\u001b[A\u001b[A\n",
      "\n",
      "\n",
      "\n",
      "chunk:   0%|▎                                                             | 1/221 [02:47<10:15:09, 167.77s/it, now=None]\u001b[A\u001b[A\u001b[A\u001b[A\n",
      "\n",
      "\n",
      "\n",
      "\n",
      "chunk:   0%|▎                                                             | 1/221 [11:17<41:25:22, 677.83s/it, now=None]\u001b[A\u001b[A\u001b[A\u001b[A\u001b[A\n",
      "\n",
      "\n",
      "chunk:  92%|████████████████████████████████████████████████████████▉     | 203/221 [06:58<00:00, 1597.86it/s, now=None]\u001b[A\u001b[A\u001b[A"
     ]
    },
    {
     "name": "stdout",
     "output_type": "stream",
     "text": [
      "MoviePy - Done.\n",
      "Moviepy - Writing video /home/lockke/code/Koprivnica/737-human-action-recognition/737-human-action-recognition/data/upload/vid--0NTAs-fA0_cliped.mp4\n",
      "\n"
     ]
    },
    {
     "name": "stderr",
     "output_type": "stream",
     "text": [
      "\n",
      "\n",
      "\n",
      "\n",
      "\n",
      "\n",
      "t:   0%|                                                                               | 0/50 [00:00<?, ?it/s, now=None]\u001b[A\u001b[A\u001b[A\u001b[A\u001b[A\u001b[A\n",
      "\n",
      "\n",
      "\n",
      "\n",
      "\n",
      "t:  58%|████████████████████████████████████████                             | 29/50 [00:00<00:00, 285.55it/s, now=None]\u001b[A\u001b[A\u001b[A\u001b[A\u001b[A\u001b[A\n",
      "\n",
      "\n",
      "\n",
      "\n",
      "\n",
      "                                                                                                                        \u001b[A\u001b[A\u001b[A\u001b[A\u001b[A\u001b[A\n",
      "\u001b[A                                                                                                                     \n",
      "\n",
      "\u001b[A\u001b[A                                                                                                                  \n",
      "\n",
      "\n",
      "\n",
      "\u001b[A\u001b[A\u001b[A\u001b[A                                                                                                            \n",
      "\n",
      "\n",
      "\n",
      "\n",
      "                                                                                                                        \n",
      "\n",
      "\n",
      "\u001b[A\u001b[A\u001b[A                                                                                                               \n",
      "t:   4%|██▋                                                                 | 2/50 [08:56<3:34:42, 268.38s/it, now=None]\u001b[A\n",
      "\n",
      "t:   4%|██▋                                                                 | 2/50 [07:56<3:10:47, 238.50s/it, now=None]\u001b[A\u001b[A\n",
      "\n",
      "\n",
      "\n",
      "chunk:   0%|▎                                                             | 1/221 [02:48<10:16:42, 168.19s/it, now=None]\u001b[A\u001b[A\u001b[A\u001b[A\n",
      "\n",
      "\n",
      "\n",
      "\n",
      "chunk:   0%|▎                                                             | 1/221 [11:18<41:26:53, 678.25s/it, now=None]\u001b[A\u001b[A\u001b[A\u001b[A\u001b[A\n",
      "\n",
      "\n",
      "chunk:  92%|████████████████████████████████████████████████████████▉     | 203/221 [06:59<00:00, 1597.86it/s, now=None]\u001b[A\u001b[A\u001b[A\n",
      "\u001b[A                                                                                                                     \n",
      "\n",
      "\u001b[A\u001b[A                                                                                                                  \n",
      "\n",
      "\n",
      "\n",
      "\u001b[A\u001b[A\u001b[A\u001b[A                                                                                                            \n",
      "\n",
      "\n",
      "\n",
      "\n",
      "                                                                                                                        \n",
      "\n",
      "\n",
      "\u001b[A\u001b[A\u001b[A                                                                                                               \n",
      "t:   4%|██▋                                                                 | 2/50 [08:56<3:34:43, 268.40s/it, now=None]\u001b[A\n",
      "\n",
      "t:   4%|██▋                                                                 | 2/50 [07:57<3:10:48, 238.52s/it, now=None]\u001b[A\u001b[A\n",
      "\n",
      "\n",
      "\n",
      "chunk:   0%|▎                                                             | 1/221 [02:48<10:16:51, 168.23s/it, now=None]\u001b[A\u001b[A\u001b[A\u001b[A\n",
      "\n",
      "\n",
      "\n",
      "\n",
      "chunk:   0%|▎                                                             | 1/221 [11:18<41:27:03, 678.29s/it, now=None]\u001b[A\u001b[A\u001b[A\u001b[A\u001b[A\n",
      "\n",
      "\n",
      "chunk:  92%|████████████████████████████████████████████████████████▉     | 203/221 [06:59<00:00, 1597.86it/s, now=None]\u001b[A\u001b[A\u001b[A"
     ]
    },
    {
     "name": "stdout",
     "output_type": "stream",
     "text": [
      "Moviepy - Done !\n",
      "Moviepy - video ready /home/lockke/code/Koprivnica/737-human-action-recognition/737-human-action-recognition/data/upload/vid--0NTAs-fA0_cliped.mp4\n",
      "---------- Video 5 (sipping cup) processing ---------- \n"
     ]
    },
    {
     "name": "stderr",
     "output_type": "stream",
     "text": [
      "\n",
      "\u001b[A                                                                                                                     \n",
      "\n",
      "\u001b[A\u001b[A                                                                                                                  \n",
      "\n",
      "\n",
      "\n",
      "\u001b[A\u001b[A\u001b[A\u001b[A                                                                                                            \n",
      "\n",
      "\n",
      "\n",
      "\n",
      "                                                                                                                        \n",
      "\n",
      "\n",
      "\u001b[A\u001b[A\u001b[A                                                                                                               \n",
      "t:   4%|██▋                                                                 | 2/50 [08:59<3:35:50, 269.80s/it, now=None]\u001b[A\n",
      "\n",
      "t:   4%|██▋                                                                 | 2/50 [07:59<3:11:56, 239.92s/it, now=None]\u001b[A\u001b[A\n",
      "\n",
      "\n",
      "\n",
      "chunk:   0%|▎                                                             | 1/221 [02:51<10:27:08, 171.04s/it, now=None]\u001b[A\u001b[A\u001b[A\u001b[A\n",
      "\n",
      "\n",
      "\n",
      "\n",
      "chunk:   0%|▎                                                             | 1/221 [11:21<41:37:19, 681.09s/it, now=None]\u001b[A\u001b[A\u001b[A\u001b[A\u001b[A\n",
      "\n",
      "\n",
      "chunk:  92%|████████████████████████████████████████████████████████▉     | 203/221 [07:02<00:00, 1597.86it/s, now=None]\u001b[A\u001b[A\u001b[A\n",
      "\u001b[A                                                                                                                     \n",
      "\n",
      "\u001b[A\u001b[A                                                                                                                  \n",
      "\n",
      "\n",
      "\n",
      "\u001b[A\u001b[A\u001b[A\u001b[A                                                                                                            \n",
      "\n",
      "\n",
      "\n",
      "\n",
      "                                                                                                                        \n",
      "\n",
      "\n",
      "\u001b[A\u001b[A\u001b[A                                                                                                               \n",
      "t:   4%|██▋                                                                 | 2/50 [08:59<3:35:51, 269.82s/it, now=None]\u001b[A\n",
      "\n",
      "t:   4%|██▋                                                                 | 2/50 [07:59<3:11:57, 239.94s/it, now=None]\u001b[A\u001b[A\n",
      "\n",
      "\n",
      "\n",
      "chunk:   0%|▎                                                             | 1/221 [02:51<10:27:17, 171.08s/it, now=None]\u001b[A\u001b[A\u001b[A\u001b[A\n",
      "\n",
      "\n",
      "\n",
      "\n",
      "chunk:   0%|▎                                                             | 1/221 [11:21<41:37:29, 681.14s/it, now=None]\u001b[A\u001b[A\u001b[A\u001b[A\u001b[A\n",
      "\n",
      "\n",
      "chunk:  92%|████████████████████████████████████████████████████████▉     | 203/221 [07:02<00:00, 1597.86it/s, now=None]\u001b[A\u001b[A\u001b[A"
     ]
    },
    {
     "name": "stdout",
     "output_type": "stream",
     "text": [
      "Moviepy - Building video /home/lockke/code/Koprivnica/737-human-action-recognition/737-human-action-recognition/data/upload/vid--0l35AkU34_cliped.mp4.\n",
      "MoviePy - Writing audio in vid--0l35AkU34_clipedTEMP_MPY_wvf_snd.mp3\n"
     ]
    },
    {
     "name": "stderr",
     "output_type": "stream",
     "text": [
      "\n",
      "\n",
      "\n",
      "\n",
      "\n",
      "\n",
      "chunk:   0%|                                                                          | 0/221 [00:00<?, ?it/s, now=None]\u001b[A\u001b[A\u001b[A\u001b[A\u001b[A\u001b[A\n",
      "\n",
      "\n",
      "\n",
      "\n",
      "\n",
      "chunk:  38%|████████████████████████                                        | 83/221 [00:00<00:00, 823.09it/s, now=None]\u001b[A\u001b[A\u001b[A\u001b[A\u001b[A\u001b[A\n",
      "\n",
      "\n",
      "\n",
      "\n",
      "\n",
      "chunk:  93%|█████████████████████████████████████████████████████████▌    | 205/221 [00:00<00:00, 1024.09it/s, now=None]\u001b[A\u001b[A\u001b[A\u001b[A\u001b[A\u001b[A\n",
      "\n",
      "\n",
      "\n",
      "\n",
      "\n",
      "                                                                                                                        \u001b[A\u001b[A\u001b[A\u001b[A\u001b[A\u001b[A\n",
      "\u001b[A                                                                                                                     \n",
      "\n",
      "\u001b[A\u001b[A                                                                                                                  \n",
      "\n",
      "\n",
      "\n",
      "\u001b[A\u001b[A\u001b[A\u001b[A                                                                                                            \n",
      "\n",
      "\n",
      "\n",
      "\n",
      "                                                                                                                        \n",
      "\n",
      "\n",
      "\u001b[A\u001b[A\u001b[A                                                                                                               \n",
      "t:   4%|██▋                                                                 | 2/50 [08:59<3:35:59, 269.98s/it, now=None]\u001b[A\n",
      "\n",
      "t:   4%|██▋                                                                 | 2/50 [08:00<3:12:04, 240.10s/it, now=None]\u001b[A\u001b[A\n",
      "\n",
      "\n",
      "\n",
      "chunk:   0%|▎                                                             | 1/221 [02:51<10:28:26, 171.39s/it, now=None]\u001b[A\u001b[A\u001b[A\u001b[A\n",
      "\n",
      "\n",
      "\n",
      "\n",
      "chunk:   0%|▎                                                             | 1/221 [11:21<41:38:38, 681.45s/it, now=None]\u001b[A\u001b[A\u001b[A\u001b[A\u001b[A\n",
      "\n",
      "\n",
      "chunk:  92%|████████████████████████████████████████████████████████▉     | 203/221 [07:02<00:00, 1597.86it/s, now=None]\u001b[A\u001b[A\u001b[A\n",
      "\u001b[A                                                                                                                     \n",
      "\n",
      "\u001b[A\u001b[A                                                                                                                  \n",
      "\n",
      "\n",
      "\n",
      "\u001b[A\u001b[A\u001b[A\u001b[A                                                                                                            \n",
      "\n",
      "\n",
      "\n",
      "\n",
      "                                                                                                                        \n",
      "\n",
      "\n",
      "\u001b[A\u001b[A\u001b[A                                                                                                               \n",
      "t:   4%|██▋                                                                 | 2/50 [09:00<3:36:00, 270.00s/it, now=None]\u001b[A\n",
      "\n",
      "t:   4%|██▋                                                                 | 2/50 [08:00<3:12:05, 240.12s/it, now=None]\u001b[A\u001b[A\n",
      "\n",
      "\n",
      "\n",
      "chunk:   0%|▎                                                             | 1/221 [02:51<10:28:36, 171.44s/it, now=None]\u001b[A\u001b[A\u001b[A\u001b[A\n",
      "\n",
      "\n",
      "\n",
      "\n",
      "chunk:   0%|▎                                                             | 1/221 [11:21<41:38:49, 681.50s/it, now=None]\u001b[A\u001b[A\u001b[A\u001b[A\u001b[A\n",
      "\n",
      "\n",
      "chunk:  92%|████████████████████████████████████████████████████████▉     | 203/221 [07:02<00:00, 1597.86it/s, now=None]\u001b[A\u001b[A\u001b[A"
     ]
    },
    {
     "name": "stdout",
     "output_type": "stream",
     "text": [
      "MoviePy - Done.\n",
      "Moviepy - Writing video /home/lockke/code/Koprivnica/737-human-action-recognition/737-human-action-recognition/data/upload/vid--0l35AkU34_cliped.mp4\n",
      "\n"
     ]
    },
    {
     "name": "stderr",
     "output_type": "stream",
     "text": [
      "\n",
      "\n",
      "\n",
      "\n",
      "\n",
      "\n",
      "t:   0%|                                                                               | 0/50 [00:00<?, ?it/s, now=None]\u001b[A\u001b[A\u001b[A\u001b[A\u001b[A\u001b[A\n",
      "\n",
      "\n",
      "\n",
      "\n",
      "\n",
      "t:  40%|███████████████████████████▌                                         | 20/50 [00:00<00:00, 199.46it/s, now=None]\u001b[A\u001b[A\u001b[A\u001b[A\u001b[A\u001b[A\n",
      "\n",
      "\n",
      "\n",
      "\n",
      "\n",
      "t:  80%|███████████████████████████████████████████████████████▏             | 40/50 [00:00<00:00, 177.95it/s, now=None]\u001b[A\u001b[A\u001b[A\u001b[A\u001b[A\u001b[A\n",
      "\n",
      "\n",
      "\n",
      "\n",
      "\n",
      "                                                                                                                        \u001b[A\u001b[A\u001b[A\u001b[A\u001b[A\u001b[A\n",
      "\u001b[A                                                                                                                     \n",
      "\n",
      "\u001b[A\u001b[A                                                                                                                  \n",
      "\n",
      "\n",
      "\n",
      "\u001b[A\u001b[A\u001b[A\u001b[A                                                                                                            \n",
      "\n",
      "\n",
      "\n",
      "\n",
      "                                                                                                                        \n",
      "\n",
      "\n",
      "\u001b[A\u001b[A\u001b[A                                                                                                               \n",
      "t:   4%|██▋                                                                 | 2/50 [09:00<3:36:15, 270.33s/it, now=None]\u001b[A\n",
      "\n",
      "t:   4%|██▋                                                                 | 2/50 [08:00<3:12:21, 240.44s/it, now=None]\u001b[A\u001b[A\n",
      "\n",
      "\n",
      "\n",
      "chunk:   0%|▎                                                             | 1/221 [02:52<10:30:58, 172.08s/it, now=None]\u001b[A\u001b[A\u001b[A\u001b[A\n",
      "\n",
      "\n",
      "\n",
      "\n",
      "chunk:   0%|▎                                                             | 1/221 [11:22<41:41:10, 682.14s/it, now=None]\u001b[A\u001b[A\u001b[A\u001b[A\u001b[A\n",
      "\n",
      "\n",
      "chunk:  92%|████████████████████████████████████████████████████████▉     | 203/221 [07:03<00:00, 1597.86it/s, now=None]\u001b[A\u001b[A\u001b[A\n",
      "\u001b[A                                                                                                                     \n",
      "\n",
      "\u001b[A\u001b[A                                                                                                                  \n",
      "\n",
      "\n",
      "\n",
      "\u001b[A\u001b[A\u001b[A\u001b[A                                                                                                            \n",
      "\n",
      "\n",
      "\n",
      "\n",
      "                                                                                                                        \n",
      "\n",
      "\n",
      "\u001b[A\u001b[A\u001b[A                                                                                                               \n",
      "t:   4%|██▋                                                                 | 2/50 [09:00<3:36:16, 270.35s/it, now=None]\u001b[A\n",
      "\n",
      "t:   4%|██▋                                                                 | 2/50 [08:00<3:12:22, 240.47s/it, now=None]\u001b[A\u001b[A\n",
      "\n",
      "\n",
      "\n",
      "chunk:   0%|▎                                                             | 1/221 [02:52<10:31:08, 172.13s/it, now=None]\u001b[A\u001b[A\u001b[A\u001b[A\n",
      "\n",
      "\n",
      "\n",
      "\n",
      "chunk:   0%|▎                                                             | 1/221 [11:22<41:41:19, 682.18s/it, now=None]\u001b[A\u001b[A\u001b[A\u001b[A\u001b[A\n",
      "\n",
      "\n",
      "chunk:  92%|████████████████████████████████████████████████████████▉     | 203/221 [07:03<00:00, 1597.86it/s, now=None]\u001b[A\u001b[A\u001b[A"
     ]
    },
    {
     "name": "stdout",
     "output_type": "stream",
     "text": [
      "Moviepy - Done !\n",
      "Moviepy - video ready /home/lockke/code/Koprivnica/737-human-action-recognition/737-human-action-recognition/data/upload/vid--0l35AkU34_cliped.mp4\n",
      "---------- Video 6 (flipping pancake) processing ---------- \n"
     ]
    },
    {
     "name": "stderr",
     "output_type": "stream",
     "text": [
      "\n",
      "\u001b[A                                                                                                                     \n",
      "\n",
      "\u001b[A\u001b[A                                                                                                                  \n",
      "\n",
      "\n",
      "\n",
      "\u001b[A\u001b[A\u001b[A\u001b[A                                                                                                            \n",
      "\n",
      "\n",
      "\n",
      "\n",
      "                                                                                                                        \n",
      "\n",
      "\n",
      "\u001b[A\u001b[A\u001b[A                                                                                                               \n",
      "t:   4%|██▋                                                                 | 2/50 [09:02<3:36:57, 271.21s/it, now=None]\u001b[A\n",
      "\n",
      "t:   4%|██▋                                                                 | 2/50 [08:02<3:13:03, 241.33s/it, now=None]\u001b[A\u001b[A\n",
      "\n",
      "\n",
      "\n",
      "chunk:   0%|▎                                                             | 1/221 [02:53<10:37:27, 173.85s/it, now=None]\u001b[A\u001b[A\u001b[A\u001b[A\n",
      "\n",
      "\n",
      "\n",
      "\n",
      "chunk:   0%|▎                                                             | 1/221 [11:23<41:47:38, 683.90s/it, now=None]\u001b[A\u001b[A\u001b[A\u001b[A\u001b[A\n",
      "\n",
      "\n",
      "chunk:  92%|████████████████████████████████████████████████████████▉     | 203/221 [07:04<00:00, 1597.86it/s, now=None]\u001b[A\u001b[A\u001b[A\n",
      "\u001b[A                                                                                                                     \n",
      "\n",
      "\u001b[A\u001b[A                                                                                                                  \n",
      "\n",
      "\n",
      "\n",
      "\u001b[A\u001b[A\u001b[A\u001b[A                                                                                                            \n",
      "\n",
      "\n",
      "\n",
      "\n",
      "                                                                                                                        \n",
      "\n",
      "\n",
      "\u001b[A\u001b[A\u001b[A                                                                                                               \n",
      "t:   4%|██▋                                                                 | 2/50 [09:02<3:36:59, 271.24s/it, now=None]\u001b[A\n",
      "\n",
      "t:   4%|██▋                                                                 | 2/50 [08:02<3:13:05, 241.36s/it, now=None]\u001b[A\u001b[A\n",
      "\n",
      "\n",
      "\n",
      "chunk:   0%|▎                                                             | 1/221 [02:53<10:37:40, 173.91s/it, now=None]\u001b[A\u001b[A\u001b[A\u001b[A\n",
      "\n",
      "\n",
      "\n",
      "\n",
      "chunk:   0%|▎                                                             | 1/221 [11:23<41:47:52, 683.96s/it, now=None]\u001b[A\u001b[A\u001b[A\u001b[A\u001b[A\n",
      "\n",
      "\n",
      "chunk:  92%|████████████████████████████████████████████████████████▉     | 203/221 [07:04<00:00, 1597.86it/s, now=None]\u001b[A\u001b[A\u001b[A"
     ]
    },
    {
     "name": "stdout",
     "output_type": "stream",
     "text": [
      "Moviepy - Building video /home/lockke/code/Koprivnica/737-human-action-recognition/737-human-action-recognition/data/upload/vid--33Lscn6sk_cliped.mp4.\n",
      "MoviePy - Writing audio in vid--33Lscn6sk_clipedTEMP_MPY_wvf_snd.mp3\n"
     ]
    },
    {
     "name": "stderr",
     "output_type": "stream",
     "text": [
      "\n",
      "\n",
      "\n",
      "\n",
      "\n",
      "\n",
      "chunk:   0%|                                                                          | 0/221 [00:00<?, ?it/s, now=None]\u001b[A\u001b[A\u001b[A\u001b[A\u001b[A\u001b[A\n",
      "\n",
      "\n",
      "\n",
      "\n",
      "\n",
      "chunk:  73%|█████████████████████████████████████████████▍                | 162/221 [00:00<00:00, 1618.22it/s, now=None]\u001b[A\u001b[A\u001b[A\u001b[A\u001b[A\u001b[A"
     ]
    },
    {
     "ename": "OSError",
     "evalue": "Error in file /home/lockke/code/Koprivnica/737-human-action-recognition/737-human-action-recognition/data/download/vid--33Lscn6sk.mp4, Accessing time t=10.47-10.51 seconds, with clip duration=10 seconds, ",
     "output_type": "error",
     "traceback": [
      "\u001b[0;31m---------------------------------------------------------------------------\u001b[0m",
      "\u001b[0;31mOSError\u001b[0m                                   Traceback (most recent call last)",
      "\u001b[0;32m/tmp/ipykernel_3383/3407782149.py\u001b[0m in \u001b[0;36m<module>\u001b[0;34m\u001b[0m\n\u001b[0;32m----> 1\u001b[0;31m \u001b[0mclip_upload\u001b[0m\u001b[0;34m(\u001b[0m\u001b[0mdf\u001b[0m\u001b[0;34m)\u001b[0m\u001b[0;34m\u001b[0m\u001b[0;34m\u001b[0m\u001b[0m\n\u001b[0m",
      "\u001b[0;32m/tmp/ipykernel_3383/1384316951.py\u001b[0m in \u001b[0;36mclip_upload\u001b[0;34m(df)\u001b[0m\n\u001b[1;32m      3\u001b[0m         \u001b[0mprint\u001b[0m\u001b[0;34m(\u001b[0m\u001b[0;34mf\"---------- Video {i} ({df.loc[i].label}) processing ---------- \"\u001b[0m\u001b[0;34m)\u001b[0m\u001b[0;34m\u001b[0m\u001b[0;34m\u001b[0m\u001b[0m\n\u001b[1;32m      4\u001b[0m         \u001b[0mvideoDownload\u001b[0m\u001b[0;34m(\u001b[0m\u001b[0mdf\u001b[0m\u001b[0;34m.\u001b[0m\u001b[0mloc\u001b[0m\u001b[0;34m[\u001b[0m\u001b[0mi\u001b[0m\u001b[0;34m]\u001b[0m\u001b[0;34m.\u001b[0m\u001b[0myoutube_id\u001b[0m\u001b[0;34m)\u001b[0m\u001b[0;34m\u001b[0m\u001b[0;34m\u001b[0m\u001b[0m\n\u001b[0;32m----> 5\u001b[0;31m         \u001b[0mvideoClip\u001b[0m\u001b[0;34m(\u001b[0m\u001b[0mdf\u001b[0m\u001b[0;34m.\u001b[0m\u001b[0mloc\u001b[0m\u001b[0;34m[\u001b[0m\u001b[0mi\u001b[0m\u001b[0;34m]\u001b[0m\u001b[0;34m.\u001b[0m\u001b[0myoutube_id\u001b[0m\u001b[0;34m,\u001b[0m \u001b[0mdf\u001b[0m\u001b[0;34m.\u001b[0m\u001b[0mloc\u001b[0m\u001b[0;34m[\u001b[0m\u001b[0mi\u001b[0m\u001b[0;34m]\u001b[0m\u001b[0;34m.\u001b[0m\u001b[0mtime_start\u001b[0m\u001b[0;34m,\u001b[0m \u001b[0mdf\u001b[0m\u001b[0;34m.\u001b[0m\u001b[0mloc\u001b[0m\u001b[0;34m[\u001b[0m\u001b[0mi\u001b[0m\u001b[0;34m]\u001b[0m\u001b[0;34m.\u001b[0m\u001b[0mtime_end\u001b[0m\u001b[0;34m)\u001b[0m\u001b[0;34m\u001b[0m\u001b[0;34m\u001b[0m\u001b[0m\n\u001b[0m\u001b[1;32m      6\u001b[0m         \u001b[0;31m#uploadCloud()\u001b[0m\u001b[0;34m\u001b[0m\u001b[0;34m\u001b[0m\u001b[0;34m\u001b[0m\u001b[0m\n",
      "\u001b[0;32m/tmp/ipykernel_3383/2663529893.py\u001b[0m in \u001b[0;36mvideoClip\u001b[0;34m(filename, time_start, time_stop)\u001b[0m\n\u001b[1;32m      2\u001b[0m     \u001b[0mvideo_clip\u001b[0m \u001b[0;34m=\u001b[0m \u001b[0mVideoFileClip\u001b[0m\u001b[0;34m(\u001b[0m\u001b[0mPATH\u001b[0m \u001b[0;34m+\u001b[0m \u001b[0;34m\"download/\"\u001b[0m \u001b[0;34m+\u001b[0m \u001b[0;34m\"vid\"\u001b[0m \u001b[0;34m+\u001b[0m \u001b[0mfilename\u001b[0m \u001b[0;34m+\u001b[0m \u001b[0;34m\".mp4\"\u001b[0m\u001b[0;34m)\u001b[0m\u001b[0;34m\u001b[0m\u001b[0;34m\u001b[0m\u001b[0m\n\u001b[1;32m      3\u001b[0m     \u001b[0mvideo_clip\u001b[0m \u001b[0;34m=\u001b[0m \u001b[0mvideo_clip\u001b[0m\u001b[0;34m.\u001b[0m\u001b[0msubclip\u001b[0m\u001b[0;34m(\u001b[0m\u001b[0mtime_start\u001b[0m \u001b[0;34m-\u001b[0m \u001b[0;36m1\u001b[0m\u001b[0;34m,\u001b[0m \u001b[0mtime_stop\u001b[0m \u001b[0;34m-\u001b[0m \u001b[0;36m1\u001b[0m\u001b[0;34m)\u001b[0m\u001b[0;34m\u001b[0m\u001b[0;34m\u001b[0m\u001b[0m\n\u001b[0;32m----> 4\u001b[0;31m     \u001b[0mvideo_clip\u001b[0m\u001b[0;34m.\u001b[0m\u001b[0mwrite_videofile\u001b[0m\u001b[0;34m(\u001b[0m\u001b[0mPATH\u001b[0m \u001b[0;34m+\u001b[0m \u001b[0;34m\"upload/\"\u001b[0m \u001b[0;34m+\u001b[0m \u001b[0;34m\"vid\"\u001b[0m \u001b[0;34m+\u001b[0m \u001b[0mfilename\u001b[0m \u001b[0;34m+\u001b[0m \u001b[0;34m\"_cliped.mp4\"\u001b[0m\u001b[0;34m,\u001b[0m \u001b[0mfps\u001b[0m \u001b[0;34m=\u001b[0m \u001b[0;36m5\u001b[0m\u001b[0;34m)\u001b[0m\u001b[0;34m\u001b[0m\u001b[0;34m\u001b[0m\u001b[0m\n\u001b[0m\u001b[1;32m      5\u001b[0m     \u001b[0mos\u001b[0m\u001b[0;34m.\u001b[0m\u001b[0mremove\u001b[0m\u001b[0;34m(\u001b[0m\u001b[0mPATH\u001b[0m \u001b[0;34m+\u001b[0m \u001b[0;34m\"download/\"\u001b[0m \u001b[0;34m+\u001b[0m \u001b[0;34m\"vid\"\u001b[0m \u001b[0;34m+\u001b[0m \u001b[0mfilename\u001b[0m \u001b[0;34m+\u001b[0m \u001b[0;34m\".mp4\"\u001b[0m\u001b[0;34m)\u001b[0m\u001b[0;34m\u001b[0m\u001b[0;34m\u001b[0m\u001b[0m\n",
      "\u001b[0;32m<decorator-gen-171>\u001b[0m in \u001b[0;36mwrite_videofile\u001b[0;34m(self, filename, fps, codec, bitrate, audio, audio_fps, preset, audio_nbytes, audio_codec, audio_bitrate, audio_bufsize, temp_audiofile, rewrite_audio, remove_temp, write_logfile, verbose, threads, ffmpeg_params, logger)\u001b[0m\n",
      "\u001b[0;32m~/.pyenv/versions/3.8.12/envs/lw_final/lib/python3.8/site-packages/moviepy/decorators.py\u001b[0m in \u001b[0;36mrequires_duration\u001b[0;34m(f, clip, *a, **k)\u001b[0m\n\u001b[1;32m     52\u001b[0m         \u001b[0;32mraise\u001b[0m \u001b[0mValueError\u001b[0m\u001b[0;34m(\u001b[0m\u001b[0;34m\"Attribute 'duration' not set\"\u001b[0m\u001b[0;34m)\u001b[0m\u001b[0;34m\u001b[0m\u001b[0;34m\u001b[0m\u001b[0m\n\u001b[1;32m     53\u001b[0m     \u001b[0;32melse\u001b[0m\u001b[0;34m:\u001b[0m\u001b[0;34m\u001b[0m\u001b[0;34m\u001b[0m\u001b[0m\n\u001b[0;32m---> 54\u001b[0;31m         \u001b[0;32mreturn\u001b[0m \u001b[0mf\u001b[0m\u001b[0;34m(\u001b[0m\u001b[0mclip\u001b[0m\u001b[0;34m,\u001b[0m \u001b[0;34m*\u001b[0m\u001b[0ma\u001b[0m\u001b[0;34m,\u001b[0m \u001b[0;34m**\u001b[0m\u001b[0mk\u001b[0m\u001b[0;34m)\u001b[0m\u001b[0;34m\u001b[0m\u001b[0;34m\u001b[0m\u001b[0m\n\u001b[0m\u001b[1;32m     55\u001b[0m \u001b[0;34m\u001b[0m\u001b[0m\n\u001b[1;32m     56\u001b[0m \u001b[0;34m\u001b[0m\u001b[0m\n",
      "\u001b[0;32m<decorator-gen-170>\u001b[0m in \u001b[0;36mwrite_videofile\u001b[0;34m(self, filename, fps, codec, bitrate, audio, audio_fps, preset, audio_nbytes, audio_codec, audio_bitrate, audio_bufsize, temp_audiofile, rewrite_audio, remove_temp, write_logfile, verbose, threads, ffmpeg_params, logger)\u001b[0m\n",
      "\u001b[0;32m~/.pyenv/versions/3.8.12/envs/lw_final/lib/python3.8/site-packages/moviepy/decorators.py\u001b[0m in \u001b[0;36muse_clip_fps_by_default\u001b[0;34m(f, clip, *a, **k)\u001b[0m\n\u001b[1;32m    133\u001b[0m              for (k,v) in k.items()}\n\u001b[1;32m    134\u001b[0m \u001b[0;34m\u001b[0m\u001b[0m\n\u001b[0;32m--> 135\u001b[0;31m     \u001b[0;32mreturn\u001b[0m \u001b[0mf\u001b[0m\u001b[0;34m(\u001b[0m\u001b[0mclip\u001b[0m\u001b[0;34m,\u001b[0m \u001b[0;34m*\u001b[0m\u001b[0mnew_a\u001b[0m\u001b[0;34m,\u001b[0m \u001b[0;34m**\u001b[0m\u001b[0mnew_kw\u001b[0m\u001b[0;34m)\u001b[0m\u001b[0;34m\u001b[0m\u001b[0;34m\u001b[0m\u001b[0m\n\u001b[0m",
      "\u001b[0;32m<decorator-gen-169>\u001b[0m in \u001b[0;36mwrite_videofile\u001b[0;34m(self, filename, fps, codec, bitrate, audio, audio_fps, preset, audio_nbytes, audio_codec, audio_bitrate, audio_bufsize, temp_audiofile, rewrite_audio, remove_temp, write_logfile, verbose, threads, ffmpeg_params, logger)\u001b[0m\n",
      "\u001b[0;32m~/.pyenv/versions/3.8.12/envs/lw_final/lib/python3.8/site-packages/moviepy/decorators.py\u001b[0m in \u001b[0;36mconvert_masks_to_RGB\u001b[0;34m(f, clip, *a, **k)\u001b[0m\n\u001b[1;32m     20\u001b[0m     \u001b[0;32mif\u001b[0m \u001b[0mclip\u001b[0m\u001b[0;34m.\u001b[0m\u001b[0mismask\u001b[0m\u001b[0;34m:\u001b[0m\u001b[0;34m\u001b[0m\u001b[0;34m\u001b[0m\u001b[0m\n\u001b[1;32m     21\u001b[0m         \u001b[0mclip\u001b[0m \u001b[0;34m=\u001b[0m \u001b[0mclip\u001b[0m\u001b[0;34m.\u001b[0m\u001b[0mto_RGB\u001b[0m\u001b[0;34m(\u001b[0m\u001b[0;34m)\u001b[0m\u001b[0;34m\u001b[0m\u001b[0;34m\u001b[0m\u001b[0m\n\u001b[0;32m---> 22\u001b[0;31m     \u001b[0;32mreturn\u001b[0m \u001b[0mf\u001b[0m\u001b[0;34m(\u001b[0m\u001b[0mclip\u001b[0m\u001b[0;34m,\u001b[0m \u001b[0;34m*\u001b[0m\u001b[0ma\u001b[0m\u001b[0;34m,\u001b[0m \u001b[0;34m**\u001b[0m\u001b[0mk\u001b[0m\u001b[0;34m)\u001b[0m\u001b[0;34m\u001b[0m\u001b[0;34m\u001b[0m\u001b[0m\n\u001b[0m\u001b[1;32m     23\u001b[0m \u001b[0;34m\u001b[0m\u001b[0m\n\u001b[1;32m     24\u001b[0m \u001b[0;34m@\u001b[0m\u001b[0mdecorator\u001b[0m\u001b[0;34m.\u001b[0m\u001b[0mdecorator\u001b[0m\u001b[0;34m\u001b[0m\u001b[0;34m\u001b[0m\u001b[0m\n",
      "\u001b[0;32m~/.pyenv/versions/3.8.12/envs/lw_final/lib/python3.8/site-packages/moviepy/video/VideoClip.py\u001b[0m in \u001b[0;36mwrite_videofile\u001b[0;34m(self, filename, fps, codec, bitrate, audio, audio_fps, preset, audio_nbytes, audio_codec, audio_bitrate, audio_bufsize, temp_audiofile, rewrite_audio, remove_temp, write_logfile, verbose, threads, ffmpeg_params, logger)\u001b[0m\n\u001b[1;32m    291\u001b[0m         \u001b[0mlogger\u001b[0m\u001b[0;34m(\u001b[0m\u001b[0mmessage\u001b[0m\u001b[0;34m=\u001b[0m\u001b[0;34m\"Moviepy - Building video %s.\"\u001b[0m \u001b[0;34m%\u001b[0m \u001b[0mfilename\u001b[0m\u001b[0;34m)\u001b[0m\u001b[0;34m\u001b[0m\u001b[0;34m\u001b[0m\u001b[0m\n\u001b[1;32m    292\u001b[0m         \u001b[0;32mif\u001b[0m \u001b[0mmake_audio\u001b[0m\u001b[0;34m:\u001b[0m\u001b[0;34m\u001b[0m\u001b[0;34m\u001b[0m\u001b[0m\n\u001b[0;32m--> 293\u001b[0;31m             self.audio.write_audiofile(audiofile, audio_fps,\n\u001b[0m\u001b[1;32m    294\u001b[0m                                        \u001b[0maudio_nbytes\u001b[0m\u001b[0;34m,\u001b[0m \u001b[0maudio_bufsize\u001b[0m\u001b[0;34m,\u001b[0m\u001b[0;34m\u001b[0m\u001b[0;34m\u001b[0m\u001b[0m\n\u001b[1;32m    295\u001b[0m                                        \u001b[0maudio_codec\u001b[0m\u001b[0;34m,\u001b[0m \u001b[0mbitrate\u001b[0m\u001b[0;34m=\u001b[0m\u001b[0maudio_bitrate\u001b[0m\u001b[0;34m,\u001b[0m\u001b[0;34m\u001b[0m\u001b[0;34m\u001b[0m\u001b[0m\n",
      "\u001b[0;32m<decorator-gen-161>\u001b[0m in \u001b[0;36mwrite_audiofile\u001b[0;34m(self, filename, fps, nbytes, buffersize, codec, bitrate, ffmpeg_params, write_logfile, verbose, logger)\u001b[0m\n",
      "\u001b[0;32m~/.pyenv/versions/3.8.12/envs/lw_final/lib/python3.8/site-packages/moviepy/decorators.py\u001b[0m in \u001b[0;36mrequires_duration\u001b[0;34m(f, clip, *a, **k)\u001b[0m\n\u001b[1;32m     52\u001b[0m         \u001b[0;32mraise\u001b[0m \u001b[0mValueError\u001b[0m\u001b[0;34m(\u001b[0m\u001b[0;34m\"Attribute 'duration' not set\"\u001b[0m\u001b[0;34m)\u001b[0m\u001b[0;34m\u001b[0m\u001b[0;34m\u001b[0m\u001b[0m\n\u001b[1;32m     53\u001b[0m     \u001b[0;32melse\u001b[0m\u001b[0;34m:\u001b[0m\u001b[0;34m\u001b[0m\u001b[0;34m\u001b[0m\u001b[0m\n\u001b[0;32m---> 54\u001b[0;31m         \u001b[0;32mreturn\u001b[0m \u001b[0mf\u001b[0m\u001b[0;34m(\u001b[0m\u001b[0mclip\u001b[0m\u001b[0;34m,\u001b[0m \u001b[0;34m*\u001b[0m\u001b[0ma\u001b[0m\u001b[0;34m,\u001b[0m \u001b[0;34m**\u001b[0m\u001b[0mk\u001b[0m\u001b[0;34m)\u001b[0m\u001b[0;34m\u001b[0m\u001b[0;34m\u001b[0m\u001b[0m\n\u001b[0m\u001b[1;32m     55\u001b[0m \u001b[0;34m\u001b[0m\u001b[0m\n\u001b[1;32m     56\u001b[0m \u001b[0;34m\u001b[0m\u001b[0m\n",
      "\u001b[0;32m~/.pyenv/versions/3.8.12/envs/lw_final/lib/python3.8/site-packages/moviepy/audio/AudioClip.py\u001b[0m in \u001b[0;36mwrite_audiofile\u001b[0;34m(self, filename, fps, nbytes, buffersize, codec, bitrate, ffmpeg_params, write_logfile, verbose, logger)\u001b[0m\n\u001b[1;32m    204\u001b[0m                                  \"parameter in write_audiofile.\")\n\u001b[1;32m    205\u001b[0m \u001b[0;34m\u001b[0m\u001b[0m\n\u001b[0;32m--> 206\u001b[0;31m         return ffmpeg_audiowrite(self, filename, fps, nbytes, buffersize,\n\u001b[0m\u001b[1;32m    207\u001b[0m                                  \u001b[0mcodec\u001b[0m\u001b[0;34m=\u001b[0m\u001b[0mcodec\u001b[0m\u001b[0;34m,\u001b[0m \u001b[0mbitrate\u001b[0m\u001b[0;34m=\u001b[0m\u001b[0mbitrate\u001b[0m\u001b[0;34m,\u001b[0m\u001b[0;34m\u001b[0m\u001b[0;34m\u001b[0m\u001b[0m\n\u001b[1;32m    208\u001b[0m                                  \u001b[0mwrite_logfile\u001b[0m\u001b[0;34m=\u001b[0m\u001b[0mwrite_logfile\u001b[0m\u001b[0;34m,\u001b[0m \u001b[0mverbose\u001b[0m\u001b[0;34m=\u001b[0m\u001b[0mverbose\u001b[0m\u001b[0;34m,\u001b[0m\u001b[0;34m\u001b[0m\u001b[0;34m\u001b[0m\u001b[0m\n",
      "\u001b[0;32m<decorator-gen-125>\u001b[0m in \u001b[0;36mffmpeg_audiowrite\u001b[0;34m(clip, filename, fps, nbytes, buffersize, codec, bitrate, write_logfile, verbose, ffmpeg_params, logger)\u001b[0m\n",
      "\u001b[0;32m~/.pyenv/versions/3.8.12/envs/lw_final/lib/python3.8/site-packages/moviepy/decorators.py\u001b[0m in \u001b[0;36mrequires_duration\u001b[0;34m(f, clip, *a, **k)\u001b[0m\n\u001b[1;32m     52\u001b[0m         \u001b[0;32mraise\u001b[0m \u001b[0mValueError\u001b[0m\u001b[0;34m(\u001b[0m\u001b[0;34m\"Attribute 'duration' not set\"\u001b[0m\u001b[0;34m)\u001b[0m\u001b[0;34m\u001b[0m\u001b[0;34m\u001b[0m\u001b[0m\n\u001b[1;32m     53\u001b[0m     \u001b[0;32melse\u001b[0m\u001b[0;34m:\u001b[0m\u001b[0;34m\u001b[0m\u001b[0;34m\u001b[0m\u001b[0m\n\u001b[0;32m---> 54\u001b[0;31m         \u001b[0;32mreturn\u001b[0m \u001b[0mf\u001b[0m\u001b[0;34m(\u001b[0m\u001b[0mclip\u001b[0m\u001b[0;34m,\u001b[0m \u001b[0;34m*\u001b[0m\u001b[0ma\u001b[0m\u001b[0;34m,\u001b[0m \u001b[0;34m**\u001b[0m\u001b[0mk\u001b[0m\u001b[0;34m)\u001b[0m\u001b[0;34m\u001b[0m\u001b[0;34m\u001b[0m\u001b[0m\n\u001b[0m\u001b[1;32m     55\u001b[0m \u001b[0;34m\u001b[0m\u001b[0m\n\u001b[1;32m     56\u001b[0m \u001b[0;34m\u001b[0m\u001b[0m\n",
      "\u001b[0;32m~/.pyenv/versions/3.8.12/envs/lw_final/lib/python3.8/site-packages/moviepy/audio/io/ffmpeg_audiowriter.py\u001b[0m in \u001b[0;36mffmpeg_audiowrite\u001b[0;34m(clip, filename, fps, nbytes, buffersize, codec, bitrate, write_logfile, verbose, ffmpeg_params, logger)\u001b[0m\n\u001b[1;32m    164\u001b[0m                                 ffmpeg_params=ffmpeg_params)\n\u001b[1;32m    165\u001b[0m \u001b[0;34m\u001b[0m\u001b[0m\n\u001b[0;32m--> 166\u001b[0;31m     for chunk in clip.iter_chunks(chunksize=buffersize,\n\u001b[0m\u001b[1;32m    167\u001b[0m                                   \u001b[0mquantize\u001b[0m\u001b[0;34m=\u001b[0m\u001b[0;32mTrue\u001b[0m\u001b[0;34m,\u001b[0m\u001b[0;34m\u001b[0m\u001b[0;34m\u001b[0m\u001b[0m\n\u001b[1;32m    168\u001b[0m                                   \u001b[0mnbytes\u001b[0m\u001b[0;34m=\u001b[0m\u001b[0mnbytes\u001b[0m\u001b[0;34m,\u001b[0m \u001b[0mfps\u001b[0m\u001b[0;34m=\u001b[0m\u001b[0mfps\u001b[0m\u001b[0;34m,\u001b[0m\u001b[0;34m\u001b[0m\u001b[0;34m\u001b[0m\u001b[0m\n",
      "\u001b[0;32m~/.pyenv/versions/3.8.12/envs/lw_final/lib/python3.8/site-packages/moviepy/audio/AudioClip.py\u001b[0m in \u001b[0;36miter_chunks\u001b[0;34m(self, chunksize, chunk_duration, fps, quantize, nbytes, logger)\u001b[0m\n\u001b[1;32m     83\u001b[0m             \u001b[0;32massert\u001b[0m\u001b[0;34m(\u001b[0m\u001b[0msize\u001b[0m \u001b[0;34m<=\u001b[0m \u001b[0mchunksize\u001b[0m\u001b[0;34m)\u001b[0m\u001b[0;34m\u001b[0m\u001b[0;34m\u001b[0m\u001b[0m\n\u001b[1;32m     84\u001b[0m             \u001b[0mtt\u001b[0m \u001b[0;34m=\u001b[0m \u001b[0;34m(\u001b[0m\u001b[0;36m1.0\u001b[0m\u001b[0;34m/\u001b[0m\u001b[0mfps\u001b[0m\u001b[0;34m)\u001b[0m\u001b[0;34m*\u001b[0m\u001b[0mnp\u001b[0m\u001b[0;34m.\u001b[0m\u001b[0marange\u001b[0m\u001b[0;34m(\u001b[0m\u001b[0mpospos\u001b[0m\u001b[0;34m[\u001b[0m\u001b[0mi\u001b[0m\u001b[0;34m]\u001b[0m\u001b[0;34m,\u001b[0m \u001b[0mpospos\u001b[0m\u001b[0;34m[\u001b[0m\u001b[0mi\u001b[0m\u001b[0;34m+\u001b[0m\u001b[0;36m1\u001b[0m\u001b[0;34m]\u001b[0m\u001b[0;34m)\u001b[0m\u001b[0;34m\u001b[0m\u001b[0;34m\u001b[0m\u001b[0m\n\u001b[0;32m---> 85\u001b[0;31m             yield self.to_soundarray(tt, nbytes=nbytes, quantize=quantize,\n\u001b[0m\u001b[1;32m     86\u001b[0m                                         fps=fps, buffersize=chunksize)\n\u001b[1;32m     87\u001b[0m \u001b[0;34m\u001b[0m\u001b[0m\n",
      "\u001b[0;32m<decorator-gen-160>\u001b[0m in \u001b[0;36mto_soundarray\u001b[0;34m(self, tt, fps, quantize, nbytes, buffersize)\u001b[0m\n",
      "\u001b[0;32m~/.pyenv/versions/3.8.12/envs/lw_final/lib/python3.8/site-packages/moviepy/decorators.py\u001b[0m in \u001b[0;36mrequires_duration\u001b[0;34m(f, clip, *a, **k)\u001b[0m\n\u001b[1;32m     52\u001b[0m         \u001b[0;32mraise\u001b[0m \u001b[0mValueError\u001b[0m\u001b[0;34m(\u001b[0m\u001b[0;34m\"Attribute 'duration' not set\"\u001b[0m\u001b[0;34m)\u001b[0m\u001b[0;34m\u001b[0m\u001b[0;34m\u001b[0m\u001b[0m\n\u001b[1;32m     53\u001b[0m     \u001b[0;32melse\u001b[0m\u001b[0;34m:\u001b[0m\u001b[0;34m\u001b[0m\u001b[0;34m\u001b[0m\u001b[0m\n\u001b[0;32m---> 54\u001b[0;31m         \u001b[0;32mreturn\u001b[0m \u001b[0mf\u001b[0m\u001b[0;34m(\u001b[0m\u001b[0mclip\u001b[0m\u001b[0;34m,\u001b[0m \u001b[0;34m*\u001b[0m\u001b[0ma\u001b[0m\u001b[0;34m,\u001b[0m \u001b[0;34m**\u001b[0m\u001b[0mk\u001b[0m\u001b[0;34m)\u001b[0m\u001b[0;34m\u001b[0m\u001b[0;34m\u001b[0m\u001b[0m\n\u001b[0m\u001b[1;32m     55\u001b[0m \u001b[0;34m\u001b[0m\u001b[0m\n\u001b[1;32m     56\u001b[0m \u001b[0;34m\u001b[0m\u001b[0m\n",
      "\u001b[0;32m~/.pyenv/versions/3.8.12/envs/lw_final/lib/python3.8/site-packages/moviepy/audio/AudioClip.py\u001b[0m in \u001b[0;36mto_soundarray\u001b[0;34m(self, tt, fps, quantize, nbytes, buffersize)\u001b[0m\n\u001b[1;32m    125\u001b[0m         \u001b[0;31m#print tt.max() - tt.min(), tt.min(), tt.max()\u001b[0m\u001b[0;34m\u001b[0m\u001b[0;34m\u001b[0m\u001b[0;34m\u001b[0m\u001b[0m\n\u001b[1;32m    126\u001b[0m \u001b[0;34m\u001b[0m\u001b[0m\n\u001b[0;32m--> 127\u001b[0;31m         \u001b[0msnd_array\u001b[0m \u001b[0;34m=\u001b[0m \u001b[0mself\u001b[0m\u001b[0;34m.\u001b[0m\u001b[0mget_frame\u001b[0m\u001b[0;34m(\u001b[0m\u001b[0mtt\u001b[0m\u001b[0;34m)\u001b[0m\u001b[0;34m\u001b[0m\u001b[0;34m\u001b[0m\u001b[0m\n\u001b[0m\u001b[1;32m    128\u001b[0m \u001b[0;34m\u001b[0m\u001b[0m\n\u001b[1;32m    129\u001b[0m         \u001b[0;32mif\u001b[0m \u001b[0mquantize\u001b[0m\u001b[0;34m:\u001b[0m\u001b[0;34m\u001b[0m\u001b[0;34m\u001b[0m\u001b[0m\n",
      "\u001b[0;32m<decorator-gen-127>\u001b[0m in \u001b[0;36mget_frame\u001b[0;34m(self, t)\u001b[0m\n",
      "\u001b[0;32m~/.pyenv/versions/3.8.12/envs/lw_final/lib/python3.8/site-packages/moviepy/decorators.py\u001b[0m in \u001b[0;36mwrapper\u001b[0;34m(f, *a, **kw)\u001b[0m\n\u001b[1;32m     87\u001b[0m         new_kw = {k: fun(v) if k in varnames else v\n\u001b[1;32m     88\u001b[0m                  for (k,v) in kw.items()}\n\u001b[0;32m---> 89\u001b[0;31m         \u001b[0;32mreturn\u001b[0m \u001b[0mf\u001b[0m\u001b[0;34m(\u001b[0m\u001b[0;34m*\u001b[0m\u001b[0mnew_a\u001b[0m\u001b[0;34m,\u001b[0m \u001b[0;34m**\u001b[0m\u001b[0mnew_kw\u001b[0m\u001b[0;34m)\u001b[0m\u001b[0;34m\u001b[0m\u001b[0;34m\u001b[0m\u001b[0m\n\u001b[0m\u001b[1;32m     90\u001b[0m     \u001b[0;32mreturn\u001b[0m \u001b[0mdecorator\u001b[0m\u001b[0;34m.\u001b[0m\u001b[0mdecorator\u001b[0m\u001b[0;34m(\u001b[0m\u001b[0mwrapper\u001b[0m\u001b[0;34m)\u001b[0m\u001b[0;34m\u001b[0m\u001b[0;34m\u001b[0m\u001b[0m\n\u001b[1;32m     91\u001b[0m \u001b[0;34m\u001b[0m\u001b[0m\n",
      "\u001b[0;32m~/.pyenv/versions/3.8.12/envs/lw_final/lib/python3.8/site-packages/moviepy/Clip.py\u001b[0m in \u001b[0;36mget_frame\u001b[0;34m(self, t)\u001b[0m\n\u001b[1;32m     91\u001b[0m                 \u001b[0;32mreturn\u001b[0m \u001b[0mframe\u001b[0m\u001b[0;34m\u001b[0m\u001b[0;34m\u001b[0m\u001b[0m\n\u001b[1;32m     92\u001b[0m         \u001b[0;32melse\u001b[0m\u001b[0;34m:\u001b[0m\u001b[0;34m\u001b[0m\u001b[0;34m\u001b[0m\u001b[0m\n\u001b[0;32m---> 93\u001b[0;31m             \u001b[0;32mreturn\u001b[0m \u001b[0mself\u001b[0m\u001b[0;34m.\u001b[0m\u001b[0mmake_frame\u001b[0m\u001b[0;34m(\u001b[0m\u001b[0mt\u001b[0m\u001b[0;34m)\u001b[0m\u001b[0;34m\u001b[0m\u001b[0;34m\u001b[0m\u001b[0m\n\u001b[0m\u001b[1;32m     94\u001b[0m \u001b[0;34m\u001b[0m\u001b[0m\n\u001b[1;32m     95\u001b[0m     \u001b[0;32mdef\u001b[0m \u001b[0mfl\u001b[0m\u001b[0;34m(\u001b[0m\u001b[0mself\u001b[0m\u001b[0;34m,\u001b[0m \u001b[0mfun\u001b[0m\u001b[0;34m,\u001b[0m \u001b[0mapply_to\u001b[0m\u001b[0;34m=\u001b[0m\u001b[0;32mNone\u001b[0m\u001b[0;34m,\u001b[0m \u001b[0mkeep_duration\u001b[0m\u001b[0;34m=\u001b[0m\u001b[0;32mTrue\u001b[0m\u001b[0;34m)\u001b[0m\u001b[0;34m:\u001b[0m\u001b[0;34m\u001b[0m\u001b[0;34m\u001b[0m\u001b[0m\n",
      "\u001b[0;32m~/.pyenv/versions/3.8.12/envs/lw_final/lib/python3.8/site-packages/moviepy/Clip.py\u001b[0m in \u001b[0;36m<lambda>\u001b[0;34m(t)\u001b[0m\n\u001b[1;32m    134\u001b[0m \u001b[0;34m\u001b[0m\u001b[0m\n\u001b[1;32m    135\u001b[0m         \u001b[0;31m#mf = copy(self.make_frame)\u001b[0m\u001b[0;34m\u001b[0m\u001b[0;34m\u001b[0m\u001b[0;34m\u001b[0m\u001b[0m\n\u001b[0;32m--> 136\u001b[0;31m         \u001b[0mnewclip\u001b[0m \u001b[0;34m=\u001b[0m \u001b[0mself\u001b[0m\u001b[0;34m.\u001b[0m\u001b[0mset_make_frame\u001b[0m\u001b[0;34m(\u001b[0m\u001b[0;32mlambda\u001b[0m \u001b[0mt\u001b[0m\u001b[0;34m:\u001b[0m \u001b[0mfun\u001b[0m\u001b[0;34m(\u001b[0m\u001b[0mself\u001b[0m\u001b[0;34m.\u001b[0m\u001b[0mget_frame\u001b[0m\u001b[0;34m,\u001b[0m \u001b[0mt\u001b[0m\u001b[0;34m)\u001b[0m\u001b[0;34m)\u001b[0m\u001b[0;34m\u001b[0m\u001b[0;34m\u001b[0m\u001b[0m\n\u001b[0m\u001b[1;32m    137\u001b[0m \u001b[0;34m\u001b[0m\u001b[0m\n\u001b[1;32m    138\u001b[0m         \u001b[0;32mif\u001b[0m \u001b[0;32mnot\u001b[0m \u001b[0mkeep_duration\u001b[0m\u001b[0;34m:\u001b[0m\u001b[0;34m\u001b[0m\u001b[0;34m\u001b[0m\u001b[0m\n",
      "\u001b[0;32m~/.pyenv/versions/3.8.12/envs/lw_final/lib/python3.8/site-packages/moviepy/Clip.py\u001b[0m in \u001b[0;36m<lambda>\u001b[0;34m(gf, t)\u001b[0m\n\u001b[1;32m    185\u001b[0m             \u001b[0mapply_to\u001b[0m \u001b[0;34m=\u001b[0m \u001b[0;34m[\u001b[0m\u001b[0;34m]\u001b[0m\u001b[0;34m\u001b[0m\u001b[0;34m\u001b[0m\u001b[0m\n\u001b[1;32m    186\u001b[0m \u001b[0;34m\u001b[0m\u001b[0m\n\u001b[0;32m--> 187\u001b[0;31m         return self.fl(lambda gf, t: gf(t_func(t)), apply_to,\n\u001b[0m\u001b[1;32m    188\u001b[0m                        keep_duration=keep_duration)\n\u001b[1;32m    189\u001b[0m \u001b[0;34m\u001b[0m\u001b[0m\n",
      "\u001b[0;32m<decorator-gen-127>\u001b[0m in \u001b[0;36mget_frame\u001b[0;34m(self, t)\u001b[0m\n",
      "\u001b[0;32m~/.pyenv/versions/3.8.12/envs/lw_final/lib/python3.8/site-packages/moviepy/decorators.py\u001b[0m in \u001b[0;36mwrapper\u001b[0;34m(f, *a, **kw)\u001b[0m\n\u001b[1;32m     87\u001b[0m         new_kw = {k: fun(v) if k in varnames else v\n\u001b[1;32m     88\u001b[0m                  for (k,v) in kw.items()}\n\u001b[0;32m---> 89\u001b[0;31m         \u001b[0;32mreturn\u001b[0m \u001b[0mf\u001b[0m\u001b[0;34m(\u001b[0m\u001b[0;34m*\u001b[0m\u001b[0mnew_a\u001b[0m\u001b[0;34m,\u001b[0m \u001b[0;34m**\u001b[0m\u001b[0mnew_kw\u001b[0m\u001b[0;34m)\u001b[0m\u001b[0;34m\u001b[0m\u001b[0;34m\u001b[0m\u001b[0m\n\u001b[0m\u001b[1;32m     90\u001b[0m     \u001b[0;32mreturn\u001b[0m \u001b[0mdecorator\u001b[0m\u001b[0;34m.\u001b[0m\u001b[0mdecorator\u001b[0m\u001b[0;34m(\u001b[0m\u001b[0mwrapper\u001b[0m\u001b[0;34m)\u001b[0m\u001b[0;34m\u001b[0m\u001b[0;34m\u001b[0m\u001b[0m\n\u001b[1;32m     91\u001b[0m \u001b[0;34m\u001b[0m\u001b[0m\n",
      "\u001b[0;32m~/.pyenv/versions/3.8.12/envs/lw_final/lib/python3.8/site-packages/moviepy/Clip.py\u001b[0m in \u001b[0;36mget_frame\u001b[0;34m(self, t)\u001b[0m\n\u001b[1;32m     91\u001b[0m                 \u001b[0;32mreturn\u001b[0m \u001b[0mframe\u001b[0m\u001b[0;34m\u001b[0m\u001b[0;34m\u001b[0m\u001b[0m\n\u001b[1;32m     92\u001b[0m         \u001b[0;32melse\u001b[0m\u001b[0;34m:\u001b[0m\u001b[0;34m\u001b[0m\u001b[0;34m\u001b[0m\u001b[0m\n\u001b[0;32m---> 93\u001b[0;31m             \u001b[0;32mreturn\u001b[0m \u001b[0mself\u001b[0m\u001b[0;34m.\u001b[0m\u001b[0mmake_frame\u001b[0m\u001b[0;34m(\u001b[0m\u001b[0mt\u001b[0m\u001b[0;34m)\u001b[0m\u001b[0;34m\u001b[0m\u001b[0;34m\u001b[0m\u001b[0m\n\u001b[0m\u001b[1;32m     94\u001b[0m \u001b[0;34m\u001b[0m\u001b[0m\n\u001b[1;32m     95\u001b[0m     \u001b[0;32mdef\u001b[0m \u001b[0mfl\u001b[0m\u001b[0;34m(\u001b[0m\u001b[0mself\u001b[0m\u001b[0;34m,\u001b[0m \u001b[0mfun\u001b[0m\u001b[0;34m,\u001b[0m \u001b[0mapply_to\u001b[0m\u001b[0;34m=\u001b[0m\u001b[0;32mNone\u001b[0m\u001b[0;34m,\u001b[0m \u001b[0mkeep_duration\u001b[0m\u001b[0;34m=\u001b[0m\u001b[0;32mTrue\u001b[0m\u001b[0;34m)\u001b[0m\u001b[0;34m:\u001b[0m\u001b[0;34m\u001b[0m\u001b[0;34m\u001b[0m\u001b[0m\n",
      "\u001b[0;32m~/.pyenv/versions/3.8.12/envs/lw_final/lib/python3.8/site-packages/moviepy/audio/io/AudioFileClip.py\u001b[0m in \u001b[0;36m<lambda>\u001b[0;34m(t)\u001b[0m\n\u001b[1;32m     75\u001b[0m         \u001b[0mself\u001b[0m\u001b[0;34m.\u001b[0m\u001b[0mbuffersize\u001b[0m \u001b[0;34m=\u001b[0m \u001b[0mself\u001b[0m\u001b[0;34m.\u001b[0m\u001b[0mreader\u001b[0m\u001b[0;34m.\u001b[0m\u001b[0mbuffersize\u001b[0m\u001b[0;34m\u001b[0m\u001b[0;34m\u001b[0m\u001b[0m\n\u001b[1;32m     76\u001b[0m \u001b[0;34m\u001b[0m\u001b[0m\n\u001b[0;32m---> 77\u001b[0;31m         \u001b[0mself\u001b[0m\u001b[0;34m.\u001b[0m\u001b[0mmake_frame\u001b[0m \u001b[0;34m=\u001b[0m \u001b[0;32mlambda\u001b[0m \u001b[0mt\u001b[0m\u001b[0;34m:\u001b[0m \u001b[0mself\u001b[0m\u001b[0;34m.\u001b[0m\u001b[0mreader\u001b[0m\u001b[0;34m.\u001b[0m\u001b[0mget_frame\u001b[0m\u001b[0;34m(\u001b[0m\u001b[0mt\u001b[0m\u001b[0;34m)\u001b[0m\u001b[0;34m\u001b[0m\u001b[0;34m\u001b[0m\u001b[0m\n\u001b[0m\u001b[1;32m     78\u001b[0m         \u001b[0mself\u001b[0m\u001b[0;34m.\u001b[0m\u001b[0mnchannels\u001b[0m \u001b[0;34m=\u001b[0m \u001b[0mself\u001b[0m\u001b[0;34m.\u001b[0m\u001b[0mreader\u001b[0m\u001b[0;34m.\u001b[0m\u001b[0mnchannels\u001b[0m\u001b[0;34m\u001b[0m\u001b[0;34m\u001b[0m\u001b[0m\n\u001b[1;32m     79\u001b[0m \u001b[0;34m\u001b[0m\u001b[0m\n",
      "\u001b[0;32m~/.pyenv/versions/3.8.12/envs/lw_final/lib/python3.8/site-packages/moviepy/audio/io/readers.py\u001b[0m in \u001b[0;36mget_frame\u001b[0;34m(self, tt)\u001b[0m\n\u001b[1;32m    168\u001b[0m         \u001b[0;31m# Check that the requested time is in the valid range\u001b[0m\u001b[0;34m\u001b[0m\u001b[0;34m\u001b[0m\u001b[0;34m\u001b[0m\u001b[0m\n\u001b[1;32m    169\u001b[0m             \u001b[0;32mif\u001b[0m \u001b[0;32mnot\u001b[0m \u001b[0min_time\u001b[0m\u001b[0;34m.\u001b[0m\u001b[0many\u001b[0m\u001b[0;34m(\u001b[0m\u001b[0;34m)\u001b[0m\u001b[0;34m:\u001b[0m\u001b[0;34m\u001b[0m\u001b[0;34m\u001b[0m\u001b[0m\n\u001b[0;32m--> 170\u001b[0;31m                 raise IOError(\"Error in file %s, \"%(self.filename)+\n\u001b[0m\u001b[1;32m    171\u001b[0m                        \u001b[0;34m\"Accessing time t=%.02f-%.02f seconds, \"\u001b[0m\u001b[0;34m%\u001b[0m\u001b[0;34m(\u001b[0m\u001b[0mtt\u001b[0m\u001b[0;34m[\u001b[0m\u001b[0;36m0\u001b[0m\u001b[0;34m]\u001b[0m\u001b[0;34m,\u001b[0m \u001b[0mtt\u001b[0m\u001b[0;34m[\u001b[0m\u001b[0;34m-\u001b[0m\u001b[0;36m1\u001b[0m\u001b[0;34m]\u001b[0m\u001b[0;34m)\u001b[0m\u001b[0;34m+\u001b[0m\u001b[0;34m\u001b[0m\u001b[0;34m\u001b[0m\u001b[0m\n\u001b[1;32m    172\u001b[0m                        \"with clip duration=%d seconds, \"%self.duration)\n",
      "\u001b[0;31mOSError\u001b[0m: Error in file /home/lockke/code/Koprivnica/737-human-action-recognition/737-human-action-recognition/data/download/vid--33Lscn6sk.mp4, Accessing time t=10.47-10.51 seconds, with clip duration=10 seconds, "
     ]
    },
    {
     "name": "stderr",
     "output_type": "stream",
     "text": [
      "\n",
      "\n",
      "\n",
      "\n",
      "\n",
      "\n",
      "chunk:  75%|██████████████████████████████████████████████▌               | 166/221 [00:16<00:00, 1618.22it/s, now=None]\u001b[A\u001b[A\u001b[A\u001b[A\u001b[A\u001b[A"
     ]
    }
   ],
   "source": [
    "clip_upload(df)"
   ]
  },
  {
   "cell_type": "code",
   "execution_count": null,
   "id": "544326c3",
   "metadata": {},
   "outputs": [],
   "source": []
  },
  {
   "cell_type": "code",
   "execution_count": null,
   "id": "07d37d13",
   "metadata": {},
   "outputs": [],
   "source": []
  },
  {
   "cell_type": "code",
   "execution_count": null,
   "id": "1e3bb47e",
   "metadata": {},
   "outputs": [],
   "source": []
  },
  {
   "cell_type": "code",
   "execution_count": null,
   "id": "e103b329",
   "metadata": {},
   "outputs": [],
   "source": [
    "def main():\n",
    "    ---> get dataframe - function\n",
    "    ---> remove videos where time_end > 300 - function\n",
    "    ---> remove\n",
    "    ---> iterate through all datapoints:\n",
    "        ---> YouTube()\n",
    "        ---> exceptions\n",
    "        ---> remove video where video.length > 300\n",
    "        ---> download video\n",
    "        ---> \n",
    "    "
   ]
  },
  {
   "cell_type": "code",
   "execution_count": null,
   "id": "56da6165",
   "metadata": {},
   "outputs": [],
   "source": []
  },
  {
   "cell_type": "code",
   "execution_count": null,
   "id": "bc6abf67",
   "metadata": {},
   "outputs": [],
   "source": []
  },
  {
   "cell_type": "code",
   "execution_count": null,
   "id": "3f9169c8",
   "metadata": {},
   "outputs": [],
   "source": []
  },
  {
   "cell_type": "code",
   "execution_count": null,
   "id": "7f6b824b",
   "metadata": {},
   "outputs": [],
   "source": [
    "main function"
   ]
  },
  {
   "cell_type": "code",
   "execution_count": null,
   "id": "f3d0093c",
   "metadata": {},
   "outputs": [],
   "source": [
    "function to get data\n",
    "    create df from csv\n",
    "    ad new column called length\n",
    "    remove missing videos\n",
    "    non matching timestamps?\n",
    "    remove datapoints with length > ???\n",
    "    ---> return new df"
   ]
  },
  {
   "cell_type": "code",
   "execution_count": null,
   "id": "e5ac9f20",
   "metadata": {},
   "outputs": [],
   "source": [
    "check if data is balanced\n",
    "removing labels?\n",
    "    ---> return new df?"
   ]
  },
  {
   "cell_type": "code",
   "execution_count": null,
   "id": "8a20c88f",
   "metadata": {},
   "outputs": [],
   "source": [
    "function to download and clip and store data\n",
    "    store video locally\n",
    "    clip video and upload it to google\n",
    "    delete local video"
   ]
  },
  {
   "cell_type": "code",
   "execution_count": null,
   "id": "bf501e19",
   "metadata": {},
   "outputs": [],
   "source": [
    "creating bucket and folder structure stuff in google cloud\n",
    "    decide which cloud account\n",
    "    folders to separate data by numbers, like 50 videos per folder"
   ]
  },
  {
   "cell_type": "code",
   "execution_count": null,
   "id": "63c08e06",
   "metadata": {},
   "outputs": [],
   "source": [
    "creating a basemodel prediction"
   ]
  },
  {
   "cell_type": "code",
   "execution_count": null,
   "id": "bcf66a96",
   "metadata": {},
   "outputs": [],
   "source": [
    "functions to work on video we want to predict"
   ]
  },
  {
   "cell_type": "code",
   "execution_count": null,
   "id": "3ca9ef5f",
   "metadata": {},
   "outputs": [],
   "source": []
  }
 ],
 "metadata": {
  "kernelspec": {
   "display_name": "Python 3 (ipykernel)",
   "language": "python",
   "name": "python3"
  },
  "language_info": {
   "codemirror_mode": {
    "name": "ipython",
    "version": 3
   },
   "file_extension": ".py",
   "mimetype": "text/x-python",
   "name": "python",
   "nbconvert_exporter": "python",
   "pygments_lexer": "ipython3",
   "version": "3.8.12"
  },
  "toc": {
   "base_numbering": 1,
   "nav_menu": {},
   "number_sections": true,
   "sideBar": true,
   "skip_h1_title": false,
   "title_cell": "Table of Contents",
   "title_sidebar": "Contents",
   "toc_cell": false,
   "toc_position": {},
   "toc_section_display": true,
   "toc_window_display": false
  }
 },
 "nbformat": 4,
 "nbformat_minor": 5
}
